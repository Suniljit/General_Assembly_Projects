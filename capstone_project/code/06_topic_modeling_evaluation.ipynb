{
 "cells": [
  {
   "cell_type": "markdown",
   "id": "3e7f9ea4-ebc7-4541-af5d-7c8cbc1b33a9",
   "metadata": {
    "jp-MarkdownHeadingCollapsed": true,
    "tags": []
   },
   "source": [
    "# Capstone Project: Topic Modelling of Academic Journals (Model-Based Systems Engineering)"
   ]
  },
  {
   "cell_type": "markdown",
   "id": "62c83ece-a75d-420a-8d38-cb74fd6d54ed",
   "metadata": {},
   "source": [
    "# 06: Topic Modeling Evaluation"
   ]
  },
  {
   "cell_type": "markdown",
   "id": "1b0a31e9-0188-4cca-a174-1b3542a4e068",
   "metadata": {},
   "source": [
    "In this notebook, we will perform the following actions:\n",
    "1. Evaluation of the topic modeling output"
   ]
  },
  {
   "cell_type": "markdown",
   "id": "6cdff992-4c67-4de1-b296-a6d81278244b",
   "metadata": {},
   "source": [
    "## Import Libraries"
   ]
  },
  {
   "cell_type": "code",
   "execution_count": 1,
   "id": "a526d9e3-e212-4099-b622-5ef395e395e2",
   "metadata": {},
   "outputs": [
    {
     "name": "stderr",
     "output_type": "stream",
     "text": [
      "<frozen importlib._bootstrap>:228: RuntimeWarning: scipy._lib.messagestream.MessageStream size changed, may indicate binary incompatibility. Expected 56 from C header, got 64 from PyObject\n"
     ]
    }
   ],
   "source": [
    "# Import the necessary libraries\n",
    "import numpy as np\n",
    "import pandas as pd\n",
    "import matplotlib.pyplot as plt\n",
    "import pickle\n",
    "import seaborn as sns\n",
    "\n",
    "from wordcloud import WordCloud\n",
    "\n",
    "# Set all columns and rows to be displayed\n",
    "pd.set_option('display.max_columns', None)\n",
    "pd.set_option('display.max_rows', None)"
   ]
  },
  {
   "cell_type": "markdown",
   "id": "f52287f4-adc2-46f5-bccf-d637abf71afb",
   "metadata": {},
   "source": [
    "## Import Data"
   ]
  },
  {
   "cell_type": "code",
   "execution_count": 2,
   "id": "9c9851fb-181e-4cb5-aac6-00194d1f24cc",
   "metadata": {},
   "outputs": [],
   "source": [
    "# Import the data for modelling\n",
    "journals = pd.read_csv('../data/journals_topics.csv')"
   ]
  },
  {
   "cell_type": "code",
   "execution_count": 3,
   "id": "8fc1b9de-debb-46d6-940a-f366cc0090a7",
   "metadata": {},
   "outputs": [
    {
     "data": {
      "text/html": [
       "<div>\n",
       "<style scoped>\n",
       "    .dataframe tbody tr th:only-of-type {\n",
       "        vertical-align: middle;\n",
       "    }\n",
       "\n",
       "    .dataframe tbody tr th {\n",
       "        vertical-align: top;\n",
       "    }\n",
       "\n",
       "    .dataframe thead th {\n",
       "        text-align: right;\n",
       "    }\n",
       "</style>\n",
       "<table border=\"1\" class=\"dataframe\">\n",
       "  <thead>\n",
       "    <tr style=\"text-align: right;\">\n",
       "      <th></th>\n",
       "      <th>title</th>\n",
       "      <th>abstract</th>\n",
       "      <th>year</th>\n",
       "      <th>tokens</th>\n",
       "      <th>topic</th>\n",
       "      <th>0</th>\n",
       "      <th>1</th>\n",
       "      <th>2</th>\n",
       "      <th>3</th>\n",
       "      <th>4</th>\n",
       "      <th>5</th>\n",
       "      <th>6</th>\n",
       "      <th>7</th>\n",
       "    </tr>\n",
       "  </thead>\n",
       "  <tbody>\n",
       "    <tr>\n",
       "      <th>0</th>\n",
       "      <td>Model-based Design Process for the Early Phase...</td>\n",
       "      <td>This paper presents an approach for a model-ba...</td>\n",
       "      <td>2017</td>\n",
       "      <td>paper present approach planning process early ...</td>\n",
       "      <td>3</td>\n",
       "      <td>0.134677</td>\n",
       "      <td>0.049330</td>\n",
       "      <td>0.121864</td>\n",
       "      <td>0.157459</td>\n",
       "      <td>0.018720</td>\n",
       "      <td>0.165620</td>\n",
       "      <td>0.034708</td>\n",
       "      <td>0.056888</td>\n",
       "    </tr>\n",
       "    <tr>\n",
       "      <th>1</th>\n",
       "      <td>Model Based Systems Engineering using VHDL-AMS</td>\n",
       "      <td>The purpose of this paper is to contribute to ...</td>\n",
       "      <td>2013</td>\n",
       "      <td>purpose paper contribute definition ( ) approa...</td>\n",
       "      <td>6</td>\n",
       "      <td>0.166052</td>\n",
       "      <td>0.053813</td>\n",
       "      <td>0.101767</td>\n",
       "      <td>0.040338</td>\n",
       "      <td>0.025920</td>\n",
       "      <td>0.180074</td>\n",
       "      <td>0.204835</td>\n",
       "      <td>0.046355</td>\n",
       "    </tr>\n",
       "    <tr>\n",
       "      <th>2</th>\n",
       "      <td>Code Generation Approach Supporting Complex Sy...</td>\n",
       "      <td>Code generation is an effective way to drive t...</td>\n",
       "      <td>2022</td>\n",
       "      <td>code generation effective way drive complex de...</td>\n",
       "      <td>5</td>\n",
       "      <td>0.048002</td>\n",
       "      <td>0.023436</td>\n",
       "      <td>0.040045</td>\n",
       "      <td>0.012378</td>\n",
       "      <td>0.006812</td>\n",
       "      <td>0.110110</td>\n",
       "      <td>0.013624</td>\n",
       "      <td>0.015338</td>\n",
       "    </tr>\n",
       "    <tr>\n",
       "      <th>3</th>\n",
       "      <td>Model based systems engineering as enabler for...</td>\n",
       "      <td>Product complexity is steadily increasing, cus...</td>\n",
       "      <td>2021</td>\n",
       "      <td>product complexity steadily increasing , custo...</td>\n",
       "      <td>3</td>\n",
       "      <td>0.144370</td>\n",
       "      <td>0.045020</td>\n",
       "      <td>0.161951</td>\n",
       "      <td>0.335414</td>\n",
       "      <td>0.020165</td>\n",
       "      <td>0.169411</td>\n",
       "      <td>0.040359</td>\n",
       "      <td>0.061398</td>\n",
       "    </tr>\n",
       "    <tr>\n",
       "      <th>4</th>\n",
       "      <td>Electric Drive Vehicle Development and Evaluat...</td>\n",
       "      <td>To reduce development time and introduce techn...</td>\n",
       "      <td>2014</td>\n",
       "      <td>reduce development time introduce technology f...</td>\n",
       "      <td>0</td>\n",
       "      <td>0.487260</td>\n",
       "      <td>0.042662</td>\n",
       "      <td>0.097253</td>\n",
       "      <td>0.059448</td>\n",
       "      <td>0.029092</td>\n",
       "      <td>0.165888</td>\n",
       "      <td>0.037608</td>\n",
       "      <td>0.069110</td>\n",
       "    </tr>\n",
       "  </tbody>\n",
       "</table>\n",
       "</div>"
      ],
      "text/plain": [
       "                                               title  \\\n",
       "0  Model-based Design Process for the Early Phase...   \n",
       "1     Model Based Systems Engineering using VHDL-AMS   \n",
       "2  Code Generation Approach Supporting Complex Sy...   \n",
       "3  Model based systems engineering as enabler for...   \n",
       "4  Electric Drive Vehicle Development and Evaluat...   \n",
       "\n",
       "                                            abstract  year  \\\n",
       "0  This paper presents an approach for a model-ba...  2017   \n",
       "1  The purpose of this paper is to contribute to ...  2013   \n",
       "2  Code generation is an effective way to drive t...  2022   \n",
       "3  Product complexity is steadily increasing, cus...  2021   \n",
       "4  To reduce development time and introduce techn...  2014   \n",
       "\n",
       "                                              tokens  topic         0  \\\n",
       "0  paper present approach planning process early ...      3  0.134677   \n",
       "1  purpose paper contribute definition ( ) approa...      6  0.166052   \n",
       "2  code generation effective way drive complex de...      5  0.048002   \n",
       "3  product complexity steadily increasing , custo...      3  0.144370   \n",
       "4  reduce development time introduce technology f...      0  0.487260   \n",
       "\n",
       "          1         2         3         4         5         6         7  \n",
       "0  0.049330  0.121864  0.157459  0.018720  0.165620  0.034708  0.056888  \n",
       "1  0.053813  0.101767  0.040338  0.025920  0.180074  0.204835  0.046355  \n",
       "2  0.023436  0.040045  0.012378  0.006812  0.110110  0.013624  0.015338  \n",
       "3  0.045020  0.161951  0.335414  0.020165  0.169411  0.040359  0.061398  \n",
       "4  0.042662  0.097253  0.059448  0.029092  0.165888  0.037608  0.069110  "
      ]
     },
     "execution_count": 3,
     "metadata": {},
     "output_type": "execute_result"
    }
   ],
   "source": [
    "# Take a quick look at the data\n",
    "journals.head()"
   ]
  },
  {
   "cell_type": "markdown",
   "id": "c502d844-86bc-4310-a44b-6316bc975cee",
   "metadata": {},
   "source": [
    "## Labels Identified from the Topic Model"
   ]
  },
  {
   "cell_type": "markdown",
   "id": "d10c1a48-5bb8-4c3b-95f3-c67d455ff3fc",
   "metadata": {},
   "source": [
    "Here, we will take a look at the key words extracted for each topic, as well as the top few articles of each topic to properly identify and assess intent behind each topic. We will then apply this information as well as our domain knowledge to generate a proper label for each topic."
   ]
  },
  {
   "cell_type": "markdown",
   "id": "500138e8-bdcd-4bda-a853-9712d633dd5a",
   "metadata": {},
   "source": [
    "|Topic| Top 10 Key Words for Topic| Topic Label Using Domain Knowledge|\n",
    "|-----|---------------------------|-----------------------------------|\n",
    "|Topic 0| cubesat, vehicle, spacecraft, satelite, requirement, nasa, modeling, submarine, payload, electric vehicle| Application of MBSE in Projects|\n",
    "|Topic 1| sysml, modeling, simulation, modeling language, uml, language sysml, diagram, modeling language sysml, software, specification||\n",
    "|Topic 2| ontology, research, reuse, paper, industry, knowledge, semantic, tool, modeling, database||\n",
    "|Topic 3| development, product development, production, process, manufacturing, industrial, iot, product line, toolchain, development process||\n",
    "|Topic 4| reliability, safety analysis, fmea, fault tree, design safety, safety artifact, medical device, reliability analysis, failure mode, safety critical||\n",
    "|Topic 5| mechatronic, inspection, inspection equipment, production scheduling, modeling, constraint, business rule, validation, property verification, mecahtronic product||\n",
    "|Topic 6| requirement, design, engineer, specification, hcd, wfrequirements, text-based requirement, cm process, property-based requirement, methodology||\n",
    "|Topic 7| digital twin, cyber, resilience, mbsecps, simplexity test-bed, security threat, vulnerability, twin technology, risk assessment, cpg||\n"
   ]
  },
  {
   "cell_type": "code",
   "execution_count": 15,
   "id": "d87ff1e5-cdf4-4cab-97c8-88a1bac40847",
   "metadata": {
    "scrolled": true,
    "tags": []
   },
   "outputs": [
    {
     "data": {
      "text/html": [
       "<div>\n",
       "<style scoped>\n",
       "    .dataframe tbody tr th:only-of-type {\n",
       "        vertical-align: middle;\n",
       "    }\n",
       "\n",
       "    .dataframe tbody tr th {\n",
       "        vertical-align: top;\n",
       "    }\n",
       "\n",
       "    .dataframe thead th {\n",
       "        text-align: right;\n",
       "    }\n",
       "</style>\n",
       "<table border=\"1\" class=\"dataframe\">\n",
       "  <thead>\n",
       "    <tr style=\"text-align: right;\">\n",
       "      <th></th>\n",
       "      <th>title</th>\n",
       "      <th>abstract</th>\n",
       "      <th>0</th>\n",
       "    </tr>\n",
       "  </thead>\n",
       "  <tbody>\n",
       "    <tr>\n",
       "      <th>719</th>\n",
       "      <td>Forward Design of Landing Gear Retraction Syst...</td>\n",
       "      <td>In this paper, according to the forward design...</td>\n",
       "      <td>1.0</td>\n",
       "    </tr>\n",
       "    <tr>\n",
       "      <th>422</th>\n",
       "      <td>The Economic Benefits of Human Performance Mod...</td>\n",
       "      <td>Abstract Human performance modeling (HPM) is a...</td>\n",
       "      <td>1.0</td>\n",
       "    </tr>\n",
       "    <tr>\n",
       "      <th>582</th>\n",
       "      <td>MBSE approach to support and formalize mission...</td>\n",
       "      <td>This paper deals with the application of a Mod...</td>\n",
       "      <td>1.0</td>\n",
       "    </tr>\n",
       "    <tr>\n",
       "      <th>52</th>\n",
       "      <td>Model-Based Systems Engineering approach for t...</td>\n",
       "      <td>The Origins Spectral Interpretation Resource I...</td>\n",
       "      <td>1.0</td>\n",
       "    </tr>\n",
       "    <tr>\n",
       "      <th>820</th>\n",
       "      <td>The Digital (Mission) Twin: an Integrating Con...</td>\n",
       "      <td>Top-down decomposition of a complex system of ...</td>\n",
       "      <td>1.0</td>\n",
       "    </tr>\n",
       "  </tbody>\n",
       "</table>\n",
       "</div>"
      ],
      "text/plain": [
       "                                                 title  \\\n",
       "719  Forward Design of Landing Gear Retraction Syst...   \n",
       "422  The Economic Benefits of Human Performance Mod...   \n",
       "582  MBSE approach to support and formalize mission...   \n",
       "52   Model-Based Systems Engineering approach for t...   \n",
       "820  The Digital (Mission) Twin: an Integrating Con...   \n",
       "\n",
       "                                              abstract    0  \n",
       "719  In this paper, according to the forward design...  1.0  \n",
       "422  Abstract Human performance modeling (HPM) is a...  1.0  \n",
       "582  This paper deals with the application of a Mod...  1.0  \n",
       "52   The Origins Spectral Interpretation Resource I...  1.0  \n",
       "820  Top-down decomposition of a complex system of ...  1.0  "
      ]
     },
     "execution_count": 15,
     "metadata": {},
     "output_type": "execute_result"
    }
   ],
   "source": [
    "# Take a look at the top 5 articles for Topic 0\n",
    "journals[['title', 'abstract', '0']].sort_values(by = '0', ascending=False).head()"
   ]
  },
  {
   "cell_type": "code",
   "execution_count": 17,
   "id": "6aca7111-4fbc-4a7f-b354-3447bb565dcb",
   "metadata": {},
   "outputs": [
    {
     "data": {
      "text/html": [
       "<div>\n",
       "<style scoped>\n",
       "    .dataframe tbody tr th:only-of-type {\n",
       "        vertical-align: middle;\n",
       "    }\n",
       "\n",
       "    .dataframe tbody tr th {\n",
       "        vertical-align: top;\n",
       "    }\n",
       "\n",
       "    .dataframe thead th {\n",
       "        text-align: right;\n",
       "    }\n",
       "</style>\n",
       "<table border=\"1\" class=\"dataframe\">\n",
       "  <thead>\n",
       "    <tr style=\"text-align: right;\">\n",
       "      <th></th>\n",
       "      <th>title</th>\n",
       "      <th>abstract</th>\n",
       "      <th>1</th>\n",
       "    </tr>\n",
       "  </thead>\n",
       "  <tbody>\n",
       "    <tr>\n",
       "      <th>788</th>\n",
       "      <td>Simulating SysML transportation models</td>\n",
       "      <td>Model-based Systems Engineering (MBSE) promise...</td>\n",
       "      <td>1.0</td>\n",
       "    </tr>\n",
       "    <tr>\n",
       "      <th>186</th>\n",
       "      <td>Simulation of Database Interactions for Early ...</td>\n",
       "      <td>Digitized enterprise processes often encompass...</td>\n",
       "      <td>1.0</td>\n",
       "    </tr>\n",
       "    <tr>\n",
       "      <th>375</th>\n",
       "      <td>Frenemies: OPM and SysML Together in an MBSE M...</td>\n",
       "      <td>Abstract A Frenemy is “a person with whom one ...</td>\n",
       "      <td>1.0</td>\n",
       "    </tr>\n",
       "    <tr>\n",
       "      <th>554</th>\n",
       "      <td>Creating SysML views from an OPM model</td>\n",
       "      <td>Conceptual modeling is key to model-based syst...</td>\n",
       "      <td>1.0</td>\n",
       "    </tr>\n",
       "    <tr>\n",
       "      <th>561</th>\n",
       "      <td>Verification of embedded system's specificatio...</td>\n",
       "      <td>The authors propose an extension of SysML whic...</td>\n",
       "      <td>1.0</td>\n",
       "    </tr>\n",
       "  </tbody>\n",
       "</table>\n",
       "</div>"
      ],
      "text/plain": [
       "                                                 title  \\\n",
       "788             Simulating SysML transportation models   \n",
       "186  Simulation of Database Interactions for Early ...   \n",
       "375  Frenemies: OPM and SysML Together in an MBSE M...   \n",
       "554             Creating SysML views from an OPM model   \n",
       "561  Verification of embedded system's specificatio...   \n",
       "\n",
       "                                              abstract    1  \n",
       "788  Model-based Systems Engineering (MBSE) promise...  1.0  \n",
       "186  Digitized enterprise processes often encompass...  1.0  \n",
       "375  Abstract A Frenemy is “a person with whom one ...  1.0  \n",
       "554  Conceptual modeling is key to model-based syst...  1.0  \n",
       "561  The authors propose an extension of SysML whic...  1.0  "
      ]
     },
     "execution_count": 17,
     "metadata": {},
     "output_type": "execute_result"
    }
   ],
   "source": [
    "# Take a look at the top 5 articles for Topic 1\n",
    "journals[['title', 'abstract', '1']].sort_values(by = '1', ascending=False).head()"
   ]
  },
  {
   "cell_type": "code",
   "execution_count": 18,
   "id": "460e395c-d8a6-4ffb-b72b-5461af4fef90",
   "metadata": {},
   "outputs": [
    {
     "data": {
      "text/html": [
       "<div>\n",
       "<style scoped>\n",
       "    .dataframe tbody tr th:only-of-type {\n",
       "        vertical-align: middle;\n",
       "    }\n",
       "\n",
       "    .dataframe tbody tr th {\n",
       "        vertical-align: top;\n",
       "    }\n",
       "\n",
       "    .dataframe thead th {\n",
       "        text-align: right;\n",
       "    }\n",
       "</style>\n",
       "<table border=\"1\" class=\"dataframe\">\n",
       "  <thead>\n",
       "    <tr style=\"text-align: right;\">\n",
       "      <th></th>\n",
       "      <th>title</th>\n",
       "      <th>abstract</th>\n",
       "      <th>2</th>\n",
       "    </tr>\n",
       "  </thead>\n",
       "  <tbody>\n",
       "    <tr>\n",
       "      <th>133</th>\n",
       "      <td>The Ontology of Systems Engineering: Towards a...</td>\n",
       "      <td>The goal of implementing an enterprise digital...</td>\n",
       "      <td>1.0</td>\n",
       "    </tr>\n",
       "    <tr>\n",
       "      <th>301</th>\n",
       "      <td>Towards Developing Metrics to Evaluate Digital...</td>\n",
       "      <td>Abstract Model-based systems engineering (MBSE...</td>\n",
       "      <td>1.0</td>\n",
       "    </tr>\n",
       "    <tr>\n",
       "      <th>32</th>\n",
       "      <td>Maturity assessment of Systems Engineering reu...</td>\n",
       "      <td>To enable the transition towards Model-Based S...</td>\n",
       "      <td>1.0</td>\n",
       "    </tr>\n",
       "    <tr>\n",
       "      <th>591</th>\n",
       "      <td>Can ontologies prevent MBSE models from becomi...</td>\n",
       "      <td>Model-based systems engineering provides a sof...</td>\n",
       "      <td>1.0</td>\n",
       "    </tr>\n",
       "    <tr>\n",
       "      <th>233</th>\n",
       "      <td>Evolving Model-Based Systems Engineering Ontol...</td>\n",
       "      <td>Abstract Model-Based Systems Engineering (MBSE...</td>\n",
       "      <td>1.0</td>\n",
       "    </tr>\n",
       "  </tbody>\n",
       "</table>\n",
       "</div>"
      ],
      "text/plain": [
       "                                                 title  \\\n",
       "133  The Ontology of Systems Engineering: Towards a...   \n",
       "301  Towards Developing Metrics to Evaluate Digital...   \n",
       "32   Maturity assessment of Systems Engineering reu...   \n",
       "591  Can ontologies prevent MBSE models from becomi...   \n",
       "233  Evolving Model-Based Systems Engineering Ontol...   \n",
       "\n",
       "                                              abstract    2  \n",
       "133  The goal of implementing an enterprise digital...  1.0  \n",
       "301  Abstract Model-based systems engineering (MBSE...  1.0  \n",
       "32   To enable the transition towards Model-Based S...  1.0  \n",
       "591  Model-based systems engineering provides a sof...  1.0  \n",
       "233  Abstract Model-Based Systems Engineering (MBSE...  1.0  "
      ]
     },
     "execution_count": 18,
     "metadata": {},
     "output_type": "execute_result"
    }
   ],
   "source": [
    "# Take a look at the top 5 articles for Topic 2\n",
    "journals[['title', 'abstract', '2']].sort_values(by = '2', ascending=False).head()"
   ]
  },
  {
   "cell_type": "code",
   "execution_count": 19,
   "id": "bdeb72cc-2c83-4f82-9d6f-338d1586f356",
   "metadata": {},
   "outputs": [
    {
     "data": {
      "text/html": [
       "<div>\n",
       "<style scoped>\n",
       "    .dataframe tbody tr th:only-of-type {\n",
       "        vertical-align: middle;\n",
       "    }\n",
       "\n",
       "    .dataframe tbody tr th {\n",
       "        vertical-align: top;\n",
       "    }\n",
       "\n",
       "    .dataframe thead th {\n",
       "        text-align: right;\n",
       "    }\n",
       "</style>\n",
       "<table border=\"1\" class=\"dataframe\">\n",
       "  <thead>\n",
       "    <tr style=\"text-align: right;\">\n",
       "      <th></th>\n",
       "      <th>title</th>\n",
       "      <th>abstract</th>\n",
       "      <th>3</th>\n",
       "    </tr>\n",
       "  </thead>\n",
       "  <tbody>\n",
       "    <tr>\n",
       "      <th>182</th>\n",
       "      <td>Automated Derivation of Optimal Production Seq...</td>\n",
       "      <td>Customer specific, individual products nowaday...</td>\n",
       "      <td>1.0</td>\n",
       "    </tr>\n",
       "    <tr>\n",
       "      <th>678</th>\n",
       "      <td>Achieving flexibility in business process mode...</td>\n",
       "      <td>Companies nowadays are under increasing pressu...</td>\n",
       "      <td>1.0</td>\n",
       "    </tr>\n",
       "    <tr>\n",
       "      <th>610</th>\n",
       "      <td>Product-Process MBSE and Dysfunctional Analysi...</td>\n",
       "      <td>The integration of new technologies and the in...</td>\n",
       "      <td>1.0</td>\n",
       "    </tr>\n",
       "    <tr>\n",
       "      <th>618</th>\n",
       "      <td>Model-based Systems Engineering Process for Su...</td>\n",
       "      <td>Combining the benefits of model-based systems ...</td>\n",
       "      <td>1.0</td>\n",
       "    </tr>\n",
       "    <tr>\n",
       "      <th>13</th>\n",
       "      <td>Model Based Systems Engineering in Modular Des...</td>\n",
       "      <td>Many industries have to react progressively to...</td>\n",
       "      <td>1.0</td>\n",
       "    </tr>\n",
       "  </tbody>\n",
       "</table>\n",
       "</div>"
      ],
      "text/plain": [
       "                                                 title  \\\n",
       "182  Automated Derivation of Optimal Production Seq...   \n",
       "678  Achieving flexibility in business process mode...   \n",
       "610  Product-Process MBSE and Dysfunctional Analysi...   \n",
       "618  Model-based Systems Engineering Process for Su...   \n",
       "13   Model Based Systems Engineering in Modular Des...   \n",
       "\n",
       "                                              abstract    3  \n",
       "182  Customer specific, individual products nowaday...  1.0  \n",
       "678  Companies nowadays are under increasing pressu...  1.0  \n",
       "610  The integration of new technologies and the in...  1.0  \n",
       "618  Combining the benefits of model-based systems ...  1.0  \n",
       "13   Many industries have to react progressively to...  1.0  "
      ]
     },
     "execution_count": 19,
     "metadata": {},
     "output_type": "execute_result"
    }
   ],
   "source": [
    "# Take a look at the top 5 articles for Topic 3\n",
    "journals[['title', 'abstract', '3']].sort_values(by = '3', ascending=False).head()"
   ]
  },
  {
   "cell_type": "code",
   "execution_count": 20,
   "id": "1b35852d-85da-448a-b8fc-7f2870148dd4",
   "metadata": {},
   "outputs": [
    {
     "data": {
      "text/html": [
       "<div>\n",
       "<style scoped>\n",
       "    .dataframe tbody tr th:only-of-type {\n",
       "        vertical-align: middle;\n",
       "    }\n",
       "\n",
       "    .dataframe tbody tr th {\n",
       "        vertical-align: top;\n",
       "    }\n",
       "\n",
       "    .dataframe thead th {\n",
       "        text-align: right;\n",
       "    }\n",
       "</style>\n",
       "<table border=\"1\" class=\"dataframe\">\n",
       "  <thead>\n",
       "    <tr style=\"text-align: right;\">\n",
       "      <th></th>\n",
       "      <th>title</th>\n",
       "      <th>abstract</th>\n",
       "      <th>4</th>\n",
       "    </tr>\n",
       "  </thead>\n",
       "  <tbody>\n",
       "    <tr>\n",
       "      <th>593</th>\n",
       "      <td>An Integrated System Design and Safety Framewo...</td>\n",
       "      <td>Safety analysis is often performed independent...</td>\n",
       "      <td>1.0</td>\n",
       "    </tr>\n",
       "    <tr>\n",
       "      <th>130</th>\n",
       "      <td>AADL-Based safety analysis using formal method...</td>\n",
       "      <td>Model-based engineering tools are increasingly...</td>\n",
       "      <td>1.0</td>\n",
       "    </tr>\n",
       "    <tr>\n",
       "      <th>572</th>\n",
       "      <td>Obtaining Fault Trees Through SysML Diagrams: ...</td>\n",
       "      <td>Reliability analysis provides fundamental resu...</td>\n",
       "      <td>1.0</td>\n",
       "    </tr>\n",
       "    <tr>\n",
       "      <th>634</th>\n",
       "      <td>Dynamic Fault Tree Generation for Safety-Criti...</td>\n",
       "      <td>Systems are getting increasingly complex and c...</td>\n",
       "      <td>1.0</td>\n",
       "    </tr>\n",
       "    <tr>\n",
       "      <th>757</th>\n",
       "      <td>KAUSAL: A New Methodological Approach for Mode...</td>\n",
       "      <td>The increasing complexity of modern products i...</td>\n",
       "      <td>1.0</td>\n",
       "    </tr>\n",
       "  </tbody>\n",
       "</table>\n",
       "</div>"
      ],
      "text/plain": [
       "                                                 title  \\\n",
       "593  An Integrated System Design and Safety Framewo...   \n",
       "130  AADL-Based safety analysis using formal method...   \n",
       "572  Obtaining Fault Trees Through SysML Diagrams: ...   \n",
       "634  Dynamic Fault Tree Generation for Safety-Criti...   \n",
       "757  KAUSAL: A New Methodological Approach for Mode...   \n",
       "\n",
       "                                              abstract    4  \n",
       "593  Safety analysis is often performed independent...  1.0  \n",
       "130  Model-based engineering tools are increasingly...  1.0  \n",
       "572  Reliability analysis provides fundamental resu...  1.0  \n",
       "634  Systems are getting increasingly complex and c...  1.0  \n",
       "757  The increasing complexity of modern products i...  1.0  "
      ]
     },
     "execution_count": 20,
     "metadata": {},
     "output_type": "execute_result"
    }
   ],
   "source": [
    "# Take a look at the top 5 articles for Topic 4\n",
    "journals[['title', 'abstract', '4']].sort_values(by = '4', ascending=False).head()"
   ]
  },
  {
   "cell_type": "code",
   "execution_count": 21,
   "id": "0908a3fa-9076-4294-8448-be7204fe0df9",
   "metadata": {},
   "outputs": [
    {
     "data": {
      "text/html": [
       "<div>\n",
       "<style scoped>\n",
       "    .dataframe tbody tr th:only-of-type {\n",
       "        vertical-align: middle;\n",
       "    }\n",
       "\n",
       "    .dataframe tbody tr th {\n",
       "        vertical-align: top;\n",
       "    }\n",
       "\n",
       "    .dataframe thead th {\n",
       "        text-align: right;\n",
       "    }\n",
       "</style>\n",
       "<table border=\"1\" class=\"dataframe\">\n",
       "  <thead>\n",
       "    <tr style=\"text-align: right;\">\n",
       "      <th></th>\n",
       "      <th>title</th>\n",
       "      <th>abstract</th>\n",
       "      <th>5</th>\n",
       "    </tr>\n",
       "  </thead>\n",
       "  <tbody>\n",
       "    <tr>\n",
       "      <th>667</th>\n",
       "      <td>A Practitioner’s Guide to Optimizing the Inter...</td>\n",
       "      <td>As model-based approaches to Systems Engineeri...</td>\n",
       "      <td>1.0</td>\n",
       "    </tr>\n",
       "    <tr>\n",
       "      <th>587</th>\n",
       "      <td>Requirement analysis of inspection equipment f...</td>\n",
       "      <td>Quality control is an essential part in the pr...</td>\n",
       "      <td>1.0</td>\n",
       "    </tr>\n",
       "    <tr>\n",
       "      <th>191</th>\n",
       "      <td>Modelling and Simulation for the Integrated De...</td>\n",
       "      <td>The development of mechatronic systems involve...</td>\n",
       "      <td>1.0</td>\n",
       "    </tr>\n",
       "    <tr>\n",
       "      <th>676</th>\n",
       "      <td>Practicing modelling in manufacturing</td>\n",
       "      <td>This paper is about understanding modelling pr...</td>\n",
       "      <td>1.0</td>\n",
       "    </tr>\n",
       "    <tr>\n",
       "      <th>677</th>\n",
       "      <td>Efficient recognition of finite satisfiability...</td>\n",
       "      <td>Models lie at the heart of the emerging Model-...</td>\n",
       "      <td>1.0</td>\n",
       "    </tr>\n",
       "  </tbody>\n",
       "</table>\n",
       "</div>"
      ],
      "text/plain": [
       "                                                 title  \\\n",
       "667  A Practitioner’s Guide to Optimizing the Inter...   \n",
       "587  Requirement analysis of inspection equipment f...   \n",
       "191  Modelling and Simulation for the Integrated De...   \n",
       "676              Practicing modelling in manufacturing   \n",
       "677  Efficient recognition of finite satisfiability...   \n",
       "\n",
       "                                              abstract    5  \n",
       "667  As model-based approaches to Systems Engineeri...  1.0  \n",
       "587  Quality control is an essential part in the pr...  1.0  \n",
       "191  The development of mechatronic systems involve...  1.0  \n",
       "676  This paper is about understanding modelling pr...  1.0  \n",
       "677  Models lie at the heart of the emerging Model-...  1.0  "
      ]
     },
     "execution_count": 21,
     "metadata": {},
     "output_type": "execute_result"
    }
   ],
   "source": [
    "# Take a look at the top 5 articles for Topic 5\n",
    "journals[['title', 'abstract', '5']].sort_values(by = '5', ascending=False).head()"
   ]
  },
  {
   "cell_type": "code",
   "execution_count": 22,
   "id": "082e5e21-dd7c-4420-bba0-28a1f9c602a7",
   "metadata": {},
   "outputs": [
    {
     "data": {
      "text/html": [
       "<div>\n",
       "<style scoped>\n",
       "    .dataframe tbody tr th:only-of-type {\n",
       "        vertical-align: middle;\n",
       "    }\n",
       "\n",
       "    .dataframe tbody tr th {\n",
       "        vertical-align: top;\n",
       "    }\n",
       "\n",
       "    .dataframe thead th {\n",
       "        text-align: right;\n",
       "    }\n",
       "</style>\n",
       "<table border=\"1\" class=\"dataframe\">\n",
       "  <thead>\n",
       "    <tr style=\"text-align: right;\">\n",
       "      <th></th>\n",
       "      <th>title</th>\n",
       "      <th>abstract</th>\n",
       "      <th>6</th>\n",
       "    </tr>\n",
       "  </thead>\n",
       "  <tbody>\n",
       "    <tr>\n",
       "      <th>849</th>\n",
       "      <td>Deploying model-based systems engineering with...</td>\n",
       "      <td>Prerequisites - to be provided by Customer. Pr...</td>\n",
       "      <td>1.0</td>\n",
       "    </tr>\n",
       "    <tr>\n",
       "      <th>450</th>\n",
       "      <td>Toward a property based requirements theory: S...</td>\n",
       "      <td>Abstract In this paper, we outline a property-...</td>\n",
       "      <td>1.0</td>\n",
       "    </tr>\n",
       "    <tr>\n",
       "      <th>215</th>\n",
       "      <td>7.2.3 On enabling a model-based systems engine...</td>\n",
       "      <td>Abstract This paper considers the requirements...</td>\n",
       "      <td>1.0</td>\n",
       "    </tr>\n",
       "    <tr>\n",
       "      <th>721</th>\n",
       "      <td>Structural Rules for an Intelligent Advisor to...</td>\n",
       "      <td>Requirements define the problem boundaries wit...</td>\n",
       "      <td>1.0</td>\n",
       "    </tr>\n",
       "    <tr>\n",
       "      <th>93</th>\n",
       "      <td>A decision-making framework for selecting an M...</td>\n",
       "      <td>The increasing system complexity due to techno...</td>\n",
       "      <td>1.0</td>\n",
       "    </tr>\n",
       "  </tbody>\n",
       "</table>\n",
       "</div>"
      ],
      "text/plain": [
       "                                                 title  \\\n",
       "849  Deploying model-based systems engineering with...   \n",
       "450  Toward a property based requirements theory: S...   \n",
       "215  7.2.3 On enabling a model-based systems engine...   \n",
       "721  Structural Rules for an Intelligent Advisor to...   \n",
       "93   A decision-making framework for selecting an M...   \n",
       "\n",
       "                                              abstract    6  \n",
       "849  Prerequisites - to be provided by Customer. Pr...  1.0  \n",
       "450  Abstract In this paper, we outline a property-...  1.0  \n",
       "215  Abstract This paper considers the requirements...  1.0  \n",
       "721  Requirements define the problem boundaries wit...  1.0  \n",
       "93   The increasing system complexity due to techno...  1.0  "
      ]
     },
     "execution_count": 22,
     "metadata": {},
     "output_type": "execute_result"
    }
   ],
   "source": [
    "# Take a look at the top 5 articles for Topic 6\n",
    "journals[['title', 'abstract', '6']].sort_values(by = '6', ascending=False).head()"
   ]
  },
  {
   "cell_type": "code",
   "execution_count": 23,
   "id": "63df1deb-582c-4720-be38-5694d1a64058",
   "metadata": {},
   "outputs": [
    {
     "data": {
      "text/html": [
       "<div>\n",
       "<style scoped>\n",
       "    .dataframe tbody tr th:only-of-type {\n",
       "        vertical-align: middle;\n",
       "    }\n",
       "\n",
       "    .dataframe tbody tr th {\n",
       "        vertical-align: top;\n",
       "    }\n",
       "\n",
       "    .dataframe thead th {\n",
       "        text-align: right;\n",
       "    }\n",
       "</style>\n",
       "<table border=\"1\" class=\"dataframe\">\n",
       "  <thead>\n",
       "    <tr style=\"text-align: right;\">\n",
       "      <th></th>\n",
       "      <th>title</th>\n",
       "      <th>abstract</th>\n",
       "      <th>7</th>\n",
       "    </tr>\n",
       "  </thead>\n",
       "  <tbody>\n",
       "    <tr>\n",
       "      <th>167</th>\n",
       "      <td>Subsystem selection for digital twin developme...</td>\n",
       "      <td>Digital twins are virtual representations of s...</td>\n",
       "      <td>1.0</td>\n",
       "    </tr>\n",
       "    <tr>\n",
       "      <th>668</th>\n",
       "      <td>Augmenting MBSE with Digital Twin Technology: ...</td>\n",
       "      <td>Model-Based Systems Engineering (MBSE) require...</td>\n",
       "      <td>1.0</td>\n",
       "    </tr>\n",
       "    <tr>\n",
       "      <th>796</th>\n",
       "      <td>Integrating Machine Learning in Digital Twins ...</td>\n",
       "      <td>Fueled by the opportunities for supporting man...</td>\n",
       "      <td>1.0</td>\n",
       "    </tr>\n",
       "    <tr>\n",
       "      <th>487</th>\n",
       "      <td>Enabling design of agile security in the IOT w...</td>\n",
       "      <td>Design for system security within the IOT is a...</td>\n",
       "      <td>1.0</td>\n",
       "    </tr>\n",
       "    <tr>\n",
       "      <th>446</th>\n",
       "      <td>Microreactor Testbed Automation through Digita...</td>\n",
       "      <td>Abstract Digital engineering is the practice o...</td>\n",
       "      <td>1.0</td>\n",
       "    </tr>\n",
       "  </tbody>\n",
       "</table>\n",
       "</div>"
      ],
      "text/plain": [
       "                                                 title  \\\n",
       "167  Subsystem selection for digital twin developme...   \n",
       "668  Augmenting MBSE with Digital Twin Technology: ...   \n",
       "796  Integrating Machine Learning in Digital Twins ...   \n",
       "487  Enabling design of agile security in the IOT w...   \n",
       "446  Microreactor Testbed Automation through Digita...   \n",
       "\n",
       "                                              abstract    7  \n",
       "167  Digital twins are virtual representations of s...  1.0  \n",
       "668  Model-Based Systems Engineering (MBSE) require...  1.0  \n",
       "796  Fueled by the opportunities for supporting man...  1.0  \n",
       "487  Design for system security within the IOT is a...  1.0  \n",
       "446  Abstract Digital engineering is the practice o...  1.0  "
      ]
     },
     "execution_count": 23,
     "metadata": {},
     "output_type": "execute_result"
    }
   ],
   "source": [
    "# Take a look at the top 5 articles for Topic 7\n",
    "journals[['title', 'abstract', '7']].sort_values(by = '7', ascending=False).head()"
   ]
  },
  {
   "cell_type": "code",
   "execution_count": null,
   "id": "723e853b-ebe0-482d-a1cd-6b15ccbf6a2a",
   "metadata": {},
   "outputs": [],
   "source": []
  },
  {
   "cell_type": "code",
   "execution_count": null,
   "id": "9c9eedbb-175e-4619-ab9c-001679c0bb0a",
   "metadata": {},
   "outputs": [],
   "source": []
  },
  {
   "cell_type": "code",
   "execution_count": null,
   "id": "77989fce-241b-4405-8fba-01d72e873adf",
   "metadata": {},
   "outputs": [],
   "source": []
  },
  {
   "cell_type": "markdown",
   "id": "c47864d3-25eb-452f-83cc-f5ce48e9466d",
   "metadata": {},
   "source": [
    "1. Draw the distribution of % of each topic\n",
    "2. Draw the yearly trending of each topic"
   ]
  },
  {
   "cell_type": "code",
   "execution_count": null,
   "id": "972b7ba3-bb1b-497a-8298-308a93b116e0",
   "metadata": {},
   "outputs": [],
   "source": []
  },
  {
   "cell_type": "code",
   "execution_count": null,
   "id": "081f6105-3fbb-4d75-8398-eef245aee7d6",
   "metadata": {},
   "outputs": [],
   "source": []
  },
  {
   "cell_type": "code",
   "execution_count": null,
   "id": "85a25e2a-9c4a-42b5-84a8-24c21612b2d6",
   "metadata": {},
   "outputs": [],
   "source": []
  },
  {
   "cell_type": "code",
   "execution_count": null,
   "id": "6a88f7be-26e0-4b7e-b6b5-ff87d65fde50",
   "metadata": {},
   "outputs": [],
   "source": []
  },
  {
   "cell_type": "code",
   "execution_count": null,
   "id": "29cd8284-bec7-4057-b458-8d5f9476b29f",
   "metadata": {},
   "outputs": [],
   "source": []
  },
  {
   "cell_type": "markdown",
   "id": "974ed2fc-0f0f-4a3d-ba88-31711fa96db4",
   "metadata": {},
   "source": [
    "## Preprocessing the Data by Topic"
   ]
  },
  {
   "cell_type": "markdown",
   "id": "a3541fe8-d94e-446e-ae84-cc53965a9f79",
   "metadata": {},
   "source": [
    "Here, we will preprocess the data once again by using CountVectorizer to tokenize and count our words. This is so that we can compare each topic for similar high frequency words. We will add these words as stop words so that our classification models can be trained on a more distinct set of words. "
   ]
  },
  {
   "cell_type": "code",
   "execution_count": null,
   "id": "add7dac4-1969-4d65-adff-52981f74e707",
   "metadata": {},
   "outputs": [],
   "source": [
    "# Define an empty list to store my topics\n",
    "topic_dfs = []\n",
    "\n",
    "# Iterate using a for loop to extra each topic and assign them into a separate dataframe\n",
    "for topic_id in range(8):\n",
    "    topic_dfs.append(journals.loc[journals['topic'] == topic_id])\n",
    "\n",
    "topic_0, topic_1, topic_2, topic_3, topic_4, topic_5, topic_6, topic_7 = topic_dfs\n",
    "\n",
    "# Create list containing all the topics dataframes\n",
    "list_of_topics = [topic_0, topic_1, topic_2, topic_3, topic_4, topic_5, \n",
    "                  topic_6, topic_7]\n",
    "\n",
    "# Create empty list to store tokens for each topic\n",
    "topic_tokens = []\n",
    "\n",
    "# Iterate using a for loop to vectorize and store each topic tokens into a separate dataframe\n",
    "for topic in list_of_topics:\n",
    "    cvec = CountVectorizer(lowercase=False, ngram_range=(1,3))\n",
    "    topic_matrix = cvec.fit_transform(topic['tokens'])\n",
    "    topic_tokens_df = pd.DataFrame(topic_matrix.todense(), columns=cvec.get_feature_names_out())\n",
    "    topic_tokens.append(topic_tokens_df)\n",
    "    \n",
    "topic_tokens_0, topic_tokens_1, topic_tokens_2, topic_tokens_3, topic_tokens_4, topic_tokens_5, topic_tokens_6, topic_tokens_7 = topic_tokens"
   ]
  },
  {
   "cell_type": "markdown",
   "id": "1f76144c-e5f8-4b8c-b928-3fd733a675c2",
   "metadata": {},
   "source": [
    "## Visualize the High Frequency Words for Each Topic"
   ]
  },
  {
   "cell_type": "markdown",
   "id": "661a382f-56e1-45bd-8b8b-98fff9775eec",
   "metadata": {},
   "source": [
    "Here, we will visualize the high frequency words for each topic, to identify common words between the topics. These common words will be added to our stop words."
   ]
  },
  {
   "cell_type": "code",
   "execution_count": null,
   "id": "5c6cb147-cb39-498d-9f19-7a9864f94711",
   "metadata": {},
   "outputs": [],
   "source": [
    "# Create a dataframe with the top 50 words for each topic\n",
    "top_50_words_topic_0 = topic_tokens_0.sum().sort_values(ascending=False).head(50)\n",
    "top_50_words_topic_1 = topic_tokens_1.sum().sort_values(ascending=False).head(50)\n",
    "top_50_words_topic_2 = topic_tokens_2.sum().sort_values(ascending=False).head(50)\n",
    "top_50_words_topic_3 = topic_tokens_3.sum().sort_values(ascending=False).head(50)\n",
    "top_50_words_topic_4 = topic_tokens_4.sum().sort_values(ascending=False).head(50)\n",
    "top_50_words_topic_5 = topic_tokens_5.sum().sort_values(ascending=False).head(50)\n",
    "top_50_words_topic_6 = topic_tokens_6.sum().sort_values(ascending=False).head(50)\n",
    "top_50_words_topic_7 = topic_tokens_7.sum().sort_values(ascending=False).head(50)"
   ]
  },
  {
   "cell_type": "code",
   "execution_count": null,
   "id": "5efed360-c30a-4046-80d2-89ea1e7f9b34",
   "metadata": {},
   "outputs": [],
   "source": [
    "# Convert the dataframes into sets of words\n",
    "word_sets = [set(df.index) for df in [top_50_words_topic_0, top_50_words_topic_1, \n",
    "                                      top_50_words_topic_2, top_50_words_topic_3,\n",
    "                                      top_50_words_topic_4, top_50_words_topic_5,\n",
    "                                      top_50_words_topic_6, top_50_words_topic_7]]\n",
    "\n",
    "# Find common words using set intersection\n",
    "common_words = set.intersection(*word_sets)\n",
    "\n",
    "# Print the common words\n",
    "print(common_words)"
   ]
  },
  {
   "cell_type": "code",
   "execution_count": null,
   "id": "104d3c40-049a-4312-b02b-2adee1924518",
   "metadata": {
    "scrolled": true,
    "tags": []
   },
   "outputs": [],
   "source": [
    "# Define the list of lists to plot\n",
    "list_to_plot = [top_50_words_topic_0, top_50_words_topic_1, top_50_words_topic_2,\n",
    "                top_50_words_topic_3, top_50_words_topic_4, top_50_words_topic_5,\n",
    "                top_50_words_topic_6, top_50_words_topic_7]\n",
    "\n",
    "# Create a 4x2 grid for the bar plots\n",
    "fig, axes = plt.subplots(4, 2, figsize=(12, 30))\n",
    "\n",
    "# Iterate over the list of lists and plot the bar plots\n",
    "for i, ax in enumerate(axes.flatten()):\n",
    "    sorted_data = list_to_plot[i].sort_values(ascending=True)\n",
    "    ax.barh(sorted_data.index, sorted_data.values)\n",
    "    ax.set_title(f'Topic {i}')\n",
    "    ax.tick_params(axis='y', rotation=0)\n",
    "\n",
    "# Adjust spacing between subplots\n",
    "plt.tight_layout()\n",
    "\n",
    "# Show the plot\n",
    "plt.show()"
   ]
  },
  {
   "cell_type": "markdown",
   "id": "a8e8e6af-398b-4e70-8adf-da0234294da5",
   "metadata": {},
   "source": [
    "## Definition of Stop Words"
   ]
  },
  {
   "cell_type": "markdown",
   "id": "a261c109-1bad-4a0e-991a-817c3ae972a1",
   "metadata": {},
   "source": [
    "Based on the data exploration above, we have identified some additional stop words to remove. This will make each topic more distinct to train the classification model."
   ]
  },
  {
   "cell_type": "code",
   "execution_count": null,
   "id": "de0c33a6-5678-41d3-98fe-ff1634a744d5",
   "metadata": {},
   "outputs": [],
   "source": [
    "# define the stop words\n",
    "stop_words = ['tool', 'paper', 'method', 'architecture', 'design', 'modeling', \n",
    "              'development', 'approach', 'process']"
   ]
  },
  {
   "cell_type": "markdown",
   "id": "9090452b-ea4c-4aed-a7ed-420dae431012",
   "metadata": {},
   "source": [
    "## Train-Test Split"
   ]
  },
  {
   "cell_type": "code",
   "execution_count": null,
   "id": "80052b45-eaa8-4d93-b977-4a1db813dce8",
   "metadata": {},
   "outputs": [],
   "source": [
    "# Set up data for modeling\n",
    "X = journals['tokens']\n",
    "y = journals['topic']"
   ]
  },
  {
   "cell_type": "code",
   "execution_count": null,
   "id": "edbf7d95-0d87-4d86-9f14-f2e7d7847286",
   "metadata": {},
   "outputs": [],
   "source": [
    "# Check the distribution of the y values\n",
    "y.value_counts()"
   ]
  },
  {
   "cell_type": "code",
   "execution_count": null,
   "id": "4f50a56b-2c97-4c51-9491-93bc373ac71a",
   "metadata": {},
   "outputs": [],
   "source": [
    "# Check the distribution of the y values\n",
    "y.value_counts(normalize=True)"
   ]
  },
  {
   "cell_type": "markdown",
   "id": "71f733bf-9ac8-4469-b99e-e37b0c3f351f",
   "metadata": {},
   "source": [
    "As the data set is imbalanced, we will need to stratify it. "
   ]
  },
  {
   "cell_type": "code",
   "execution_count": null,
   "id": "68f57e23-23ca-4abb-801d-5851f75a4d91",
   "metadata": {},
   "outputs": [],
   "source": [
    "# Split the data into the training and testing sets\n",
    "X_train, X_test, y_train, y_test = train_test_split(X, y, \n",
    "                                                    test_size = 0.25, \n",
    "                                                    stratify = y, \n",
    "                                                    random_state=42)"
   ]
  },
  {
   "cell_type": "markdown",
   "id": "bf0cbecb-0484-497d-a618-3905d0e623fb",
   "metadata": {},
   "source": [
    "Because our dataset is imbalanced, we will use SMOTE to oversample the minority classes."
   ]
  },
  {
   "cell_type": "markdown",
   "id": "54d7992f-ee20-4139-9dae-ceb5a0661841",
   "metadata": {},
   "source": [
    "## Classification Modeling"
   ]
  },
  {
   "cell_type": "markdown",
   "id": "2d925074-741e-4636-9fe0-e1aff39a98f2",
   "metadata": {},
   "source": [
    "In this section, we'll begin with the classificatin modeling. "
   ]
  },
  {
   "cell_type": "markdown",
   "id": "f5e32f32-eadb-434e-a7ea-30d88bf8379a",
   "metadata": {},
   "source": [
    "## Model 0: Base Model"
   ]
  },
  {
   "cell_type": "markdown",
   "id": "8d947db3-5631-44e8-b9bf-38c8d4285c4e",
   "metadata": {},
   "source": [
    "We will calculate the baseline score first. This is done by creating a dummy model to act as a baseline mode. All models trained later on can compare against this score to base its performance."
   ]
  },
  {
   "cell_type": "code",
   "execution_count": null,
   "id": "38b02072-3b47-4e1d-b378-5658d1ea676a",
   "metadata": {},
   "outputs": [],
   "source": [
    "# Create dummy model to get baseline scores\n",
    "dummy_class = DummyClassifier(strategy='stratified')\n",
    "\n",
    "# Fit the model\n",
    "dummy_class.fit(X_train, y_train)"
   ]
  },
  {
   "cell_type": "code",
   "execution_count": null,
   "id": "a1b3fced-db2a-4d79-bb05-4144d1226aca",
   "metadata": {},
   "outputs": [],
   "source": [
    "# Make predictions on the test set\n",
    "y_pred = dummy_class.predict(X_test)\n",
    "\n",
    "# Evaluate the performance of the DummyClassifier\n",
    "print(classification_report(y_test, y_pred))"
   ]
  },
  {
   "cell_type": "markdown",
   "id": "14f4cf52-dac7-4682-9c6d-6a17406c6645",
   "metadata": {},
   "source": [
    "## Model 1: Naive Bayes Model (CountVectorizer)"
   ]
  },
  {
   "cell_type": "markdown",
   "id": "b362c6fb-7f74-4961-ae8a-4fee7d688c2d",
   "metadata": {},
   "source": [
    "The Naive Bayes model is a probabilistic classifier based on Bayes' theorem. It heavily relies on one simplifying assumption, which is that we assume our features are indepedent from one another. "
   ]
  },
  {
   "cell_type": "code",
   "execution_count": null,
   "id": "7efec306-0dc7-467b-a37e-e0aac88a96fb",
   "metadata": {},
   "outputs": [],
   "source": [
    "# Set up pipeline\n",
    "pipe_nb_cvec = Pipeline([\n",
    "    ('cvec', CountVectorizer(stop_words=stop_words, lowercase=False, \n",
    "                             ngram_range=(1,3))),\n",
    "    ('smote', SMOTE(random_state=42)),\n",
    "    ('nb', MultinomialNB())    \n",
    "])\n",
    "\n",
    "# Set up pipeline parameters\n",
    "pipe_nb_cvec_params = {\n",
    "    'cvec__max_features' : [250, 500, 1000, 2000],\n",
    "    'nb__alpha' : [0.2, 0.5, 1],\n",
    "    'nb__fit_prior' : [False, True]\n",
    "}\n",
    "\n",
    "# Perform gridsearch on the pipeline\n",
    "gs_nb_cvec = GridSearchCV(pipe_nb_cvec, pipe_nb_cvec_params, cv=5)\n",
    "\n",
    "# Fit the model\n",
    "gs_nb_cvec.fit(X_train, y_train)"
   ]
  },
  {
   "cell_type": "code",
   "execution_count": null,
   "id": "cc026f66-df9d-4749-ae1a-11af12b28e76",
   "metadata": {},
   "outputs": [],
   "source": [
    "# Check what's the best parameters\n",
    "gs_nb_cvec.best_params_"
   ]
  },
  {
   "cell_type": "code",
   "execution_count": null,
   "id": "2dfa5ccb-42f5-4ecb-abd9-86b9618fd52c",
   "metadata": {},
   "outputs": [],
   "source": [
    "# Predict the classification on the test set\n",
    "y_pred = gs_nb_cvec.predict(X_test)\n",
    "\n",
    "# Evaluate the performance of the model\n",
    "print(classification_report(y_test, y_pred))"
   ]
  },
  {
   "cell_type": "markdown",
   "id": "7ebfb220-46db-46a4-bda7-dd5dff7a5831",
   "metadata": {},
   "source": [
    "## Model 2: Naive Bayes Model (TF-IDF)"
   ]
  },
  {
   "cell_type": "markdown",
   "id": "b849caa7-33fa-40c3-a033-e4648be7da97",
   "metadata": {},
   "source": [
    "The Naive Bayes model is a probabilistic classifier based on Bayes' theorem. It heavily relies on one simplifying assumption, which is that we assume our features are indepedent from one another. "
   ]
  },
  {
   "cell_type": "code",
   "execution_count": null,
   "id": "b2370056-d875-4bfb-bd08-e103cdd8d2fe",
   "metadata": {},
   "outputs": [],
   "source": [
    "# Set up pipeline\n",
    "pipe_nb_tfidf = Pipeline([\n",
    "    ('tfidf', TfidfVectorizer(lowercase=False, ngram_range=(1,3))),\n",
    "    ('smote', SMOTE(random_state=42)),\n",
    "    ('nb', MultinomialNB())    \n",
    "])\n",
    "\n",
    "# Set up pipeline parameters\n",
    "pipe_nb_tfidf_params = {\n",
    "    'tfidf__max_features' : [250, 500, 1000],\n",
    "    'nb__alpha' : [0.1, 0.2, 0.5, 1],\n",
    "    'nb__fit_prior' : [False, True]\n",
    "}\n",
    "\n",
    "# Perform gridsearch on the pipeline\n",
    "gs_nb_tfidf = GridSearchCV(pipe_nb_tfidf, pipe_nb_tfidf_params, cv=5)\n",
    "\n",
    "# Fit the model\n",
    "gs_nb_tfidf.fit(X_train, y_train)"
   ]
  },
  {
   "cell_type": "code",
   "execution_count": null,
   "id": "c7aeeb80-a151-447f-8cec-edbb2cdce270",
   "metadata": {},
   "outputs": [],
   "source": [
    "# Check what's the best parameters\n",
    "gs_nb_tfidf.best_params_"
   ]
  },
  {
   "cell_type": "code",
   "execution_count": null,
   "id": "880a1640-75fe-41e0-a58d-5dde2d718ed9",
   "metadata": {},
   "outputs": [],
   "source": [
    "# Predict the classification on the test set\n",
    "y_pred = gs_nb_cvec.predict(X_test)\n",
    "\n",
    "# Evaluate the performance of the model\n",
    "print(classification_report(y_test, y_pred))"
   ]
  },
  {
   "cell_type": "markdown",
   "id": "18a6788d-9c39-4a73-8ebc-20c728c2a1bd",
   "metadata": {},
   "source": [
    "## Model 3: Logistic Regression (CountVectorizer)"
   ]
  },
  {
   "cell_type": "markdown",
   "id": "9906e1b5-4365-4c28-904a-0c2bc0b09569",
   "metadata": {},
   "source": [
    "The logistic regression gives us the probability of a feature being in each class by using a link function to \"bend\" of line of best fit into a curve of best fit to match the values we're interested in. This link funciton is known as the logit link."
   ]
  },
  {
   "cell_type": "code",
   "execution_count": null,
   "id": "03c9b7c3-ac75-480b-bda5-6f3ccc3ffd8a",
   "metadata": {},
   "outputs": [],
   "source": [
    "# Set up pipeline\n",
    "pipe_log_cvec = Pipeline([\n",
    "    ('cvec', CountVectorizer(lowercase=False, ngram_range=(1,3))),\n",
    "    #('smote', SMOTE(random_state=42)),\n",
    "    ('log', LogisticRegression(solver='liblinear'))    \n",
    "])\n",
    "\n",
    "# Set up pipeline parameters\n",
    "pipe_log_cvec_params = {\n",
    "    'cvec__max_features' : [250, 500, 1000],\n",
    "    'log__penalty' : ['l1', 'l2']\n",
    "}\n",
    "\n",
    "# Perform gridsearch on the pipeline\n",
    "gs_log_cvec = GridSearchCV(pipe_log_cvec, pipe_log_cvec_params, cv=5)\n",
    "\n",
    "# Fit the model\n",
    "gs_log_cvec.fit(X_train, y_train)"
   ]
  },
  {
   "cell_type": "code",
   "execution_count": null,
   "id": "39e6ebf4-e8b9-4617-b493-333c1ab77358",
   "metadata": {},
   "outputs": [],
   "source": [
    "# Check what's the best parameters\n",
    "gs_log_cvec.best_params_"
   ]
  },
  {
   "cell_type": "code",
   "execution_count": null,
   "id": "ff9df892-f828-4aeb-8414-c07e4c46b433",
   "metadata": {},
   "outputs": [],
   "source": [
    "# Predict the classification on the test set\n",
    "y_pred = gs_log_cvec.predict(X_test)\n",
    "\n",
    "# Evaluate the performance of the model\n",
    "print(classification_report(y_test, y_pred))"
   ]
  },
  {
   "cell_type": "markdown",
   "id": "5914bcfd-285c-4812-b6c5-7c61551688fc",
   "metadata": {},
   "source": [
    "## Model 4: Logistic Regression (TF-IDF)"
   ]
  },
  {
   "cell_type": "markdown",
   "id": "755c25f5-9e49-406d-943c-d204c8169b1c",
   "metadata": {},
   "source": [
    "The logistic regression gives us the probability of a feature being in each class by using a link function to \"bend\" of line of best fit into a curve of best fit to match the values we're interested in. This link funciton is known as the logit link."
   ]
  },
  {
   "cell_type": "code",
   "execution_count": null,
   "id": "fd889383-2ec4-463b-b94e-a164149175f9",
   "metadata": {},
   "outputs": [],
   "source": [
    "# Set up pipeline\n",
    "pipe_log_tfidf = Pipeline([\n",
    "    ('tfidf', TfidfVectorizer(lowercase=False, ngram_range=(1,3))),\n",
    "    ('smote', SMOTE(random_state=42)),\n",
    "    ('log', LogisticRegression(solver='liblinear'))     \n",
    "])\n",
    "\n",
    "# Set up pipeline parameters\n",
    "pipe_log_tfidf_params = {\n",
    "    'tfidf__max_features' : [250, 500, 1000],\n",
    "    'log__penalty' : ['l1', 'l2']\n",
    "}\n",
    "\n",
    "# Perform gridsearch on the pipeline\n",
    "gs_log_tfidf = GridSearchCV(pipe_log_tfidf, pipe_log_tfidf_params, cv=5)\n",
    "\n",
    "# Fit the model\n",
    "gs_log_tfidf.fit(X_train, y_train)"
   ]
  },
  {
   "cell_type": "code",
   "execution_count": null,
   "id": "a5c978bc-b1af-415c-b8b7-e3d99a2db36a",
   "metadata": {},
   "outputs": [],
   "source": [
    "# Check what's the best parameters\n",
    "gs_log_tfidf.best_params_"
   ]
  },
  {
   "cell_type": "code",
   "execution_count": null,
   "id": "2d7e5485-0914-4b46-a8ed-42be4ed6a850",
   "metadata": {},
   "outputs": [],
   "source": [
    "# Predict the classification on the test set\n",
    "y_pred = gs_log_tfidf.predict(X_test)\n",
    "\n",
    "# Evaluate the performance of the model\n",
    "print(classification_report(y_test, y_pred))"
   ]
  },
  {
   "cell_type": "markdown",
   "id": "6f2c8304-dc23-46e5-9ed4-042d346c688e",
   "metadata": {},
   "source": [
    "## Model 5: K-Nearest Neighbors (CountVectorizer)"
   ]
  },
  {
   "cell_type": "markdown",
   "id": "bbea1cab-e1ee-402e-bb8c-50bb1da5c4f2",
   "metadata": {},
   "source": [
    "The KNN model is a non-parametric method that uses the nearest neighbor's classification to assign a class membership. "
   ]
  },
  {
   "cell_type": "code",
   "execution_count": null,
   "id": "9eceb4dd-2c05-4e5c-b085-54da34732ce5",
   "metadata": {},
   "outputs": [],
   "source": [
    "# Set up pipeline\n",
    "pipe_knn_cvec = Pipeline([\n",
    "    ('cvec', CountVectorizer(lowercase=False, ngram_range=(1,3))),\n",
    "    ('smote', SMOTE(random_state=42)),\n",
    "    ('knn', KNeighborsClassifier())    \n",
    "])\n",
    "\n",
    "# Set up pipeline parameters\n",
    "pipe_knn_cvec_params = {\n",
    "    'cvec__max_features' : [250, 500, 1000],\n",
    "    'knn__n_neighbors' : [5, 10, 15, 20, 25],\n",
    "    'knn__p' : [1, 2]\n",
    "}\n",
    "\n",
    "# Perform gridsearch on the pipeline\n",
    "gs_knn_cvec = GridSearchCV(pipe_knn_cvec, pipe_knn_cvec_params, cv=5)\n",
    "\n",
    "# Fit the model\n",
    "gs_knn_cvec.fit(X_train, y_train)"
   ]
  },
  {
   "cell_type": "code",
   "execution_count": null,
   "id": "af3ac232-df7c-408a-9b3f-c390079aeef3",
   "metadata": {},
   "outputs": [],
   "source": [
    "# Check what's the best parameters\n",
    "gs_knn_cvec.best_params_"
   ]
  },
  {
   "cell_type": "code",
   "execution_count": null,
   "id": "01fbe99e-9bd7-42f6-9821-a7e64adfb2a4",
   "metadata": {},
   "outputs": [],
   "source": [
    "# Predict the classification on the test set\n",
    "y_pred = gs_knn_cvec.predict(X_test)\n",
    "\n",
    "# Evaluate the performance of the model\n",
    "print(classification_report(y_test, y_pred))"
   ]
  },
  {
   "cell_type": "markdown",
   "id": "5ac370b1-8c7c-4835-ab63-542e476a7ef3",
   "metadata": {},
   "source": [
    "## Model 6: K-Nearest Neighbors (TF-IDF)"
   ]
  },
  {
   "cell_type": "markdown",
   "id": "70852348-38a1-46c2-b4fd-eb48727f5eb9",
   "metadata": {},
   "source": [
    "The KNN model is a non-parametric method that uses the nearest neighbor's classification to assign a class membership. "
   ]
  },
  {
   "cell_type": "code",
   "execution_count": null,
   "id": "97cde811-3675-4b94-a90c-ecfda2a1b79a",
   "metadata": {},
   "outputs": [],
   "source": [
    "# Set up pipeline\n",
    "pipe_knn_tfidf = Pipeline([\n",
    "    ('tfidf', TfidfVectorizer(lowercase=False, ngram_range=(1,3))),\n",
    "    #('smote', SMOTE(random_state=42)),\n",
    "    ('knn', KNeighborsClassifier())     \n",
    "])\n",
    "\n",
    "# Set up pipeline parameters\n",
    "pipe_knn_tfidf_params = {\n",
    "    'tfidf__max_features' : [250, 500, 1000],\n",
    "    'knn__n_neighbors' : [5, 10, 15, 20, 25],\n",
    "    'knn__p' : [1, 2]\n",
    "}\n",
    "\n",
    "# Perform gridsearch on the pipeline\n",
    "gs_knn_tfidf = GridSearchCV(pipe_knn_tfidf, pipe_knn_tfidf_params, cv=5)\n",
    "\n",
    "# Fit the model\n",
    "gs_knn_tfidf.fit(X_train, y_train)"
   ]
  },
  {
   "cell_type": "code",
   "execution_count": null,
   "id": "2d3287ce-bfed-403c-9719-662a3a50b240",
   "metadata": {},
   "outputs": [],
   "source": [
    "# Check what's the best parameters\n",
    "gs_knn_tfidf.best_params_"
   ]
  },
  {
   "cell_type": "code",
   "execution_count": null,
   "id": "d1737fd2-ded7-4b71-81db-8bb9441e789b",
   "metadata": {},
   "outputs": [],
   "source": [
    "# Predict the classification on the test set\n",
    "y_pred = gs_knn_tfidf.predict(X_test)\n",
    "\n",
    "# Evaluate the performance of the model\n",
    "print(classification_report(y_test, y_pred))"
   ]
  },
  {
   "cell_type": "markdown",
   "id": "fd9950fc-f758-4ef2-bac5-8eb72c86cf2d",
   "metadata": {},
   "source": [
    "## Model 7: Random Forest (CountVectorizer)"
   ]
  },
  {
   "cell_type": "markdown",
   "id": "a97383b1-5fa2-4e72-a9b9-23ddc0be51e9",
   "metadata": {},
   "source": [
    "The Random Forest Classifier is an emsemble method that combines the predictions of other smaller models. Each of the smaller model is a decision tree. "
   ]
  },
  {
   "cell_type": "code",
   "execution_count": null,
   "id": "a4981de4-1852-44b8-a177-94375edc71e3",
   "metadata": {},
   "outputs": [],
   "source": [
    "# Set up pipeline\n",
    "pipe_rf_cvec = Pipeline([\n",
    "    ('cvec', CountVectorizer(lowercase=False, ngram_range=(1,3))),\n",
    "    ('smote', SMOTE(random_state=42)),\n",
    "    ('rf', RandomForestClassifier())    \n",
    "])\n",
    "\n",
    "# Set up pipeline parameters\n",
    "pipe_rf_cvec_params = {\n",
    "    'cvec__max_features' : [250, 500, 1000],\n",
    "    'rf__max_depth' : [1, 2, 3, 4, 5, 10, 15],\n",
    "    'rf__n_estimators' : [100, 150, 200]\n",
    "}\n",
    "\n",
    "# Perform gridsearch on the pipeline\n",
    "gs_rf_cvec = GridSearchCV(pipe_rf_cvec, pipe_rf_cvec_params, cv=5)\n",
    "\n",
    "# Fit the model\n",
    "gs_rf_cvec.fit(X_train, y_train)"
   ]
  },
  {
   "cell_type": "code",
   "execution_count": null,
   "id": "3c9621e1-ca51-4f20-a411-ea0fd6f3be21",
   "metadata": {},
   "outputs": [],
   "source": [
    "# Check what's the best parameters\n",
    "gs_rf_cvec.best_params_"
   ]
  },
  {
   "cell_type": "code",
   "execution_count": null,
   "id": "cf2b6d4b-7655-428b-917a-1e00d87230d1",
   "metadata": {},
   "outputs": [],
   "source": [
    "# Predict the classification on the test set\n",
    "y_pred = gs_rf_cvec.predict(X_test)\n",
    "\n",
    "# Evaluate the performance of the model\n",
    "print(classification_report(y_test, y_pred))"
   ]
  },
  {
   "cell_type": "markdown",
   "id": "06b260c1-0c3b-4381-8968-6def57ad8da7",
   "metadata": {},
   "source": [
    "## Model 8: Random Forest (TF-IDF)"
   ]
  },
  {
   "cell_type": "markdown",
   "id": "de806927-71cc-4eaf-8aa4-69225d7e8fc6",
   "metadata": {},
   "source": [
    "The Random Forest Classifier is an emsemble method that combines the predictions of other smaller models. Each of the smaller model is a decision tree. "
   ]
  },
  {
   "cell_type": "code",
   "execution_count": null,
   "id": "d78f1ccf-a53f-488f-9cf9-ba55ce8bc54a",
   "metadata": {},
   "outputs": [],
   "source": [
    "# Set up pipeline\n",
    "pipe_rf_tfidf = Pipeline([\n",
    "    ('tfidf', TfidfVectorizer(lowercase=False, ngram_range=(1,3))),\n",
    "    ('smote', SMOTE(random_state=42)),\n",
    "    ('rf', RandomForestClassifier())     \n",
    "])\n",
    "\n",
    "# Set up pipeline parameters\n",
    "pipe_rf_tfidf_params = {\n",
    "    'tfidf__max_features' : [250, 500],\n",
    "    'rf__max_depth' : [1, 2, 3, 4, 5],\n",
    "    'rf__n_estimators' : [100, 150, 200]\n",
    "}\n",
    "\n",
    "# Perform gridsearch on the pipeline\n",
    "gs_rf_tfidf = GridSearchCV(pipe_rf_tfidf, pipe_rf_tfidf_params, cv=5)\n",
    "\n",
    "# Fit the model\n",
    "gs_rf_tfidf.fit(X_train, y_train)"
   ]
  },
  {
   "cell_type": "code",
   "execution_count": null,
   "id": "5ad241c7-f7a7-4d83-abc3-0ddb03b3a9e5",
   "metadata": {},
   "outputs": [],
   "source": [
    "# Check what's the best parameters\n",
    "gs_rf_tfidf.best_params_"
   ]
  },
  {
   "cell_type": "code",
   "execution_count": null,
   "id": "4feceebb-e6ba-46bd-8eb4-108d502c8d59",
   "metadata": {},
   "outputs": [],
   "source": [
    "# Predict the classification on the test set\n",
    "y_pred = gs_rf_tfidf.predict(X_test)\n",
    "\n",
    "# Evaluate the performance of the model\n",
    "print(classification_report(y_test, y_pred))"
   ]
  },
  {
   "cell_type": "markdown",
   "id": "631029cb-ff36-4cea-9c17-a0b7354083ad",
   "metadata": {},
   "source": [
    "## Model 9: Support Vector Machine (CountVectorizer)"
   ]
  },
  {
   "cell_type": "markdown",
   "id": "5d3cd781-6190-42ad-8bc9-ac346a988396",
   "metadata": {},
   "source": [
    "The Support Vector Machine is a classification model that predicts the categorical vairables. They belong to a wider class of models called discriminant models. "
   ]
  },
  {
   "cell_type": "code",
   "execution_count": null,
   "id": "2af52ff7-e837-4100-8df5-d451dc8022c0",
   "metadata": {},
   "outputs": [],
   "source": [
    "# Set up pipeline\n",
    "pipe_svc_cvec = Pipeline([\n",
    "    ('cvec', CountVectorizer(lowercase=False, ngram_range=(1,3))),\n",
    "    #('smote', SMOTE(random_state=42)),\n",
    "    ('svc', SVC())    \n",
    "])\n",
    "\n",
    "# Set up pipeline parameters\n",
    "pipe_svc_cvec_params = {\n",
    "    'cvec__max_features' : [250, 500, 1000],\n",
    "    'svc__C' : [0.1, 1, 10, 50, 100]\n",
    "}\n",
    "\n",
    "# Perform gridsearch on the pipeline\n",
    "gs_svc_cvec = GridSearchCV(pipe_svc_cvec, pipe_svc_cvec_params, cv=5)\n",
    "\n",
    "# Fit the model\n",
    "gs_svc_cvec.fit(X_train, y_train)"
   ]
  },
  {
   "cell_type": "code",
   "execution_count": null,
   "id": "0696cc67-6aa1-4c43-85fa-5486a5e9fef4",
   "metadata": {},
   "outputs": [],
   "source": [
    "# Check what's the best parameters\n",
    "gs_svc_cvec.best_params_"
   ]
  },
  {
   "cell_type": "code",
   "execution_count": null,
   "id": "e786006c-c0cc-4eb2-9b7a-bf09077f4a84",
   "metadata": {},
   "outputs": [],
   "source": [
    "# Predict the classification on the test set\n",
    "y_pred = gs_svc_cvec.predict(X_test)\n",
    "\n",
    "# Evaluate the performance of the model\n",
    "print(classification_report(y_test, y_pred))"
   ]
  },
  {
   "cell_type": "markdown",
   "id": "ea9387eb-8d76-46bb-9832-b7c1cc947f06",
   "metadata": {},
   "source": [
    "## Model 10: Support Vector Machine (TF-IDF)"
   ]
  },
  {
   "cell_type": "markdown",
   "id": "ec23e4ca-ac66-4a82-9dcf-9610667a96a9",
   "metadata": {},
   "source": [
    "The Support Vector Machine is a classification model that predicts the categorical vairables. They belong to a wider class of models called discriminant models. "
   ]
  },
  {
   "cell_type": "code",
   "execution_count": null,
   "id": "ebef0046-0aee-424e-b003-22edb0397aad",
   "metadata": {},
   "outputs": [],
   "source": [
    "# Set up pipeline\n",
    "pipe_svc_tfidf = Pipeline([\n",
    "    ('tfidf', TfidfVectorizer(lowercase=False, ngram_range=(1,3))),\n",
    "    #('smote', SMOTE(random_state=42)),\n",
    "    ('svc', SVC())     \n",
    "])\n",
    "\n",
    "# Set up pipeline parameters\n",
    "pipe_svc_tfidf_params = {\n",
    "    'tfidf__max_features' : [250, 500, 1000],\n",
    "    'svc__C' : [0.1, 1, 10, 50, 100]\n",
    "}\n",
    "\n",
    "# Perform gridsearch on the pipeline\n",
    "gs_svc_tfidf = GridSearchCV(pipe_svc_tfidf, pipe_svc_tfidf_params, cv=5)\n",
    "\n",
    "# Fit the model\n",
    "gs_svc_tfidf.fit(X_train, y_train)"
   ]
  },
  {
   "cell_type": "code",
   "execution_count": null,
   "id": "19f74d4c-968a-4f1b-9a57-72f936af2e5b",
   "metadata": {},
   "outputs": [],
   "source": [
    "# Check what's the best parameters\n",
    "gs_svc_tfidf.best_params_"
   ]
  },
  {
   "cell_type": "code",
   "execution_count": null,
   "id": "c4258349-830d-4dc1-a3aa-aa517a7eceac",
   "metadata": {},
   "outputs": [],
   "source": [
    "# Predict the classification on the test set\n",
    "y_pred = gs_svc_tfidf.predict(X_test)\n",
    "\n",
    "# Evaluate the performance of the model\n",
    "print(classification_report(y_test, y_pred))"
   ]
  },
  {
   "cell_type": "markdown",
   "id": "0c3db136-6aa5-4cbd-97bf-02cc7c72084c",
   "metadata": {},
   "source": [
    "## Model Evaluation"
   ]
  },
  {
   "cell_type": "markdown",
   "id": "818eda56-4932-4cf4-97c8-34664902c0e7",
   "metadata": {},
   "source": [
    "|Model   | Model Type          |Precision |Recall | F1 | \n",
    "|------------|---------------------|----|----------|-------------|\n",
    "|Model 0     |Dummy Classifier     |0.14|0.13|0.14|\n",
    "|Model 1     |Naive Bayes (Cvec)   |0.79|0.74|0.76|\n",
    "|Model 2     |Naive Bayes (TF-IDF) |0.79|0.74|0.76|\n",
    "|Model 3     |Logistic Regression (Cvec)|0.75|0.71|0.71|\n",
    "|Model 4     |Logistic Regression (TF-IDF)|0.73|0.75|0.74|\n",
    "|Model 5     |KNN Classifier (Cvec)|0.39|0.44|0.34|\n",
    "|Model 6     |KNN Classifier (TF-IDF)|0.68|0.61|0.62|\n",
    "|Model 7     |Random Forest (Cvec)|0.63|0.67|0.63|\n",
    "|Model 8     |Random Forest (TF-IDF)|0.67|0.71|0.67|\n",
    "|Model 9     |Support Vector Machine (Cvec)|0.74|0.60|0.64|\n",
    "|Model 10    |Support Vector Machine (TF-IDF)|0.78|0.63|0.66|"
   ]
  },
  {
   "cell_type": "markdown",
   "id": "aa8778dc-48b8-4981-ba27-f50dc9158011",
   "metadata": {},
   "source": [
    "As all our classes are important, we will be using the macro average F1 score to identify the best performing model. Furthermore, the macro average is used compared to the weighted average as this score method will heavily penalize the minority classes if the model does not perform well. This is because we are using an imbalanced dataset and we expect the minority classes to not perform as well as the majority class.  "
   ]
  },
  {
   "cell_type": "markdown",
   "id": "08408653-7ea5-4183-96c8-359d1e842d9f",
   "metadata": {},
   "source": [
    "### Best Performing Model"
   ]
  },
  {
   "cell_type": "markdown",
   "id": "122fb4fe-1a9d-4527-9e6d-f7f53915a351",
   "metadata": {},
   "source": [
    "From the F1 scores, we can tell that the Naive Bayes model performs the best, with an F1 score of 0.76. This is followed by the Logistic Regression Model, which has an F1 score of 0.74. As such, we will choose the Naive Bayes model as our production model and further explore it by looking at the confusion matrix."
   ]
  },
  {
   "cell_type": "code",
   "execution_count": null,
   "id": "ae7121b6-b83a-4560-b60c-bfc8f52c3205",
   "metadata": {},
   "outputs": [],
   "source": []
  },
  {
   "cell_type": "code",
   "execution_count": null,
   "id": "59ed10d9-363f-4bbf-8f6d-69beb93d687a",
   "metadata": {},
   "outputs": [],
   "source": []
  },
  {
   "cell_type": "code",
   "execution_count": null,
   "id": "7bbef8f5-e605-46c6-888d-327ec1840fa7",
   "metadata": {},
   "outputs": [],
   "source": []
  }
 ],
 "metadata": {
  "kernelspec": {
   "display_name": "dsi-sg",
   "language": "python",
   "name": "dsi-sg"
  },
  "language_info": {
   "codemirror_mode": {
    "name": "ipython",
    "version": 3
   },
   "file_extension": ".py",
   "mimetype": "text/x-python",
   "name": "python",
   "nbconvert_exporter": "python",
   "pygments_lexer": "ipython3",
   "version": "3.9.13"
  }
 },
 "nbformat": 4,
 "nbformat_minor": 5
}
