{
 "cells": [
  {
   "cell_type": "markdown",
   "id": "3e7f9ea4-ebc7-4541-af5d-7c8cbc1b33a9",
   "metadata": {
    "jp-MarkdownHeadingCollapsed": true,
    "tags": []
   },
   "source": [
    "# Capstone Project: Topic Modelling of Academic Journals (Model-Based Systems Engineering)"
   ]
  },
  {
   "cell_type": "markdown",
   "id": "62c83ece-a75d-420a-8d38-cb74fd6d54ed",
   "metadata": {},
   "source": [
    "# 03: Modelling and Evaluation"
   ]
  },
  {
   "cell_type": "markdown",
   "id": "1b0a31e9-0188-4cca-a174-1b3542a4e068",
   "metadata": {},
   "source": [
    "In this notebook, we will perform the following actions:\n",
    "1. Topic Modelling\n",
    "2. Evaluation"
   ]
  },
  {
   "cell_type": "markdown",
   "id": "6cdff992-4c67-4de1-b296-a6d81278244b",
   "metadata": {},
   "source": [
    "## Import Libraries"
   ]
  },
  {
   "cell_type": "code",
   "execution_count": 33,
   "id": "a526d9e3-e212-4099-b622-5ef395e395e2",
   "metadata": {},
   "outputs": [],
   "source": [
    "# Import the necessary libraries\n",
    "import pandas as pd\n",
    "import numpy as np\n",
    "import matplotlib.pyplot as plt\n",
    "import seaborn as sns\n",
    "import pickle\n",
    "import gensim\n",
    "\n",
    "from sklearn.feature_extraction.text import TfidfVectorizer\n",
    "from sklearn.decomposition import LatentDirichletAllocation\n",
    "from bertopic import BERTopic\n",
    "from gensim.models import HdpModel\n",
    "from gensim.models.ldamodel import LdaModel\n",
    "from gensim.matutils import dense2vec\n",
    "from gensim.corpora.dictionary import Dictionary\n",
    "from wordcloud import WordCloud\n",
    "\n",
    "# Set all columns and rows to be displayed\n",
    "pd.set_option('display.max_columns', None)\n",
    "pd.set_option('display.max_rows', None)"
   ]
  },
  {
   "cell_type": "markdown",
   "id": "f52287f4-adc2-46f5-bccf-d637abf71afb",
   "metadata": {},
   "source": [
    "## Import Data"
   ]
  },
  {
   "cell_type": "code",
   "execution_count": 114,
   "id": "9c9851fb-181e-4cb5-aac6-00194d1f24cc",
   "metadata": {},
   "outputs": [],
   "source": [
    "# Import the data for modelling\n",
    "journals = pd.read_csv('../data/journals_processed.csv')"
   ]
  },
  {
   "cell_type": "markdown",
   "id": "481ea8fe-636b-4694-9c22-894195087725",
   "metadata": {},
   "source": [
    "## Final Data Preprocessing using TF-IDF"
   ]
  },
  {
   "cell_type": "markdown",
   "id": "8f83e72e-2214-4699-8b3f-deadfe2cf219",
   "metadata": {},
   "source": [
    "In this section, we will perform our final data preprocessing using TF-IDF (Term Frequency - Inverse Document Frequency). TF-IDF is used as it takes into account how often a word appears in the whole corpus. This helps to penalize common words that appear across every document, which is not informative. "
   ]
  },
  {
   "cell_type": "code",
   "execution_count": 115,
   "id": "b32fd35f-3c13-405b-870a-c213f1975eb5",
   "metadata": {},
   "outputs": [],
   "source": [
    "# Instantiate a TF-IDF Vectorizer\n",
    "tvec_journals = TfidfVectorizer(lowercase=False, ngram_range=(1,3))\n",
    "\n",
    "# Fit and transform the text data to prepare for topic modelling\n",
    "journals_corpus = tvec_journals.fit_transform(journals['tokens'])"
   ]
  },
  {
   "cell_type": "markdown",
   "id": "9b25b21c-c555-4898-823c-a9337e995a5b",
   "metadata": {},
   "source": [
    "## Topic Modelling using Latent Dirichlet Allocation (LDA) - sklearn implementation"
   ]
  },
  {
   "cell_type": "markdown",
   "id": "a4b0c9dc-f466-43f3-852b-d1cf3e0c79e0",
   "metadata": {},
   "source": [
    "Here, we will perform topic modelling using LDA. "
   ]
  },
  {
   "cell_type": "code",
   "execution_count": 120,
   "id": "13bc0802-f065-4e91-bdc0-49ed6edae15d",
   "metadata": {},
   "outputs": [
    {
     "data": {
      "text/html": [
       "<style>#sk-container-id-14 {color: black;background-color: white;}#sk-container-id-14 pre{padding: 0;}#sk-container-id-14 div.sk-toggleable {background-color: white;}#sk-container-id-14 label.sk-toggleable__label {cursor: pointer;display: block;width: 100%;margin-bottom: 0;padding: 0.3em;box-sizing: border-box;text-align: center;}#sk-container-id-14 label.sk-toggleable__label-arrow:before {content: \"▸\";float: left;margin-right: 0.25em;color: #696969;}#sk-container-id-14 label.sk-toggleable__label-arrow:hover:before {color: black;}#sk-container-id-14 div.sk-estimator:hover label.sk-toggleable__label-arrow:before {color: black;}#sk-container-id-14 div.sk-toggleable__content {max-height: 0;max-width: 0;overflow: hidden;text-align: left;background-color: #f0f8ff;}#sk-container-id-14 div.sk-toggleable__content pre {margin: 0.2em;color: black;border-radius: 0.25em;background-color: #f0f8ff;}#sk-container-id-14 input.sk-toggleable__control:checked~div.sk-toggleable__content {max-height: 200px;max-width: 100%;overflow: auto;}#sk-container-id-14 input.sk-toggleable__control:checked~label.sk-toggleable__label-arrow:before {content: \"▾\";}#sk-container-id-14 div.sk-estimator input.sk-toggleable__control:checked~label.sk-toggleable__label {background-color: #d4ebff;}#sk-container-id-14 div.sk-label input.sk-toggleable__control:checked~label.sk-toggleable__label {background-color: #d4ebff;}#sk-container-id-14 input.sk-hidden--visually {border: 0;clip: rect(1px 1px 1px 1px);clip: rect(1px, 1px, 1px, 1px);height: 1px;margin: -1px;overflow: hidden;padding: 0;position: absolute;width: 1px;}#sk-container-id-14 div.sk-estimator {font-family: monospace;background-color: #f0f8ff;border: 1px dotted black;border-radius: 0.25em;box-sizing: border-box;margin-bottom: 0.5em;}#sk-container-id-14 div.sk-estimator:hover {background-color: #d4ebff;}#sk-container-id-14 div.sk-parallel-item::after {content: \"\";width: 100%;border-bottom: 1px solid gray;flex-grow: 1;}#sk-container-id-14 div.sk-label:hover label.sk-toggleable__label {background-color: #d4ebff;}#sk-container-id-14 div.sk-serial::before {content: \"\";position: absolute;border-left: 1px solid gray;box-sizing: border-box;top: 0;bottom: 0;left: 50%;z-index: 0;}#sk-container-id-14 div.sk-serial {display: flex;flex-direction: column;align-items: center;background-color: white;padding-right: 0.2em;padding-left: 0.2em;position: relative;}#sk-container-id-14 div.sk-item {position: relative;z-index: 1;}#sk-container-id-14 div.sk-parallel {display: flex;align-items: stretch;justify-content: center;background-color: white;position: relative;}#sk-container-id-14 div.sk-item::before, #sk-container-id-14 div.sk-parallel-item::before {content: \"\";position: absolute;border-left: 1px solid gray;box-sizing: border-box;top: 0;bottom: 0;left: 50%;z-index: -1;}#sk-container-id-14 div.sk-parallel-item {display: flex;flex-direction: column;z-index: 1;position: relative;background-color: white;}#sk-container-id-14 div.sk-parallel-item:first-child::after {align-self: flex-end;width: 50%;}#sk-container-id-14 div.sk-parallel-item:last-child::after {align-self: flex-start;width: 50%;}#sk-container-id-14 div.sk-parallel-item:only-child::after {width: 0;}#sk-container-id-14 div.sk-dashed-wrapped {border: 1px dashed gray;margin: 0 0.4em 0.5em 0.4em;box-sizing: border-box;padding-bottom: 0.4em;background-color: white;}#sk-container-id-14 div.sk-label label {font-family: monospace;font-weight: bold;display: inline-block;line-height: 1.2em;}#sk-container-id-14 div.sk-label-container {text-align: center;}#sk-container-id-14 div.sk-container {/* jupyter's `normalize.less` sets `[hidden] { display: none; }` but bootstrap.min.css set `[hidden] { display: none !important; }` so we also need the `!important` here to be able to override the default hidden behavior on the sphinx rendered scikit-learn.org. See: https://github.com/scikit-learn/scikit-learn/issues/21755 */display: inline-block !important;position: relative;}#sk-container-id-14 div.sk-text-repr-fallback {display: none;}</style><div id=\"sk-container-id-14\" class=\"sk-top-container\"><div class=\"sk-text-repr-fallback\"><pre>LatentDirichletAllocation(n_components=7, random_state=42)</pre><b>In a Jupyter environment, please rerun this cell to show the HTML representation or trust the notebook. <br />On GitHub, the HTML representation is unable to render, please try loading this page with nbviewer.org.</b></div><div class=\"sk-container\" hidden><div class=\"sk-item\"><div class=\"sk-estimator sk-toggleable\"><input class=\"sk-toggleable__control sk-hidden--visually\" id=\"sk-estimator-id-14\" type=\"checkbox\" checked><label for=\"sk-estimator-id-14\" class=\"sk-toggleable__label sk-toggleable__label-arrow\">LatentDirichletAllocation</label><div class=\"sk-toggleable__content\"><pre>LatentDirichletAllocation(n_components=7, random_state=42)</pre></div></div></div></div></div>"
      ],
      "text/plain": [
       "LatentDirichletAllocation(n_components=7, random_state=42)"
      ]
     },
     "execution_count": 120,
     "metadata": {},
     "output_type": "execute_result"
    }
   ],
   "source": [
    "# Instantiate the LDA model\n",
    "lda_model = LatentDirichletAllocation(n_components=7,\n",
    "                                     random_state=42)\n",
    "\n",
    "# Fit the model\n",
    "lda_model.fit(journals_corpus)"
   ]
  },
  {
   "cell_type": "code",
   "execution_count": 121,
   "id": "27af1838-7881-4385-8069-41279f8fcabe",
   "metadata": {},
   "outputs": [
    {
     "name": "stdout",
     "output_type": "stream",
     "text": [
      "Topic #0:\n",
      "based model model based problem data domain time support engineer activity\n",
      "\n",
      "Topic #1:\n",
      "based model model based domain safety support research verification production engineer\n",
      "\n",
      "Topic #2:\n",
      "based model production model based level safety management service industry practice\n",
      "\n",
      "Topic #3:\n",
      "based model methodology model based element ontology case study work safety\n",
      "\n",
      "Topic #4:\n",
      "based model model based knowledge safety study application environment integration data\n",
      "\n",
      "Topic #5:\n",
      "based model model based digital mission methodology data support domain twin\n",
      "\n",
      "Topic #6:\n",
      "based model model based digital domain test methodology software support data\n",
      "\n"
     ]
    }
   ],
   "source": [
    "# Extract the top words for each topic\n",
    "feature_names = tvec_journals.get_feature_names_out()\n",
    "n_top_words = 10\n",
    "for topic_idx, topic in enumerate(lda_model.components_):\n",
    "    print(\"Topic #%d:\" %topic_idx)\n",
    "    print(\" \".join([feature_names[i] for i in topic.argsort()[:-n_top_words -1:-1]]))\n",
    "    print()\n",
    "    \n",
    "# Extract the topic distribution for each journal\n",
    "journal_topic_dist = lda_model.transform(journals_corpus)\n",
    "\n",
    "# Create a dataframe to store the journal topics probability distribution\n",
    "df_journal_topic_dist = pd.DataFrame(journal_topic_dist, columns=['topic_0', 'topic_1', 'topic_2', 'topic_3', 'topic_4', 'topic_5', 'topic_6'])\n",
    "\n",
    "# Add in a column with the topic generated \n",
    "df_journal_topic_dist['topic_generated'] = journal_topic_dist.argmax(axis=1)\n",
    "\n",
    "# Add in the title of the journal\n",
    "df_journal_topic_dist['title'] = journals['title']\n",
    "\n",
    "# Add in the publication year of each journal\n",
    "df_journal_topic_dist['year'] = journals['year'] "
   ]
  },
  {
   "cell_type": "code",
   "execution_count": 113,
   "id": "9a73c916-3e65-4cf7-8fee-265b16c8ea97",
   "metadata": {},
   "outputs": [
    {
     "data": {
      "text/html": [
       "<div>\n",
       "<style scoped>\n",
       "    .dataframe tbody tr th:only-of-type {\n",
       "        vertical-align: middle;\n",
       "    }\n",
       "\n",
       "    .dataframe tbody tr th {\n",
       "        vertical-align: top;\n",
       "    }\n",
       "\n",
       "    .dataframe thead th {\n",
       "        text-align: right;\n",
       "    }\n",
       "</style>\n",
       "<table border=\"1\" class=\"dataframe\">\n",
       "  <thead>\n",
       "    <tr style=\"text-align: right;\">\n",
       "      <th></th>\n",
       "      <th>topic_0</th>\n",
       "      <th>topic_1</th>\n",
       "      <th>topic_2</th>\n",
       "      <th>topic_3</th>\n",
       "      <th>topic_4</th>\n",
       "      <th>topic_generated</th>\n",
       "      <th>title</th>\n",
       "      <th>year</th>\n",
       "    </tr>\n",
       "  </thead>\n",
       "  <tbody>\n",
       "    <tr>\n",
       "      <th>0</th>\n",
       "      <td>0.015653</td>\n",
       "      <td>0.015654</td>\n",
       "      <td>0.015628</td>\n",
       "      <td>0.937436</td>\n",
       "      <td>0.015630</td>\n",
       "      <td>3</td>\n",
       "      <td>Model-based Design Process for the Early Phase...</td>\n",
       "      <td>2017</td>\n",
       "    </tr>\n",
       "    <tr>\n",
       "      <th>1</th>\n",
       "      <td>0.941587</td>\n",
       "      <td>0.014594</td>\n",
       "      <td>0.014610</td>\n",
       "      <td>0.014613</td>\n",
       "      <td>0.014596</td>\n",
       "      <td>0</td>\n",
       "      <td>Model Based Systems Engineering using VHDL-AMS</td>\n",
       "      <td>2013</td>\n",
       "    </tr>\n",
       "    <tr>\n",
       "      <th>2</th>\n",
       "      <td>0.014266</td>\n",
       "      <td>0.943007</td>\n",
       "      <td>0.014239</td>\n",
       "      <td>0.014257</td>\n",
       "      <td>0.014232</td>\n",
       "      <td>1</td>\n",
       "      <td>Code Generation Approach Supporting Complex Sy...</td>\n",
       "      <td>2022</td>\n",
       "    </tr>\n",
       "    <tr>\n",
       "      <th>3</th>\n",
       "      <td>0.012464</td>\n",
       "      <td>0.012471</td>\n",
       "      <td>0.012483</td>\n",
       "      <td>0.950109</td>\n",
       "      <td>0.012473</td>\n",
       "      <td>3</td>\n",
       "      <td>Model based systems engineering as enabler for...</td>\n",
       "      <td>2021</td>\n",
       "    </tr>\n",
       "    <tr>\n",
       "      <th>4</th>\n",
       "      <td>0.014777</td>\n",
       "      <td>0.014836</td>\n",
       "      <td>0.940789</td>\n",
       "      <td>0.014806</td>\n",
       "      <td>0.014792</td>\n",
       "      <td>2</td>\n",
       "      <td>Electric Drive Vehicle Development and Evaluat...</td>\n",
       "      <td>2014</td>\n",
       "    </tr>\n",
       "  </tbody>\n",
       "</table>\n",
       "</div>"
      ],
      "text/plain": [
       "    topic_0   topic_1   topic_2   topic_3   topic_4  topic_generated  \\\n",
       "0  0.015653  0.015654  0.015628  0.937436  0.015630                3   \n",
       "1  0.941587  0.014594  0.014610  0.014613  0.014596                0   \n",
       "2  0.014266  0.943007  0.014239  0.014257  0.014232                1   \n",
       "3  0.012464  0.012471  0.012483  0.950109  0.012473                3   \n",
       "4  0.014777  0.014836  0.940789  0.014806  0.014792                2   \n",
       "\n",
       "                                               title  year  \n",
       "0  Model-based Design Process for the Early Phase...  2017  \n",
       "1     Model Based Systems Engineering using VHDL-AMS  2013  \n",
       "2  Code Generation Approach Supporting Complex Sy...  2022  \n",
       "3  Model based systems engineering as enabler for...  2021  \n",
       "4  Electric Drive Vehicle Development and Evaluat...  2014  "
      ]
     },
     "execution_count": 113,
     "metadata": {},
     "output_type": "execute_result"
    }
   ],
   "source": [
    "df_journal_topic_dist.head()"
   ]
  },
  {
   "cell_type": "markdown",
   "id": "066b2e44-c164-4af5-b15d-1aa59a50b0ce",
   "metadata": {},
   "source": [
    "## Topic Modeling using Hierarchical Dirichlet Process (HDP)"
   ]
  },
  {
   "cell_type": "code",
   "execution_count": 122,
   "id": "d3173d44-0935-4d79-996a-2b2009bd9dbd",
   "metadata": {
    "scrolled": true,
    "tags": []
   },
   "outputs": [
    {
     "name": "stdout",
     "output_type": "stream",
     "text": [
      "(0, [('mission', 0.00012394881414371035), ('based', 0.00010720703351408015), ('model', 9.080159443503525e-05), ('model based', 8.99694664209689e-05), ('different', 8.98586582074072e-05), ('viability entire state', 8.895002583330703e-05), ('reliant aircraft', 8.369040619098087e-05), ('behavior', 7.50927724607063e-05), ('safety', 7.468799497130322e-05), ('view', 7.429296975241166e-05), ('discipline', 7.38150178994274e-05), ('activity', 7.035947791248999e-05), ('dod transition', 6.976440438095318e-05), ('optimization across', 6.829500922140032e-05), ('specific', 6.728391887143601e-05), ('optimized sustainment cost', 6.626937108474876e-05), ('modern internet', 6.56758495468444e-05), ('discipline specific', 6.552022572641444e-05), ('efficient', 6.357570443161601e-05), ('of', 6.308362632630983e-05)])\n",
      "(1, [('adoption', 8.634506519732364e-05), ('time embedded', 8.616861554887796e-05), ('across domain though', 7.381312030451386e-05), ('based', 7.13427069276732e-05), ('spanning across biological', 6.943145663947208e-05), ('prerequisite provided', 6.777561817392032e-05), ('selection', 6.619116422987197e-05), ('data decision', 6.602836083697897e-05), ('wsaf supplant contractual', 6.43028939078953e-05), ('methodology role ontology', 6.419285737928076e-05), ('mean supply', 6.323459058101248e-05), ('perception effectiveness bootcamp', 6.242600217432325e-05), ('promoting adoption success', 6.129419940779515e-05), ('design early', 6.121469852741914e-05), ('general perform', 6.101100217901079e-05), ('webinar', 6.0926433359043155e-05), ('aforementioned lesson learned', 6.0675633054973315e-05), ('aircraft research', 6.024105070867114e-05), ('designed enable', 6.003982309918388e-05), ('correlated', 5.9661146823554105e-05)])\n",
      "(2, [('swarm', 0.0001367054810234143), ('mechanical electrical', 7.915723324559247e-05), ('work', 7.227453040215614e-05), ('nadir looking', 7.017240493610006e-05), ('security could key', 6.795362666041694e-05), ('select content', 6.713963581832351e-05), ('quite', 6.673540476589579e-05), ('behavior soft', 6.613621597346001e-05), ('model', 6.556908498723491e-05), ('centric', 6.494538661064183e-05), ('risk assessment', 6.442057848257504e-05), ('window aotw avert', 6.404306600340911e-05), ('real french company', 6.34199805239394e-05), ('associated objective definition', 6.15274591329023e-05), ('deferment final decision', 6.122166490613226e-05), ('scalability property', 6.085493457352514e-05), ('cps increase', 6.0717699501932575e-05), ('spatial physical', 6.024965608979185e-05), ('initiative pursuing webinar', 5.9774720825422105e-05), ('one handle eco', 5.921133886809778e-05)])\n",
      "(3, [('face', 9.073195508120871e-05), ('face technical', 7.759802225495757e-05), ('awesum', 7.47582053339859e-05), ('knowledge context', 7.236525928690885e-05), ('ray', 7.225181194540225e-05), ('lack platform academic', 7.161781870642266e-05), ('face technical standard', 7.072885128335742e-05), ('people different domain', 7.010747628364517e-05), ('important consider', 6.754363022680207e-05), ('modeled maplesoft', 6.479107512844686e-05), ('ability track', 6.321085400984219e-05), ('undergraduate course', 6.292193087044116e-05), ('model based', 6.130089647032996e-05), ('technical standard', 6.051661586117708e-05), ('must undertaken together', 6.038431836120345e-05), ('operation manager others', 6.0068254302288884e-05), ('many element including', 6.000577953692253e-05), ('importance product', 5.985675853515585e-05), ('deep uncertainty', 5.9591323134187315e-05), ('dissimilar', 5.9436568903764326e-05)])\n",
      "(4, [('database', 0.00012187230459448573), ('component model based', 9.214249501109249e-05), ('identify core', 7.318432034053815e-05), ('state practice industry', 7.105454041315134e-05), ('assigned', 7.000218689260497e-05), ('associated objective', 6.836674597528782e-05), ('classification', 6.834206717546849e-05), ('order formalize', 6.559287038307309e-05), ('despite many', 6.402515949218558e-05), ('circular ps lifecycle', 6.353971392533755e-05), ('utilizing', 6.319018188094742e-05), ('manage osiris', 6.265356338785549e-05), ('discipline benefit would', 6.20232561012245e-05), ('specific current', 6.1145208959669e-05), ('predicting controlling', 6.0928301000157386e-05), ('subsea', 5.998101956746999e-05), ('token', 5.972389468193925e-05), ('consideration taken account', 5.905009155505645e-05), ('case lack hierarchical', 5.89941205185077e-05), ('collaborate develop connected', 5.8120004708718664e-05)])\n"
     ]
    }
   ],
   "source": [
    "# Convert the vectorized data into a Gensim corpus\n",
    "corpus = gensim.matutils.Sparse2Corpus(journals_corpus, documents_columns=False)\n",
    "\n",
    "# Create a dictionary from the corpus\n",
    "id2word = Dictionary.from_corpus(corpus, id2word=dict((id, word) for word, id in tvec_journals.vocabulary_.items()))\n",
    "\n",
    "# Train the HDP model\n",
    "hdp_model = HdpModel(corpus=corpus, id2word=id2word)\n",
    "\n",
    "# Print the topics\n",
    "topics = hdp_model.show_topics(num_topics=5,formatted=False)\n",
    "for topic in topics:\n",
    "    print(topic)"
   ]
  },
  {
   "cell_type": "markdown",
   "id": "c502c04b-88a4-4868-b1bd-0b74cac8e31a",
   "metadata": {},
   "source": [
    "The HDP model does not seem to be very helpful, as it outputs a total of 150 topics. Meaning each topic is assigned approximately 5-6 articles. Furthermore, each keyword for each topic only has a 0.1% or less probability of being associated to the topic. This does not allow us to gain much insight. Hence, we will not be using the HDP model.\n",
    "*The total number of topics generated can be seen by adjusting the num_topics hyperparameter above to 200. You will observe that 150 topics will be generated.*"
   ]
  },
  {
   "cell_type": "markdown",
   "id": "b6f1bc39-3895-4747-9db4-8828af55ff4b",
   "metadata": {},
   "source": [
    "## Topic Modeling using BERTopic"
   ]
  },
  {
   "cell_type": "code",
   "execution_count": null,
   "id": "00613e79-3d0a-4fae-9063-3dc6f081e6cd",
   "metadata": {},
   "outputs": [],
   "source": [
    "%%time\n",
    "# Instantiate a BERTopic model\n",
    "bertopic_model = BERTopic()\n",
    "\n",
    "# Fit and transform the model to the corpus\n",
    "topics, _ = bertopic_model.fit_transform(journals['tokens'])\n",
    "\n",
    "# Print the top words for each topic\n",
    "for topic_id in range(max(topics)):\n",
    "    words = bertopic_model.get_topic(topic_id)\n",
    "    print(f\"Topic {topic_id}: {' | '.join(words)}\")"
   ]
  },
  {
   "cell_type": "code",
   "execution_count": null,
   "id": "8d971f18-8d71-4e0b-8cf7-f99e77cdfbad",
   "metadata": {},
   "outputs": [],
   "source": []
  },
  {
   "cell_type": "markdown",
   "id": "ae4c2657-43b0-4581-9a3f-dba6d2dbb507",
   "metadata": {},
   "source": [
    "## Topic Modelling using Latent Dirichlet Allocation (LDA) - gensim implementation"
   ]
  },
  {
   "cell_type": "code",
   "execution_count": 123,
   "id": "fd0f2ba4-4086-4c6c-8285-1dd3df1317cb",
   "metadata": {},
   "outputs": [
    {
     "name": "stdout",
     "output_type": "stream",
     "text": [
      "Topic: 0 \n",
      "Words: ['based', 'model', 'digital', 'model based', 'mission', 'study', 'research', 'methodology', 'concept', 'data', 'modelling', 'case', 'support', 'different', 'practice']\n",
      "Topic: 1 \n",
      "Words: ['based', 'model', 'model based', 'safety', 'domain', 'verification', 'support', 'new', 'component', 'digital', 'management', 'lifecycle', 'level', 'methodology', 'cost']\n",
      "Topic: 2 \n",
      "Words: ['based', 'model', 'data', 'model based', 'effort', 'service', 'document', 'present', 'new', 'stakeholder', 'concept', 'study', 'element', 'level', 'need']\n",
      "Topic: 3 \n",
      "Words: ['based', 'model', 'model based', 'safety', 'domain', 'case', 'integration', 'methodology', 'management', 'different', 'data', 'support', 'ontology', 'application', 'view']\n",
      "Topic: 4 \n",
      "Words: ['based', 'model', 'safety', 'model based', 'industry', 'domain', 'application', 'support', 'methodology', 'data', 'change', 'concept', 'challenge', 'need', 'different']\n"
     ]
    }
   ],
   "source": [
    "# Convert corpus to Gensim format\n",
    "corpus = gensim.matutils.Sparse2Corpus(journals_corpus, documents_columns=False)\n",
    "\n",
    "# Create Gensim dictionary\n",
    "id2word = Dictionary.from_corpus(corpus, id2word=dict((id, word) for word, id in tvec_journals.vocabulary_.items()))\n",
    "\n",
    "# Build LDA model\n",
    "lda_model = LdaModel(corpus=corpus,\n",
    "                     id2word=id2word,\n",
    "                     num_topics=5,\n",
    "                     random_state=42,\n",
    "                     passes=10)\n",
    "\n",
    "# Print keywords for each topic\n",
    "for idx, topic in lda_model.show_topics(num_topics=5, num_words=15, formatted=False):\n",
    "    print('Topic: {} \\nWords: {}'.format(idx, [w[0] for w in topic]))\n",
    "\n",
    "# Create dataframe with topic probabilities for each document\n",
    "topic_probs = [lda_model.get_document_topics(corpus[i]) for i in range(len(corpus))]\n",
    "df_topic_probs = pd.DataFrame([{f'topic_{tp[0]}': tp[1] for tp in probs} for probs in topic_probs])\n",
    "\n",
    "# Combine topic probabilities dataframe with original data\n",
    "df_journals_gensim = pd.concat([data, df_topic_probs], axis=1)\n",
    "\n",
    "# Add column for topic with highest percentage\n",
    "df_journals_gensim['topic_generated'] = df_journals_gensim.iloc[:, 3:].idxmax(axis=1)\n",
    "\n",
    "# Add in the title of the journal\n",
    "df_journals_gensim['title'] = journals['title']\n",
    "\n",
    "# Add in the publication year of each journal\n",
    "df_journals_gensim['year'] = journals['year'] \n",
    "\n",
    "# Frop the sentences column\n",
    "df_journals_gensim.drop(columns='sentences', inplace=True)"
   ]
  },
  {
   "cell_type": "code",
   "execution_count": 83,
   "id": "a5eff133-354a-4d3c-95e8-21ffac602652",
   "metadata": {},
   "outputs": [
    {
     "data": {
      "text/plain": [
       "(850, 8)"
      ]
     },
     "execution_count": 83,
     "metadata": {},
     "output_type": "execute_result"
    }
   ],
   "source": [
    "df_journals_gensim.shape"
   ]
  },
  {
   "cell_type": "code",
   "execution_count": 84,
   "id": "c5e605d4-c33c-4f3c-a3ce-a3addcab7d93",
   "metadata": {},
   "outputs": [
    {
     "data": {
      "text/html": [
       "<div>\n",
       "<style scoped>\n",
       "    .dataframe tbody tr th:only-of-type {\n",
       "        vertical-align: middle;\n",
       "    }\n",
       "\n",
       "    .dataframe tbody tr th {\n",
       "        vertical-align: top;\n",
       "    }\n",
       "\n",
       "    .dataframe thead th {\n",
       "        text-align: right;\n",
       "    }\n",
       "</style>\n",
       "<table border=\"1\" class=\"dataframe\">\n",
       "  <thead>\n",
       "    <tr style=\"text-align: right;\">\n",
       "      <th></th>\n",
       "      <th>topic_0</th>\n",
       "      <th>topic_1</th>\n",
       "      <th>topic_2</th>\n",
       "      <th>topic_3</th>\n",
       "      <th>topic_4</th>\n",
       "      <th>topic_generated</th>\n",
       "      <th>title</th>\n",
       "      <th>year</th>\n",
       "    </tr>\n",
       "  </thead>\n",
       "  <tbody>\n",
       "    <tr>\n",
       "      <th>0</th>\n",
       "      <td>0.017888</td>\n",
       "      <td>0.017893</td>\n",
       "      <td>0.928312</td>\n",
       "      <td>0.017919</td>\n",
       "      <td>0.017988</td>\n",
       "      <td>topic_2</td>\n",
       "      <td>Model-based Design Process for the Early Phase...</td>\n",
       "      <td>2017</td>\n",
       "    </tr>\n",
       "    <tr>\n",
       "      <th>1</th>\n",
       "      <td>0.015413</td>\n",
       "      <td>0.015403</td>\n",
       "      <td>0.015400</td>\n",
       "      <td>0.015430</td>\n",
       "      <td>0.938354</td>\n",
       "      <td>topic_4</td>\n",
       "      <td>Model Based Systems Engineering using VHDL-AMS</td>\n",
       "      <td>2013</td>\n",
       "    </tr>\n",
       "    <tr>\n",
       "      <th>2</th>\n",
       "      <td>0.016420</td>\n",
       "      <td>0.016486</td>\n",
       "      <td>0.016300</td>\n",
       "      <td>0.934438</td>\n",
       "      <td>0.016355</td>\n",
       "      <td>topic_3</td>\n",
       "      <td>Code Generation Approach Supporting Complex Sy...</td>\n",
       "      <td>2022</td>\n",
       "    </tr>\n",
       "    <tr>\n",
       "      <th>3</th>\n",
       "      <td>0.014561</td>\n",
       "      <td>0.014587</td>\n",
       "      <td>0.014538</td>\n",
       "      <td>0.014566</td>\n",
       "      <td>0.941748</td>\n",
       "      <td>topic_4</td>\n",
       "      <td>Model based systems engineering as enabler for...</td>\n",
       "      <td>2021</td>\n",
       "    </tr>\n",
       "    <tr>\n",
       "      <th>4</th>\n",
       "      <td>0.016745</td>\n",
       "      <td>0.016760</td>\n",
       "      <td>0.016700</td>\n",
       "      <td>0.016712</td>\n",
       "      <td>0.933082</td>\n",
       "      <td>topic_4</td>\n",
       "      <td>Electric Drive Vehicle Development and Evaluat...</td>\n",
       "      <td>2014</td>\n",
       "    </tr>\n",
       "  </tbody>\n",
       "</table>\n",
       "</div>"
      ],
      "text/plain": [
       "    topic_0   topic_1   topic_2   topic_3   topic_4 topic_generated  \\\n",
       "0  0.017888  0.017893  0.928312  0.017919  0.017988         topic_2   \n",
       "1  0.015413  0.015403  0.015400  0.015430  0.938354         topic_4   \n",
       "2  0.016420  0.016486  0.016300  0.934438  0.016355         topic_3   \n",
       "3  0.014561  0.014587  0.014538  0.014566  0.941748         topic_4   \n",
       "4  0.016745  0.016760  0.016700  0.016712  0.933082         topic_4   \n",
       "\n",
       "                                               title  year  \n",
       "0  Model-based Design Process for the Early Phase...  2017  \n",
       "1     Model Based Systems Engineering using VHDL-AMS  2013  \n",
       "2  Code Generation Approach Supporting Complex Sy...  2022  \n",
       "3  Model based systems engineering as enabler for...  2021  \n",
       "4  Electric Drive Vehicle Development and Evaluat...  2014  "
      ]
     },
     "execution_count": 84,
     "metadata": {},
     "output_type": "execute_result"
    }
   ],
   "source": [
    "df_journals_gensim.head()"
   ]
  },
  {
   "cell_type": "code",
   "execution_count": null,
   "id": "41d730bd-9339-4ea4-aa54-52caced19f00",
   "metadata": {},
   "outputs": [],
   "source": []
  },
  {
   "cell_type": "code",
   "execution_count": null,
   "id": "3d81021b-d8b7-49f1-9df4-2aa068d88b11",
   "metadata": {},
   "outputs": [],
   "source": []
  },
  {
   "cell_type": "code",
   "execution_count": null,
   "id": "fcc1882d-093c-4e75-87d5-fe891b44764c",
   "metadata": {},
   "outputs": [],
   "source": []
  },
  {
   "cell_type": "code",
   "execution_count": null,
   "id": "ce92cb6f-04d5-4dbe-b8ca-1fbc4a95cce1",
   "metadata": {},
   "outputs": [],
   "source": []
  },
  {
   "cell_type": "code",
   "execution_count": null,
   "id": "89b8d076-35fa-41ae-b3dc-23f8dfafe5d4",
   "metadata": {},
   "outputs": [],
   "source": []
  },
  {
   "cell_type": "code",
   "execution_count": null,
   "id": "91ffde2e-c633-4ad2-82ca-6e8355841bf8",
   "metadata": {},
   "outputs": [],
   "source": []
  },
  {
   "cell_type": "markdown",
   "id": "389ce986-0315-4364-9763-7b7c17575fbc",
   "metadata": {},
   "source": [
    "# Outstanding Work\n",
    "* Can't seem to remove the stop words \"model\" and \"based\" - **NEED TAs HELP**\n",
    "* BERTopic (kills my kernal. need cloud i think)\n",
    "* Fine tune the stop words to make the keywords in each topic distinct\n",
    "* Evaluate the key words and create a proper topic label using domain knowledge and reading the top few articles for each topic\n",
    "* Topic evaluation with visualizations, distributions and trending\n",
    "* Recommendations for the organization\n",
    "* Create dashboard\n",
    "* Touch up on the EDA for presentation slides\n",
    "* Create slides and prepare for presentation"
   ]
  },
  {
   "cell_type": "code",
   "execution_count": null,
   "id": "1716ccba-35d4-46fc-9014-5aaff7bf68af",
   "metadata": {},
   "outputs": [],
   "source": []
  },
  {
   "cell_type": "code",
   "execution_count": null,
   "id": "169ec3e6-41f9-4456-a23f-dcc9d7bbf6d3",
   "metadata": {},
   "outputs": [],
   "source": []
  },
  {
   "cell_type": "code",
   "execution_count": null,
   "id": "43fee6a9-fe9b-4f53-a0bb-1f502e447c25",
   "metadata": {},
   "outputs": [],
   "source": []
  },
  {
   "cell_type": "code",
   "execution_count": null,
   "id": "a8651475-e296-43d2-afa3-dd4fdcc9219c",
   "metadata": {},
   "outputs": [],
   "source": []
  },
  {
   "cell_type": "code",
   "execution_count": null,
   "id": "d3e49b3c-97c6-4bac-889e-7e026b5943f2",
   "metadata": {},
   "outputs": [],
   "source": []
  },
  {
   "cell_type": "code",
   "execution_count": null,
   "id": "bcbda441-4d4a-4536-9a96-b12accbf823c",
   "metadata": {},
   "outputs": [],
   "source": []
  },
  {
   "cell_type": "code",
   "execution_count": null,
   "id": "ae7a0068-7639-4373-868f-48b21b5e4b26",
   "metadata": {},
   "outputs": [],
   "source": []
  },
  {
   "cell_type": "code",
   "execution_count": null,
   "id": "93ad2917-6e46-41b5-bb94-056f755719eb",
   "metadata": {},
   "outputs": [],
   "source": []
  },
  {
   "cell_type": "code",
   "execution_count": null,
   "id": "2faab46c-0334-42fb-9dff-5ea0d814e77b",
   "metadata": {},
   "outputs": [],
   "source": []
  },
  {
   "cell_type": "code",
   "execution_count": null,
   "id": "d290f4f1-c9e0-4875-9d0d-0a0d64b22418",
   "metadata": {},
   "outputs": [],
   "source": []
  }
 ],
 "metadata": {
  "kernelspec": {
   "display_name": "dsi-sg",
   "language": "python",
   "name": "dsi-sg"
  },
  "language_info": {
   "codemirror_mode": {
    "name": "ipython",
    "version": 3
   },
   "file_extension": ".py",
   "mimetype": "text/x-python",
   "name": "python",
   "nbconvert_exporter": "python",
   "pygments_lexer": "ipython3",
   "version": "3.9.13"
  }
 },
 "nbformat": 4,
 "nbformat_minor": 5
}
