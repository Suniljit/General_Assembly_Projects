{
 "cells": [
  {
   "cell_type": "markdown",
   "id": "3e7f9ea4-ebc7-4541-af5d-7c8cbc1b33a9",
   "metadata": {
    "jp-MarkdownHeadingCollapsed": true,
    "tags": []
   },
   "source": [
    "# Capstone Project: Topic Modelling of Academic Journals (Model-Based Systems Engineering)"
   ]
  },
  {
   "cell_type": "markdown",
   "id": "62c83ece-a75d-420a-8d38-cb74fd6d54ed",
   "metadata": {},
   "source": [
    "# 05: Topic Modeling Evaluation"
   ]
  },
  {
   "cell_type": "markdown",
   "id": "1b0a31e9-0188-4cca-a174-1b3542a4e068",
   "metadata": {},
   "source": [
    "In this notebook, we will perform the following actions:\n",
    "1. Evaluation of the topic modeling output"
   ]
  },
  {
   "cell_type": "markdown",
   "id": "6cdff992-4c67-4de1-b296-a6d81278244b",
   "metadata": {},
   "source": [
    "## Import Libraries"
   ]
  },
  {
   "cell_type": "code",
   "execution_count": 1,
   "id": "a526d9e3-e212-4099-b622-5ef395e395e2",
   "metadata": {},
   "outputs": [
    {
     "name": "stderr",
     "output_type": "stream",
     "text": [
      "<frozen importlib._bootstrap>:228: RuntimeWarning: scipy._lib.messagestream.MessageStream size changed, may indicate binary incompatibility. Expected 56 from C header, got 64 from PyObject\n"
     ]
    }
   ],
   "source": [
    "# Import the necessary libraries\n",
    "import numpy as np\n",
    "import pandas as pd\n",
    "import matplotlib.pyplot as plt\n",
    "import pickle\n",
    "import seaborn as sns\n",
    "\n",
    "from wordcloud import WordCloud\n",
    "\n",
    "# Set all columns and rows to be displayed\n",
    "pd.set_option('display.max_columns', None)\n",
    "pd.set_option('display.max_rows', None)"
   ]
  },
  {
   "cell_type": "markdown",
   "id": "f52287f4-adc2-46f5-bccf-d637abf71afb",
   "metadata": {},
   "source": [
    "## Import Data"
   ]
  },
  {
   "cell_type": "code",
   "execution_count": 2,
   "id": "9c9851fb-181e-4cb5-aac6-00194d1f24cc",
   "metadata": {},
   "outputs": [],
   "source": [
    "# Import the data for modelling\n",
    "journals = pd.read_csv('../data/journals_topics.csv')"
   ]
  },
  {
   "cell_type": "code",
   "execution_count": 3,
   "id": "8fc1b9de-debb-46d6-940a-f366cc0090a7",
   "metadata": {},
   "outputs": [
    {
     "data": {
      "text/html": [
       "<div>\n",
       "<style scoped>\n",
       "    .dataframe tbody tr th:only-of-type {\n",
       "        vertical-align: middle;\n",
       "    }\n",
       "\n",
       "    .dataframe tbody tr th {\n",
       "        vertical-align: top;\n",
       "    }\n",
       "\n",
       "    .dataframe thead th {\n",
       "        text-align: right;\n",
       "    }\n",
       "</style>\n",
       "<table border=\"1\" class=\"dataframe\">\n",
       "  <thead>\n",
       "    <tr style=\"text-align: right;\">\n",
       "      <th></th>\n",
       "      <th>title</th>\n",
       "      <th>abstract</th>\n",
       "      <th>year</th>\n",
       "      <th>tokens</th>\n",
       "      <th>topic</th>\n",
       "      <th>0</th>\n",
       "      <th>1</th>\n",
       "      <th>2</th>\n",
       "      <th>3</th>\n",
       "      <th>4</th>\n",
       "      <th>5</th>\n",
       "      <th>6</th>\n",
       "      <th>7</th>\n",
       "    </tr>\n",
       "  </thead>\n",
       "  <tbody>\n",
       "    <tr>\n",
       "      <th>0</th>\n",
       "      <td>Model-based Design Process for the Early Phase...</td>\n",
       "      <td>This paper presents an approach for a model-ba...</td>\n",
       "      <td>2017</td>\n",
       "      <td>paper present approach planning process early ...</td>\n",
       "      <td>3</td>\n",
       "      <td>0.134677</td>\n",
       "      <td>0.049330</td>\n",
       "      <td>0.121864</td>\n",
       "      <td>0.157459</td>\n",
       "      <td>0.018720</td>\n",
       "      <td>0.165620</td>\n",
       "      <td>0.034708</td>\n",
       "      <td>0.056888</td>\n",
       "    </tr>\n",
       "    <tr>\n",
       "      <th>1</th>\n",
       "      <td>Model Based Systems Engineering using VHDL-AMS</td>\n",
       "      <td>The purpose of this paper is to contribute to ...</td>\n",
       "      <td>2013</td>\n",
       "      <td>purpose paper contribute definition ( ) approa...</td>\n",
       "      <td>6</td>\n",
       "      <td>0.166052</td>\n",
       "      <td>0.053813</td>\n",
       "      <td>0.101767</td>\n",
       "      <td>0.040338</td>\n",
       "      <td>0.025920</td>\n",
       "      <td>0.180074</td>\n",
       "      <td>0.204835</td>\n",
       "      <td>0.046355</td>\n",
       "    </tr>\n",
       "    <tr>\n",
       "      <th>2</th>\n",
       "      <td>Code Generation Approach Supporting Complex Sy...</td>\n",
       "      <td>Code generation is an effective way to drive t...</td>\n",
       "      <td>2022</td>\n",
       "      <td>code generation effective way drive complex de...</td>\n",
       "      <td>5</td>\n",
       "      <td>0.048002</td>\n",
       "      <td>0.023436</td>\n",
       "      <td>0.040045</td>\n",
       "      <td>0.012378</td>\n",
       "      <td>0.006812</td>\n",
       "      <td>0.110110</td>\n",
       "      <td>0.013624</td>\n",
       "      <td>0.015338</td>\n",
       "    </tr>\n",
       "    <tr>\n",
       "      <th>3</th>\n",
       "      <td>Model based systems engineering as enabler for...</td>\n",
       "      <td>Product complexity is steadily increasing, cus...</td>\n",
       "      <td>2021</td>\n",
       "      <td>product complexity steadily increasing , custo...</td>\n",
       "      <td>3</td>\n",
       "      <td>0.144370</td>\n",
       "      <td>0.045020</td>\n",
       "      <td>0.161951</td>\n",
       "      <td>0.335414</td>\n",
       "      <td>0.020165</td>\n",
       "      <td>0.169411</td>\n",
       "      <td>0.040359</td>\n",
       "      <td>0.061398</td>\n",
       "    </tr>\n",
       "    <tr>\n",
       "      <th>4</th>\n",
       "      <td>Electric Drive Vehicle Development and Evaluat...</td>\n",
       "      <td>To reduce development time and introduce techn...</td>\n",
       "      <td>2014</td>\n",
       "      <td>reduce development time introduce technology f...</td>\n",
       "      <td>0</td>\n",
       "      <td>0.487260</td>\n",
       "      <td>0.042662</td>\n",
       "      <td>0.097253</td>\n",
       "      <td>0.059448</td>\n",
       "      <td>0.029092</td>\n",
       "      <td>0.165888</td>\n",
       "      <td>0.037608</td>\n",
       "      <td>0.069110</td>\n",
       "    </tr>\n",
       "  </tbody>\n",
       "</table>\n",
       "</div>"
      ],
      "text/plain": [
       "                                               title  \\\n",
       "0  Model-based Design Process for the Early Phase...   \n",
       "1     Model Based Systems Engineering using VHDL-AMS   \n",
       "2  Code Generation Approach Supporting Complex Sy...   \n",
       "3  Model based systems engineering as enabler for...   \n",
       "4  Electric Drive Vehicle Development and Evaluat...   \n",
       "\n",
       "                                            abstract  year  \\\n",
       "0  This paper presents an approach for a model-ba...  2017   \n",
       "1  The purpose of this paper is to contribute to ...  2013   \n",
       "2  Code generation is an effective way to drive t...  2022   \n",
       "3  Product complexity is steadily increasing, cus...  2021   \n",
       "4  To reduce development time and introduce techn...  2014   \n",
       "\n",
       "                                              tokens  topic         0  \\\n",
       "0  paper present approach planning process early ...      3  0.134677   \n",
       "1  purpose paper contribute definition ( ) approa...      6  0.166052   \n",
       "2  code generation effective way drive complex de...      5  0.048002   \n",
       "3  product complexity steadily increasing , custo...      3  0.144370   \n",
       "4  reduce development time introduce technology f...      0  0.487260   \n",
       "\n",
       "          1         2         3         4         5         6         7  \n",
       "0  0.049330  0.121864  0.157459  0.018720  0.165620  0.034708  0.056888  \n",
       "1  0.053813  0.101767  0.040338  0.025920  0.180074  0.204835  0.046355  \n",
       "2  0.023436  0.040045  0.012378  0.006812  0.110110  0.013624  0.015338  \n",
       "3  0.045020  0.161951  0.335414  0.020165  0.169411  0.040359  0.061398  \n",
       "4  0.042662  0.097253  0.059448  0.029092  0.165888  0.037608  0.069110  "
      ]
     },
     "execution_count": 3,
     "metadata": {},
     "output_type": "execute_result"
    }
   ],
   "source": [
    "# Take a quick look at the data\n",
    "journals.head()"
   ]
  },
  {
   "cell_type": "markdown",
   "id": "c502d844-86bc-4310-a44b-6316bc975cee",
   "metadata": {},
   "source": [
    "## Labels Identified from the Topic Model"
   ]
  },
  {
   "cell_type": "markdown",
   "id": "d10c1a48-5bb8-4c3b-95f3-c67d455ff3fc",
   "metadata": {},
   "source": [
    "Here, we will take a look at the key words extracted for each topic, as well as the top few articles of each topic to properly identify and assess intent behind each topic. We will then apply this information as well as our domain knowledge to generate a proper label for each topic."
   ]
  },
  {
   "cell_type": "markdown",
   "id": "500138e8-bdcd-4bda-a853-9712d633dd5a",
   "metadata": {},
   "source": [
    "|Topic| Top 10 Key Words for Topic| Topic Label Using Domain Knowledge|\n",
    "|-----|---------------------------|-----------------------------------|\n",
    "|0| cubesat, vehicle, spacecraft, satelite, requirement, nasa, modeling, submarine, payload, electric vehicle| Application of MBSE in Projects|\n",
    "|1| sysml, modeling, simulation, modeling language, uml, language sysml, diagram, modeling language sysml, software, specification| Modeling language for MBSE|\n",
    "|2| ontology, research, reuse, paper, industry, knowledge, semantic, tool, modeling, database| Adoption of MBSE and its Evaluation Metrics|\n",
    "|3| development, product development, production, process, manufacturing, industrial, iot, product line, toolchain, development process| Product Development Process Using MBSE|\n",
    "|4| reliability, safety analysis, fmea, fault tree, design safety, safety artifact, medical device, reliability analysis, failure mode, safety critical| Safety Assurance Using MBSE|\n",
    "|5| mechatronic, inspection, inspection equipment, production scheduling, modeling, constraint, business rule, validation, property verification, mechatronic product| Validation & Verification Using MBSE|\n",
    "|6| requirement, design, engineer, specification, hcd, wfrequirements, text-based requirement, cm process, property-based requirement, methodology| MBSE for Requirements Specification|\n",
    "|7| digital twin, cyber, resilience, mbsecps, simplexity test-bed, security threat, vulnerability, twin technology, risk assessment, cpg| MBSE for Digital Twin and Cybersecurity|\n"
   ]
  },
  {
   "cell_type": "code",
   "execution_count": 15,
   "id": "d87ff1e5-cdf4-4cab-97c8-88a1bac40847",
   "metadata": {
    "scrolled": true,
    "tags": []
   },
   "outputs": [
    {
     "data": {
      "text/html": [
       "<div>\n",
       "<style scoped>\n",
       "    .dataframe tbody tr th:only-of-type {\n",
       "        vertical-align: middle;\n",
       "    }\n",
       "\n",
       "    .dataframe tbody tr th {\n",
       "        vertical-align: top;\n",
       "    }\n",
       "\n",
       "    .dataframe thead th {\n",
       "        text-align: right;\n",
       "    }\n",
       "</style>\n",
       "<table border=\"1\" class=\"dataframe\">\n",
       "  <thead>\n",
       "    <tr style=\"text-align: right;\">\n",
       "      <th></th>\n",
       "      <th>title</th>\n",
       "      <th>abstract</th>\n",
       "      <th>0</th>\n",
       "    </tr>\n",
       "  </thead>\n",
       "  <tbody>\n",
       "    <tr>\n",
       "      <th>719</th>\n",
       "      <td>Forward Design of Landing Gear Retraction Syst...</td>\n",
       "      <td>In this paper, according to the forward design...</td>\n",
       "      <td>1.0</td>\n",
       "    </tr>\n",
       "    <tr>\n",
       "      <th>422</th>\n",
       "      <td>The Economic Benefits of Human Performance Mod...</td>\n",
       "      <td>Abstract Human performance modeling (HPM) is a...</td>\n",
       "      <td>1.0</td>\n",
       "    </tr>\n",
       "    <tr>\n",
       "      <th>582</th>\n",
       "      <td>MBSE approach to support and formalize mission...</td>\n",
       "      <td>This paper deals with the application of a Mod...</td>\n",
       "      <td>1.0</td>\n",
       "    </tr>\n",
       "    <tr>\n",
       "      <th>52</th>\n",
       "      <td>Model-Based Systems Engineering approach for t...</td>\n",
       "      <td>The Origins Spectral Interpretation Resource I...</td>\n",
       "      <td>1.0</td>\n",
       "    </tr>\n",
       "    <tr>\n",
       "      <th>820</th>\n",
       "      <td>The Digital (Mission) Twin: an Integrating Con...</td>\n",
       "      <td>Top-down decomposition of a complex system of ...</td>\n",
       "      <td>1.0</td>\n",
       "    </tr>\n",
       "  </tbody>\n",
       "</table>\n",
       "</div>"
      ],
      "text/plain": [
       "                                                 title  \\\n",
       "719  Forward Design of Landing Gear Retraction Syst...   \n",
       "422  The Economic Benefits of Human Performance Mod...   \n",
       "582  MBSE approach to support and formalize mission...   \n",
       "52   Model-Based Systems Engineering approach for t...   \n",
       "820  The Digital (Mission) Twin: an Integrating Con...   \n",
       "\n",
       "                                              abstract    0  \n",
       "719  In this paper, according to the forward design...  1.0  \n",
       "422  Abstract Human performance modeling (HPM) is a...  1.0  \n",
       "582  This paper deals with the application of a Mod...  1.0  \n",
       "52   The Origins Spectral Interpretation Resource I...  1.0  \n",
       "820  Top-down decomposition of a complex system of ...  1.0  "
      ]
     },
     "execution_count": 15,
     "metadata": {},
     "output_type": "execute_result"
    }
   ],
   "source": [
    "# Take a look at the top 5 articles for Topic 0\n",
    "journals[['title', 'abstract', '0']].sort_values(by = '0', ascending=False).head()"
   ]
  },
  {
   "cell_type": "code",
   "execution_count": 17,
   "id": "6aca7111-4fbc-4a7f-b354-3447bb565dcb",
   "metadata": {},
   "outputs": [
    {
     "data": {
      "text/html": [
       "<div>\n",
       "<style scoped>\n",
       "    .dataframe tbody tr th:only-of-type {\n",
       "        vertical-align: middle;\n",
       "    }\n",
       "\n",
       "    .dataframe tbody tr th {\n",
       "        vertical-align: top;\n",
       "    }\n",
       "\n",
       "    .dataframe thead th {\n",
       "        text-align: right;\n",
       "    }\n",
       "</style>\n",
       "<table border=\"1\" class=\"dataframe\">\n",
       "  <thead>\n",
       "    <tr style=\"text-align: right;\">\n",
       "      <th></th>\n",
       "      <th>title</th>\n",
       "      <th>abstract</th>\n",
       "      <th>1</th>\n",
       "    </tr>\n",
       "  </thead>\n",
       "  <tbody>\n",
       "    <tr>\n",
       "      <th>788</th>\n",
       "      <td>Simulating SysML transportation models</td>\n",
       "      <td>Model-based Systems Engineering (MBSE) promise...</td>\n",
       "      <td>1.0</td>\n",
       "    </tr>\n",
       "    <tr>\n",
       "      <th>186</th>\n",
       "      <td>Simulation of Database Interactions for Early ...</td>\n",
       "      <td>Digitized enterprise processes often encompass...</td>\n",
       "      <td>1.0</td>\n",
       "    </tr>\n",
       "    <tr>\n",
       "      <th>375</th>\n",
       "      <td>Frenemies: OPM and SysML Together in an MBSE M...</td>\n",
       "      <td>Abstract A Frenemy is “a person with whom one ...</td>\n",
       "      <td>1.0</td>\n",
       "    </tr>\n",
       "    <tr>\n",
       "      <th>554</th>\n",
       "      <td>Creating SysML views from an OPM model</td>\n",
       "      <td>Conceptual modeling is key to model-based syst...</td>\n",
       "      <td>1.0</td>\n",
       "    </tr>\n",
       "    <tr>\n",
       "      <th>561</th>\n",
       "      <td>Verification of embedded system's specificatio...</td>\n",
       "      <td>The authors propose an extension of SysML whic...</td>\n",
       "      <td>1.0</td>\n",
       "    </tr>\n",
       "  </tbody>\n",
       "</table>\n",
       "</div>"
      ],
      "text/plain": [
       "                                                 title  \\\n",
       "788             Simulating SysML transportation models   \n",
       "186  Simulation of Database Interactions for Early ...   \n",
       "375  Frenemies: OPM and SysML Together in an MBSE M...   \n",
       "554             Creating SysML views from an OPM model   \n",
       "561  Verification of embedded system's specificatio...   \n",
       "\n",
       "                                              abstract    1  \n",
       "788  Model-based Systems Engineering (MBSE) promise...  1.0  \n",
       "186  Digitized enterprise processes often encompass...  1.0  \n",
       "375  Abstract A Frenemy is “a person with whom one ...  1.0  \n",
       "554  Conceptual modeling is key to model-based syst...  1.0  \n",
       "561  The authors propose an extension of SysML whic...  1.0  "
      ]
     },
     "execution_count": 17,
     "metadata": {},
     "output_type": "execute_result"
    }
   ],
   "source": [
    "# Take a look at the top 5 articles for Topic 1\n",
    "journals[['title', 'abstract', '1']].sort_values(by = '1', ascending=False).head()"
   ]
  },
  {
   "cell_type": "code",
   "execution_count": 18,
   "id": "460e395c-d8a6-4ffb-b72b-5461af4fef90",
   "metadata": {},
   "outputs": [
    {
     "data": {
      "text/html": [
       "<div>\n",
       "<style scoped>\n",
       "    .dataframe tbody tr th:only-of-type {\n",
       "        vertical-align: middle;\n",
       "    }\n",
       "\n",
       "    .dataframe tbody tr th {\n",
       "        vertical-align: top;\n",
       "    }\n",
       "\n",
       "    .dataframe thead th {\n",
       "        text-align: right;\n",
       "    }\n",
       "</style>\n",
       "<table border=\"1\" class=\"dataframe\">\n",
       "  <thead>\n",
       "    <tr style=\"text-align: right;\">\n",
       "      <th></th>\n",
       "      <th>title</th>\n",
       "      <th>abstract</th>\n",
       "      <th>2</th>\n",
       "    </tr>\n",
       "  </thead>\n",
       "  <tbody>\n",
       "    <tr>\n",
       "      <th>133</th>\n",
       "      <td>The Ontology of Systems Engineering: Towards a...</td>\n",
       "      <td>The goal of implementing an enterprise digital...</td>\n",
       "      <td>1.0</td>\n",
       "    </tr>\n",
       "    <tr>\n",
       "      <th>301</th>\n",
       "      <td>Towards Developing Metrics to Evaluate Digital...</td>\n",
       "      <td>Abstract Model-based systems engineering (MBSE...</td>\n",
       "      <td>1.0</td>\n",
       "    </tr>\n",
       "    <tr>\n",
       "      <th>32</th>\n",
       "      <td>Maturity assessment of Systems Engineering reu...</td>\n",
       "      <td>To enable the transition towards Model-Based S...</td>\n",
       "      <td>1.0</td>\n",
       "    </tr>\n",
       "    <tr>\n",
       "      <th>591</th>\n",
       "      <td>Can ontologies prevent MBSE models from becomi...</td>\n",
       "      <td>Model-based systems engineering provides a sof...</td>\n",
       "      <td>1.0</td>\n",
       "    </tr>\n",
       "    <tr>\n",
       "      <th>233</th>\n",
       "      <td>Evolving Model-Based Systems Engineering Ontol...</td>\n",
       "      <td>Abstract Model-Based Systems Engineering (MBSE...</td>\n",
       "      <td>1.0</td>\n",
       "    </tr>\n",
       "  </tbody>\n",
       "</table>\n",
       "</div>"
      ],
      "text/plain": [
       "                                                 title  \\\n",
       "133  The Ontology of Systems Engineering: Towards a...   \n",
       "301  Towards Developing Metrics to Evaluate Digital...   \n",
       "32   Maturity assessment of Systems Engineering reu...   \n",
       "591  Can ontologies prevent MBSE models from becomi...   \n",
       "233  Evolving Model-Based Systems Engineering Ontol...   \n",
       "\n",
       "                                              abstract    2  \n",
       "133  The goal of implementing an enterprise digital...  1.0  \n",
       "301  Abstract Model-based systems engineering (MBSE...  1.0  \n",
       "32   To enable the transition towards Model-Based S...  1.0  \n",
       "591  Model-based systems engineering provides a sof...  1.0  \n",
       "233  Abstract Model-Based Systems Engineering (MBSE...  1.0  "
      ]
     },
     "execution_count": 18,
     "metadata": {},
     "output_type": "execute_result"
    }
   ],
   "source": [
    "# Take a look at the top 5 articles for Topic 2\n",
    "journals[['title', 'abstract', '2']].sort_values(by = '2', ascending=False).head()"
   ]
  },
  {
   "cell_type": "code",
   "execution_count": 19,
   "id": "bdeb72cc-2c83-4f82-9d6f-338d1586f356",
   "metadata": {},
   "outputs": [
    {
     "data": {
      "text/html": [
       "<div>\n",
       "<style scoped>\n",
       "    .dataframe tbody tr th:only-of-type {\n",
       "        vertical-align: middle;\n",
       "    }\n",
       "\n",
       "    .dataframe tbody tr th {\n",
       "        vertical-align: top;\n",
       "    }\n",
       "\n",
       "    .dataframe thead th {\n",
       "        text-align: right;\n",
       "    }\n",
       "</style>\n",
       "<table border=\"1\" class=\"dataframe\">\n",
       "  <thead>\n",
       "    <tr style=\"text-align: right;\">\n",
       "      <th></th>\n",
       "      <th>title</th>\n",
       "      <th>abstract</th>\n",
       "      <th>3</th>\n",
       "    </tr>\n",
       "  </thead>\n",
       "  <tbody>\n",
       "    <tr>\n",
       "      <th>182</th>\n",
       "      <td>Automated Derivation of Optimal Production Seq...</td>\n",
       "      <td>Customer specific, individual products nowaday...</td>\n",
       "      <td>1.0</td>\n",
       "    </tr>\n",
       "    <tr>\n",
       "      <th>678</th>\n",
       "      <td>Achieving flexibility in business process mode...</td>\n",
       "      <td>Companies nowadays are under increasing pressu...</td>\n",
       "      <td>1.0</td>\n",
       "    </tr>\n",
       "    <tr>\n",
       "      <th>610</th>\n",
       "      <td>Product-Process MBSE and Dysfunctional Analysi...</td>\n",
       "      <td>The integration of new technologies and the in...</td>\n",
       "      <td>1.0</td>\n",
       "    </tr>\n",
       "    <tr>\n",
       "      <th>618</th>\n",
       "      <td>Model-based Systems Engineering Process for Su...</td>\n",
       "      <td>Combining the benefits of model-based systems ...</td>\n",
       "      <td>1.0</td>\n",
       "    </tr>\n",
       "    <tr>\n",
       "      <th>13</th>\n",
       "      <td>Model Based Systems Engineering in Modular Des...</td>\n",
       "      <td>Many industries have to react progressively to...</td>\n",
       "      <td>1.0</td>\n",
       "    </tr>\n",
       "  </tbody>\n",
       "</table>\n",
       "</div>"
      ],
      "text/plain": [
       "                                                 title  \\\n",
       "182  Automated Derivation of Optimal Production Seq...   \n",
       "678  Achieving flexibility in business process mode...   \n",
       "610  Product-Process MBSE and Dysfunctional Analysi...   \n",
       "618  Model-based Systems Engineering Process for Su...   \n",
       "13   Model Based Systems Engineering in Modular Des...   \n",
       "\n",
       "                                              abstract    3  \n",
       "182  Customer specific, individual products nowaday...  1.0  \n",
       "678  Companies nowadays are under increasing pressu...  1.0  \n",
       "610  The integration of new technologies and the in...  1.0  \n",
       "618  Combining the benefits of model-based systems ...  1.0  \n",
       "13   Many industries have to react progressively to...  1.0  "
      ]
     },
     "execution_count": 19,
     "metadata": {},
     "output_type": "execute_result"
    }
   ],
   "source": [
    "# Take a look at the top 5 articles for Topic 3\n",
    "journals[['title', 'abstract', '3']].sort_values(by = '3', ascending=False).head()"
   ]
  },
  {
   "cell_type": "code",
   "execution_count": 20,
   "id": "1b35852d-85da-448a-b8fc-7f2870148dd4",
   "metadata": {},
   "outputs": [
    {
     "data": {
      "text/html": [
       "<div>\n",
       "<style scoped>\n",
       "    .dataframe tbody tr th:only-of-type {\n",
       "        vertical-align: middle;\n",
       "    }\n",
       "\n",
       "    .dataframe tbody tr th {\n",
       "        vertical-align: top;\n",
       "    }\n",
       "\n",
       "    .dataframe thead th {\n",
       "        text-align: right;\n",
       "    }\n",
       "</style>\n",
       "<table border=\"1\" class=\"dataframe\">\n",
       "  <thead>\n",
       "    <tr style=\"text-align: right;\">\n",
       "      <th></th>\n",
       "      <th>title</th>\n",
       "      <th>abstract</th>\n",
       "      <th>4</th>\n",
       "    </tr>\n",
       "  </thead>\n",
       "  <tbody>\n",
       "    <tr>\n",
       "      <th>593</th>\n",
       "      <td>An Integrated System Design and Safety Framewo...</td>\n",
       "      <td>Safety analysis is often performed independent...</td>\n",
       "      <td>1.0</td>\n",
       "    </tr>\n",
       "    <tr>\n",
       "      <th>130</th>\n",
       "      <td>AADL-Based safety analysis using formal method...</td>\n",
       "      <td>Model-based engineering tools are increasingly...</td>\n",
       "      <td>1.0</td>\n",
       "    </tr>\n",
       "    <tr>\n",
       "      <th>572</th>\n",
       "      <td>Obtaining Fault Trees Through SysML Diagrams: ...</td>\n",
       "      <td>Reliability analysis provides fundamental resu...</td>\n",
       "      <td>1.0</td>\n",
       "    </tr>\n",
       "    <tr>\n",
       "      <th>634</th>\n",
       "      <td>Dynamic Fault Tree Generation for Safety-Criti...</td>\n",
       "      <td>Systems are getting increasingly complex and c...</td>\n",
       "      <td>1.0</td>\n",
       "    </tr>\n",
       "    <tr>\n",
       "      <th>757</th>\n",
       "      <td>KAUSAL: A New Methodological Approach for Mode...</td>\n",
       "      <td>The increasing complexity of modern products i...</td>\n",
       "      <td>1.0</td>\n",
       "    </tr>\n",
       "  </tbody>\n",
       "</table>\n",
       "</div>"
      ],
      "text/plain": [
       "                                                 title  \\\n",
       "593  An Integrated System Design and Safety Framewo...   \n",
       "130  AADL-Based safety analysis using formal method...   \n",
       "572  Obtaining Fault Trees Through SysML Diagrams: ...   \n",
       "634  Dynamic Fault Tree Generation for Safety-Criti...   \n",
       "757  KAUSAL: A New Methodological Approach for Mode...   \n",
       "\n",
       "                                              abstract    4  \n",
       "593  Safety analysis is often performed independent...  1.0  \n",
       "130  Model-based engineering tools are increasingly...  1.0  \n",
       "572  Reliability analysis provides fundamental resu...  1.0  \n",
       "634  Systems are getting increasingly complex and c...  1.0  \n",
       "757  The increasing complexity of modern products i...  1.0  "
      ]
     },
     "execution_count": 20,
     "metadata": {},
     "output_type": "execute_result"
    }
   ],
   "source": [
    "# Take a look at the top 5 articles for Topic 4\n",
    "journals[['title', 'abstract', '4']].sort_values(by = '4', ascending=False).head()"
   ]
  },
  {
   "cell_type": "code",
   "execution_count": 21,
   "id": "0908a3fa-9076-4294-8448-be7204fe0df9",
   "metadata": {},
   "outputs": [
    {
     "data": {
      "text/html": [
       "<div>\n",
       "<style scoped>\n",
       "    .dataframe tbody tr th:only-of-type {\n",
       "        vertical-align: middle;\n",
       "    }\n",
       "\n",
       "    .dataframe tbody tr th {\n",
       "        vertical-align: top;\n",
       "    }\n",
       "\n",
       "    .dataframe thead th {\n",
       "        text-align: right;\n",
       "    }\n",
       "</style>\n",
       "<table border=\"1\" class=\"dataframe\">\n",
       "  <thead>\n",
       "    <tr style=\"text-align: right;\">\n",
       "      <th></th>\n",
       "      <th>title</th>\n",
       "      <th>abstract</th>\n",
       "      <th>5</th>\n",
       "    </tr>\n",
       "  </thead>\n",
       "  <tbody>\n",
       "    <tr>\n",
       "      <th>667</th>\n",
       "      <td>A Practitioner’s Guide to Optimizing the Inter...</td>\n",
       "      <td>As model-based approaches to Systems Engineeri...</td>\n",
       "      <td>1.0</td>\n",
       "    </tr>\n",
       "    <tr>\n",
       "      <th>587</th>\n",
       "      <td>Requirement analysis of inspection equipment f...</td>\n",
       "      <td>Quality control is an essential part in the pr...</td>\n",
       "      <td>1.0</td>\n",
       "    </tr>\n",
       "    <tr>\n",
       "      <th>191</th>\n",
       "      <td>Modelling and Simulation for the Integrated De...</td>\n",
       "      <td>The development of mechatronic systems involve...</td>\n",
       "      <td>1.0</td>\n",
       "    </tr>\n",
       "    <tr>\n",
       "      <th>676</th>\n",
       "      <td>Practicing modelling in manufacturing</td>\n",
       "      <td>This paper is about understanding modelling pr...</td>\n",
       "      <td>1.0</td>\n",
       "    </tr>\n",
       "    <tr>\n",
       "      <th>677</th>\n",
       "      <td>Efficient recognition of finite satisfiability...</td>\n",
       "      <td>Models lie at the heart of the emerging Model-...</td>\n",
       "      <td>1.0</td>\n",
       "    </tr>\n",
       "  </tbody>\n",
       "</table>\n",
       "</div>"
      ],
      "text/plain": [
       "                                                 title  \\\n",
       "667  A Practitioner’s Guide to Optimizing the Inter...   \n",
       "587  Requirement analysis of inspection equipment f...   \n",
       "191  Modelling and Simulation for the Integrated De...   \n",
       "676              Practicing modelling in manufacturing   \n",
       "677  Efficient recognition of finite satisfiability...   \n",
       "\n",
       "                                              abstract    5  \n",
       "667  As model-based approaches to Systems Engineeri...  1.0  \n",
       "587  Quality control is an essential part in the pr...  1.0  \n",
       "191  The development of mechatronic systems involve...  1.0  \n",
       "676  This paper is about understanding modelling pr...  1.0  \n",
       "677  Models lie at the heart of the emerging Model-...  1.0  "
      ]
     },
     "execution_count": 21,
     "metadata": {},
     "output_type": "execute_result"
    }
   ],
   "source": [
    "# Take a look at the top 5 articles for Topic 5\n",
    "journals[['title', 'abstract', '5']].sort_values(by = '5', ascending=False).head()"
   ]
  },
  {
   "cell_type": "code",
   "execution_count": 22,
   "id": "082e5e21-dd7c-4420-bba0-28a1f9c602a7",
   "metadata": {},
   "outputs": [
    {
     "data": {
      "text/html": [
       "<div>\n",
       "<style scoped>\n",
       "    .dataframe tbody tr th:only-of-type {\n",
       "        vertical-align: middle;\n",
       "    }\n",
       "\n",
       "    .dataframe tbody tr th {\n",
       "        vertical-align: top;\n",
       "    }\n",
       "\n",
       "    .dataframe thead th {\n",
       "        text-align: right;\n",
       "    }\n",
       "</style>\n",
       "<table border=\"1\" class=\"dataframe\">\n",
       "  <thead>\n",
       "    <tr style=\"text-align: right;\">\n",
       "      <th></th>\n",
       "      <th>title</th>\n",
       "      <th>abstract</th>\n",
       "      <th>6</th>\n",
       "    </tr>\n",
       "  </thead>\n",
       "  <tbody>\n",
       "    <tr>\n",
       "      <th>849</th>\n",
       "      <td>Deploying model-based systems engineering with...</td>\n",
       "      <td>Prerequisites - to be provided by Customer. Pr...</td>\n",
       "      <td>1.0</td>\n",
       "    </tr>\n",
       "    <tr>\n",
       "      <th>450</th>\n",
       "      <td>Toward a property based requirements theory: S...</td>\n",
       "      <td>Abstract In this paper, we outline a property-...</td>\n",
       "      <td>1.0</td>\n",
       "    </tr>\n",
       "    <tr>\n",
       "      <th>215</th>\n",
       "      <td>7.2.3 On enabling a model-based systems engine...</td>\n",
       "      <td>Abstract This paper considers the requirements...</td>\n",
       "      <td>1.0</td>\n",
       "    </tr>\n",
       "    <tr>\n",
       "      <th>721</th>\n",
       "      <td>Structural Rules for an Intelligent Advisor to...</td>\n",
       "      <td>Requirements define the problem boundaries wit...</td>\n",
       "      <td>1.0</td>\n",
       "    </tr>\n",
       "    <tr>\n",
       "      <th>93</th>\n",
       "      <td>A decision-making framework for selecting an M...</td>\n",
       "      <td>The increasing system complexity due to techno...</td>\n",
       "      <td>1.0</td>\n",
       "    </tr>\n",
       "  </tbody>\n",
       "</table>\n",
       "</div>"
      ],
      "text/plain": [
       "                                                 title  \\\n",
       "849  Deploying model-based systems engineering with...   \n",
       "450  Toward a property based requirements theory: S...   \n",
       "215  7.2.3 On enabling a model-based systems engine...   \n",
       "721  Structural Rules for an Intelligent Advisor to...   \n",
       "93   A decision-making framework for selecting an M...   \n",
       "\n",
       "                                              abstract    6  \n",
       "849  Prerequisites - to be provided by Customer. Pr...  1.0  \n",
       "450  Abstract In this paper, we outline a property-...  1.0  \n",
       "215  Abstract This paper considers the requirements...  1.0  \n",
       "721  Requirements define the problem boundaries wit...  1.0  \n",
       "93   The increasing system complexity due to techno...  1.0  "
      ]
     },
     "execution_count": 22,
     "metadata": {},
     "output_type": "execute_result"
    }
   ],
   "source": [
    "# Take a look at the top 5 articles for Topic 6\n",
    "journals[['title', 'abstract', '6']].sort_values(by = '6', ascending=False).head()"
   ]
  },
  {
   "cell_type": "code",
   "execution_count": 23,
   "id": "63df1deb-582c-4720-be38-5694d1a64058",
   "metadata": {},
   "outputs": [
    {
     "data": {
      "text/html": [
       "<div>\n",
       "<style scoped>\n",
       "    .dataframe tbody tr th:only-of-type {\n",
       "        vertical-align: middle;\n",
       "    }\n",
       "\n",
       "    .dataframe tbody tr th {\n",
       "        vertical-align: top;\n",
       "    }\n",
       "\n",
       "    .dataframe thead th {\n",
       "        text-align: right;\n",
       "    }\n",
       "</style>\n",
       "<table border=\"1\" class=\"dataframe\">\n",
       "  <thead>\n",
       "    <tr style=\"text-align: right;\">\n",
       "      <th></th>\n",
       "      <th>title</th>\n",
       "      <th>abstract</th>\n",
       "      <th>7</th>\n",
       "    </tr>\n",
       "  </thead>\n",
       "  <tbody>\n",
       "    <tr>\n",
       "      <th>167</th>\n",
       "      <td>Subsystem selection for digital twin developme...</td>\n",
       "      <td>Digital twins are virtual representations of s...</td>\n",
       "      <td>1.0</td>\n",
       "    </tr>\n",
       "    <tr>\n",
       "      <th>668</th>\n",
       "      <td>Augmenting MBSE with Digital Twin Technology: ...</td>\n",
       "      <td>Model-Based Systems Engineering (MBSE) require...</td>\n",
       "      <td>1.0</td>\n",
       "    </tr>\n",
       "    <tr>\n",
       "      <th>796</th>\n",
       "      <td>Integrating Machine Learning in Digital Twins ...</td>\n",
       "      <td>Fueled by the opportunities for supporting man...</td>\n",
       "      <td>1.0</td>\n",
       "    </tr>\n",
       "    <tr>\n",
       "      <th>487</th>\n",
       "      <td>Enabling design of agile security in the IOT w...</td>\n",
       "      <td>Design for system security within the IOT is a...</td>\n",
       "      <td>1.0</td>\n",
       "    </tr>\n",
       "    <tr>\n",
       "      <th>446</th>\n",
       "      <td>Microreactor Testbed Automation through Digita...</td>\n",
       "      <td>Abstract Digital engineering is the practice o...</td>\n",
       "      <td>1.0</td>\n",
       "    </tr>\n",
       "  </tbody>\n",
       "</table>\n",
       "</div>"
      ],
      "text/plain": [
       "                                                 title  \\\n",
       "167  Subsystem selection for digital twin developme...   \n",
       "668  Augmenting MBSE with Digital Twin Technology: ...   \n",
       "796  Integrating Machine Learning in Digital Twins ...   \n",
       "487  Enabling design of agile security in the IOT w...   \n",
       "446  Microreactor Testbed Automation through Digita...   \n",
       "\n",
       "                                              abstract    7  \n",
       "167  Digital twins are virtual representations of s...  1.0  \n",
       "668  Model-Based Systems Engineering (MBSE) require...  1.0  \n",
       "796  Fueled by the opportunities for supporting man...  1.0  \n",
       "487  Design for system security within the IOT is a...  1.0  \n",
       "446  Abstract Digital engineering is the practice o...  1.0  "
      ]
     },
     "execution_count": 23,
     "metadata": {},
     "output_type": "execute_result"
    }
   ],
   "source": [
    "# Take a look at the top 5 articles for Topic 7\n",
    "journals[['title', 'abstract', '7']].sort_values(by = '7', ascending=False).head()"
   ]
  },
  {
   "cell_type": "markdown",
   "id": "f5ff63ee-effe-4c8a-9544-489c173e882a",
   "metadata": {},
   "source": [
    "## Distribution of Articles Across Labels"
   ]
  },
  {
   "cell_type": "markdown",
   "id": "d46fd9ab-0ba6-4608-a14c-0a34f2ff960d",
   "metadata": {},
   "source": [
    "Below we have plotted the distribution of articles across the topics. We can see that majority of the articles are in Topics 0 to 3. However, there is a reasonable number of topics in topics 4 to 7 to ensure that there is sufficient reading material for the topic and to do classification modeling later on."
   ]
  },
  {
   "cell_type": "code",
   "execution_count": 34,
   "id": "723e853b-ebe0-482d-a1cd-6b15ccbf6a2a",
   "metadata": {},
   "outputs": [
    {
     "data": {
      "image/png": "[encoded data removed]",
      "text/plain": [
       "<Figure size 640x480 with 1 Axes>"
      ]
     },
     "metadata": {},
     "output_type": "display_data"
    }
   ],
   "source": [
    "# Get the distribution of the topics\n",
    "topic_dist = journals['topic'].value_counts()\n",
    "\n",
    "# Plot the distribution of the topics\n",
    "sns.barplot(x=topic_dist.index, y=topic_dist.values, alpha=0.8)\n",
    "plt.title('Distribution of Topics')\n",
    "plt.ylabel('Number of Occurrences', fontsize=12)\n",
    "plt.xlabel('Topic', fontsize=12)\n",
    "plt.show()"
   ]
  },
  {
   "cell_type": "markdown",
   "id": "339910e6-c9c8-4209-822f-7e28b942a0d6",
   "metadata": {},
   "source": [
    "## Trends of Topics Over the Past 10 Years"
   ]
  },
  {
   "cell_type": "markdown",
   "id": "f9fa59a5-c3ad-43e9-8d8f-d230974baf11",
   "metadata": {},
   "source": [
    "Below is the distribution of topics by percentage over the past 10 years. We have identified two key insights:\n",
    "1. Despite Topic 4 (System Assurance using MBSE) have only 4 months of data in 2023, there has been a lot of interest in the field lately\n",
    "2. Prior to 2016, Topic 7 (MBSE for Digital Twin and Cybersecurity) had zero articles. In 2016, a lot of interest in the topic was picked up."
   ]
  },
  {
   "cell_type": "code",
   "execution_count": 52,
   "id": "45e5c40d-1955-4898-ada3-64ae9d7b283a",
   "metadata": {},
   "outputs": [
    {
     "data": {
      "image/png": "[encoded data removed]",
      "text/plain": [
       "<Figure size 640x480 with 1 Axes>"
      ]
     },
     "metadata": {},
     "output_type": "display_data"
    }
   ],
   "source": [
    "# Convert counts to percentages\n",
    "grouped_percent = grouped.div(grouped.sum(axis=1), axis=0) * 100\n",
    "\n",
    "# Plot the distribution over the years as percentages\n",
    "ax = grouped_percent.plot(kind='bar', stacked=True)\n",
    "\n",
    "# Add labels and title\n",
    "plt.xlabel('Year')\n",
    "plt.ylabel('Percentage')\n",
    "plt.title('Distribution of Topics in the Last 10 Years (Percentage)')\n",
    "\n",
    "# Place the legend outside the plot\n",
    "ax.legend(bbox_to_anchor=(1.05, 1), loc='upper left');"
   ]
  },
  {
   "cell_type": "markdown",
   "id": "bfdadb4c-53f4-400b-8065-a802046cb5a5",
   "metadata": {},
   "source": [
    "## Topic Insights"
   ]
  },
  {
   "cell_type": "markdown",
   "id": "b72d19cd-3f02-4a29-adcd-a2a5cdf10a77",
   "metadata": {},
   "source": [
    "By looking at the keywords and top few article abstracts for each other, we have also summarized each topic with its capabilities as well as identified stakeholder in the organization."
   ]
  },
  {
   "cell_type": "markdown",
   "id": "0a460ed6-8a8a-4b24-afa0-9c9443a772dc",
   "metadata": {},
   "source": [
    "|Topic| Topic Label| Topic Summary| Identified Stakeholder|\n",
    "|-----|------------|--------------|-----------------------|\n",
    "|0|Application of MBSE in Projects| Real-life examples of MBSE application <br><br> Aerospace, NASA, Electric Vehicles, Navel| EV-Electric Charging Pte Ltd subsidiary recently set up|\n",
    "|1|Modeling Language for MBSE| One of three pillars of MBSE <br><br> Systems Modeling Langauge (SysML)| All users, to learn language and modeling best practices|\n",
    "|2|Adoption of MBSE and Evaluation Metrics| Guide adoption process <br><br> Evaluation metrics for ROI| Core MBSE Team performing R&D to adopt MBSE in the Org|\n",
    "|3|Product Development Process using MBSE| Product Development <br><br> Manufacturing| Fare Systems Team performing in-house product development|\n",
    "|4|Safety Assurance using MBSE| Safety Analysis <br><br> Reliability <br><br> Failure Mode| Safety Assurance Team performing and reviewing safety and reliability analysis for new projects|\n",
    "|5|Validation & Verification using MBSE| V&V of product <br><br> Inspection of equipment| Project Teams in charge of ensuring project delivery|\n",
    "|6| MBSE for Requirements Specification| Design Requirements Specification <br><br> Change Management| Engineering Teams in charge of specifying requirements for new projects|\n",
    "|7| MBSE for Digital Twin and Cybersecurity| Digital Twin <br><br> Cyber Resilience <br><br> Vulnerability Assessment <br><br> Security| Cybersecurity & Project Teams delivering critical information infrastructure|"
   ]
  },
  {
   "cell_type": "markdown",
   "id": "8ce1c676-a5e8-4b6d-9c95-04d1aad48754",
   "metadata": {},
   "source": [
    "## Recommendations"
   ]
  },
  {
   "cell_type": "markdown",
   "id": "8cb6b8c0-a4ae-4b0f-9bd4-4bc0aa1561d7",
   "metadata": {},
   "source": [
    "Based on the insights and trends observed, we would make the following recommendations for the short-term and long-term."
   ]
  },
  {
   "cell_type": "markdown",
   "id": "fa6e9ed6-5407-4bc0-b992-1a3e58a84738",
   "metadata": {},
   "source": [
    "**Short-Term**\n",
    "\n",
    "As the core MBSE team only has the capacity to engage one stakeholder at a time, we would recommend to engage the Systems Assurance Team based on the following points:\n",
    "1. Current trends show that Systems Assurance is picking in the MBSE space\n",
    "2. Our teams share the same Director, which makes it easier to collaborate and overcome inertia to implement new things\n",
    "3. The nature of systems assurance has significant impact, given the importance of our MRT lines. This makes the ROI even more attractive"
   ]
  },
  {
   "cell_type": "markdown",
   "id": "55ae9674-22f2-4972-bd9d-a473c8a47dae",
   "metadata": {},
   "source": [
    "**Long-Term**\n",
    "\n",
    "We have now identified the capabilites of MBSE as well as the relevant stakeholders that could be engaged and could benefit from the implementation of MBSE. We can use this information to engage our management to properly plan at the organizational level for the adoption of MBSE."
   ]
  },
  {
   "cell_type": "markdown",
   "id": "9172b641-86e4-4f3e-9244-a5458adc93fa",
   "metadata": {},
   "source": [
    "## Future Works"
   ]
  },
  {
   "cell_type": "markdown",
   "id": "30455c3c-0f7d-4979-b9fd-2716d84fc95c",
   "metadata": {},
   "source": [
    "As part of our future works, we would like to further break down Topic 0 (Application of MBSE in Projects) into specific domains such as aerospace, naval, electric vehicles, NASA, etc. This would be beneficial to domain specific stakeholders as they can view articles specific to their field."
   ]
  },
  {
   "cell_type": "markdown",
   "id": "b377244f-6a96-4147-b0ac-742af1775309",
   "metadata": {},
   "source": [
    "## Next Step"
   ]
  },
  {
   "cell_type": "markdown",
   "id": "6ef58b84-1674-40da-a910-d04c5349f6f3",
   "metadata": {},
   "source": [
    "In the next notebook, we will train a classification model to help label newly published articles "
   ]
  }
 ],
 "metadata": {
  "kernelspec": {
   "display_name": "dsi-sg",
   "language": "python",
   "name": "dsi-sg"
  },
  "language_info": {
   "codemirror_mode": {
    "name": "ipython",
    "version": 3
   },
   "file_extension": ".py",
   "mimetype": "text/x-python",
   "name": "python",
   "nbconvert_exporter": "python",
   "pygments_lexer": "ipython3",
   "version": "3.9.13"
  }
 },
 "nbformat": 4,
 "nbformat_minor": 5
}
