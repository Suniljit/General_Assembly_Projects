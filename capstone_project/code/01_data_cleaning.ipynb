{
 "cells": [
  {
   "cell_type": "markdown",
   "id": "3e7f9ea4-ebc7-4541-af5d-7c8cbc1b33a9",
   "metadata": {},
   "source": [
    "# Capstone Project: Topic Modelling of Academic Journals (Model-Based Systems Engineering)"
   ]
  },
  {
   "cell_type": "markdown",
   "id": "2bb2784c-f7cc-446f-aa4c-080bfc10f55a",
   "metadata": {},
   "source": [
    "# Problem Statement"
   ]
  },
  {
   "cell_type": "markdown",
   "id": "972217b4-e209-4503-aac2-2d8e63a167d9",
   "metadata": {},
   "source": [
    "Due to the increasing complexity of engineering projects, there is a growing trend to adopt Model-Based Systems Engineering (MBSE) over the traditional Document-Based Systems Engineering (DBSE). However, as Systems Engineering is a large field and there are limited resourses availablity to work ont he adoption of MBSE, our organization needs to prioritize which aspect of MBSE to implement. However, as this is still an emerging field, we are unaware of the best approach to take or what aspects of MBSE are available and applicable for our context. <br>\n",
    "\n",
    "By applying topic modeling to the abstracts of academic research articles and conference papers on MBSE, our organization can be better equiped to implement MBSE where it is most impactful. <br>\n",
    "\n",
    "In particular, we will use topic modeling to try to address the following three points:\n",
    "1. Identification of organizational enterprise goals\n",
    "2. Where to focus R&D research efforts\n",
    "3. Identify latest trends in the field"
   ]
  },
  {
   "cell_type": "markdown",
   "id": "9a27b9e8-7ca3-45b3-ba21-182999c68bd5",
   "metadata": {},
   "source": [
    "# Data Collected"
   ]
  },
  {
   "cell_type": "markdown",
   "id": "4e2a1dcf-75c3-44eb-b3b4-de79062da4b0",
   "metadata": {},
   "source": [
    "Our data was collected from the below three sources: <br>\n",
    "1. Institute of Electrical & Electronics Engineers (IEEE) - 384 articles\n",
    "2. International Council on Systems Engineering (INCOSE) - 257 articles\n",
    "3. Science Direct - 210 articles"
   ]
  },
  {
   "cell_type": "markdown",
   "id": "62c83ece-a75d-420a-8d38-cb74fd6d54ed",
   "metadata": {},
   "source": [
    "# 01: Data Cleaning"
   ]
  },
  {
   "cell_type": "markdown",
   "id": "2d2763ac-c246-4308-ac4c-13c468a8d96b",
   "metadata": {},
   "source": [
    "For the remainder of the notebook, we will import and clean the data. As the data was collected in both csv and bibtex format, we will use a library known as bibtexparser to help import the bibtex format and process it. "
   ]
  },
  {
   "cell_type": "markdown",
   "id": "6cdff992-4c67-4de1-b296-a6d81278244b",
   "metadata": {},
   "source": [
    "## Import Libraries"
   ]
  },
  {
   "cell_type": "code",
   "execution_count": 1,
   "id": "a526d9e3-e212-4099-b622-5ef395e395e2",
   "metadata": {},
   "outputs": [],
   "source": [
    "# Import the necessary libraries\n",
    "import pandas as pd\n",
    "import numpy as np\n",
    "import bibtexparser\n",
    "\n",
    "# Set all columns and rows to be displayed\n",
    "pd.set_option('display.max_columns', None)\n",
    "pd.set_option('display.max_rows', None)"
   ]
  },
  {
   "cell_type": "markdown",
   "id": "4a1ee27f-4a41-4c4b-95d7-879bfa613da8",
   "metadata": {},
   "source": [
    "## Import and Clean Data from Science Direct"
   ]
  },
  {
   "cell_type": "code",
   "execution_count": 2,
   "id": "a1487f35-c44c-4e79-8bf1-0a2ee1033bdb",
   "metadata": {},
   "outputs": [
    {
     "data": {
      "text/html": [
       "<div>\n",
       "<style scoped>\n",
       "    .dataframe tbody tr th:only-of-type {\n",
       "        vertical-align: middle;\n",
       "    }\n",
       "\n",
       "    .dataframe tbody tr th {\n",
       "        vertical-align: top;\n",
       "    }\n",
       "\n",
       "    .dataframe thead th {\n",
       "        text-align: right;\n",
       "    }\n",
       "</style>\n",
       "<table border=\"1\" class=\"dataframe\">\n",
       "  <thead>\n",
       "    <tr style=\"text-align: right;\">\n",
       "      <th></th>\n",
       "      <th>abstract</th>\n",
       "      <th>keywords</th>\n",
       "      <th>author</th>\n",
       "      <th>url</th>\n",
       "      <th>doi</th>\n",
       "      <th>issn</th>\n",
       "      <th>note</th>\n",
       "      <th>year</th>\n",
       "      <th>pages</th>\n",
       "      <th>volume</th>\n",
       "      <th>journal</th>\n",
       "      <th>title</th>\n",
       "      <th>ENTRYTYPE</th>\n",
       "      <th>ID</th>\n",
       "      <th>number</th>\n",
       "      <th>isbn</th>\n",
       "      <th>series</th>\n",
       "      <th>address</th>\n",
       "      <th>publisher</th>\n",
       "      <th>booktitle</th>\n",
       "      <th>editor</th>\n",
       "      <th>edition</th>\n",
       "    </tr>\n",
       "  </thead>\n",
       "  <tbody>\n",
       "    <tr>\n",
       "      <th>0</th>\n",
       "      <td>This paper presents an approach for a model-ba...</td>\n",
       "      <td>Manufacturing, System, Planning, Design, Metho...</td>\n",
       "      <td>Chantal Steimer and Jan Fischer and Jan C. Aurich</td>\n",
       "      <td>https://www.sciencedirect.com/science/article/...</td>\n",
       "      <td>https://doi.org/10.1016/j.procir.2017.01.036</td>\n",
       "      <td>2212-8271</td>\n",
       "      <td>Complex Systems Engineering and Development Pr...</td>\n",
       "      <td>2017</td>\n",
       "      <td>163-168</td>\n",
       "      <td>60</td>\n",
       "      <td>Procedia CIRP</td>\n",
       "      <td>Model-based Design Process for the Early Phase...</td>\n",
       "      <td>article</td>\n",
       "      <td>STEIMER2017163</td>\n",
       "      <td>NaN</td>\n",
       "      <td>NaN</td>\n",
       "      <td>NaN</td>\n",
       "      <td>NaN</td>\n",
       "      <td>NaN</td>\n",
       "      <td>NaN</td>\n",
       "      <td>NaN</td>\n",
       "      <td>NaN</td>\n",
       "    </tr>\n",
       "    <tr>\n",
       "      <th>1</th>\n",
       "      <td>The purpose of this paper is to contribute to ...</td>\n",
       "      <td>Property-based requirement, MBSE, Specificatio...</td>\n",
       "      <td>Patrice Micouin</td>\n",
       "      <td>https://www.sciencedirect.com/science/article/...</td>\n",
       "      <td>https://doi.org/10.1016/j.procs.2013.01.014</td>\n",
       "      <td>1877-0509</td>\n",
       "      <td>2013 Conference on Systems Engineering Research</td>\n",
       "      <td>2013</td>\n",
       "      <td>128-137</td>\n",
       "      <td>16</td>\n",
       "      <td>Procedia Computer Science</td>\n",
       "      <td>Model Based Systems Engineering using VHDL-AMS</td>\n",
       "      <td>article</td>\n",
       "      <td>MICOUIN2013128</td>\n",
       "      <td>NaN</td>\n",
       "      <td>NaN</td>\n",
       "      <td>NaN</td>\n",
       "      <td>NaN</td>\n",
       "      <td>NaN</td>\n",
       "      <td>NaN</td>\n",
       "      <td>NaN</td>\n",
       "      <td>NaN</td>\n",
       "    </tr>\n",
       "  </tbody>\n",
       "</table>\n",
       "</div>"
      ],
      "text/plain": [
       "                                            abstract  \\\n",
       "0  This paper presents an approach for a model-ba...   \n",
       "1  The purpose of this paper is to contribute to ...   \n",
       "\n",
       "                                            keywords  \\\n",
       "0  Manufacturing, System, Planning, Design, Metho...   \n",
       "1  Property-based requirement, MBSE, Specificatio...   \n",
       "\n",
       "                                              author  \\\n",
       "0  Chantal Steimer and Jan Fischer and Jan C. Aurich   \n",
       "1                                    Patrice Micouin   \n",
       "\n",
       "                                                 url  \\\n",
       "0  https://www.sciencedirect.com/science/article/...   \n",
       "1  https://www.sciencedirect.com/science/article/...   \n",
       "\n",
       "                                            doi       issn  \\\n",
       "0  https://doi.org/10.1016/j.procir.2017.01.036  2212-8271   \n",
       "1   https://doi.org/10.1016/j.procs.2013.01.014  1877-0509   \n",
       "\n",
       "                                                note  year    pages volume  \\\n",
       "0  Complex Systems Engineering and Development Pr...  2017  163-168     60   \n",
       "1    2013 Conference on Systems Engineering Research  2013  128-137     16   \n",
       "\n",
       "                     journal  \\\n",
       "0              Procedia CIRP   \n",
       "1  Procedia Computer Science   \n",
       "\n",
       "                                               title ENTRYTYPE  \\\n",
       "0  Model-based Design Process for the Early Phase...   article   \n",
       "1     Model Based Systems Engineering using VHDL-AMS   article   \n",
       "\n",
       "               ID number isbn series address publisher booktitle editor  \\\n",
       "0  STEIMER2017163    NaN  NaN    NaN     NaN       NaN       NaN    NaN   \n",
       "1  MICOUIN2013128    NaN  NaN    NaN     NaN       NaN       NaN    NaN   \n",
       "\n",
       "  edition  \n",
       "0     NaN  \n",
       "1     NaN  "
      ]
     },
     "execution_count": 2,
     "metadata": {},
     "output_type": "execute_result"
    }
   ],
   "source": [
    "# List of .bib files to import\n",
    "bib_files = ['../data/ScienceDirect_articles_1_100.bib', \n",
    "             '../data/ScienceDirect_articles_101_200.bib', \n",
    "             '../data/ScienceDirect_articles_201_210.bib']\n",
    "\n",
    "# Initialize an empty list to store the bib_database objects\n",
    "bib_databases = []\n",
    "\n",
    "# Load each .bib file into a bib_database object\n",
    "for bib_file in bib_files:\n",
    "    with open(bib_file) as bibtex_file:\n",
    "        bib_database = bibtexparser.load(bibtex_file)\n",
    "        bib_databases.append(bib_database)\n",
    "\n",
    "# Extract the entries from each bib_database object and combine them into a single list\n",
    "entries = []\n",
    "for bib_database in bib_databases:\n",
    "    entries.extend(bib_database.entries)\n",
    "\n",
    "# Convert the list of entries to a pandas dataframe\n",
    "sd_articles = pd.DataFrame(entries)\n",
    "\n",
    "# Display the resulting dataframe\n",
    "sd_articles.head(2)"
   ]
  },
  {
   "cell_type": "code",
   "execution_count": 3,
   "id": "f84b5b80-8900-4871-98ce-4ff8d3f1f815",
   "metadata": {},
   "outputs": [
    {
     "data": {
      "text/plain": [
       "(210, 22)"
      ]
     },
     "execution_count": 3,
     "metadata": {},
     "output_type": "execute_result"
    }
   ],
   "source": [
    "# Check the shape of the dataframe to confirm it has been imported correctly\n",
    "sd_articles.shape"
   ]
  },
  {
   "cell_type": "code",
   "execution_count": 4,
   "id": "754e6edd-eb15-42a5-bd52-7f384dcc7eab",
   "metadata": {},
   "outputs": [
    {
     "data": {
      "text/plain": [
       "Index(['abstract', 'keywords', 'author', 'url', 'doi', 'issn', 'note', 'year',\n",
       "       'pages', 'volume', 'journal', 'title', 'ENTRYTYPE', 'ID', 'number',\n",
       "       'isbn', 'series', 'address', 'publisher', 'booktitle', 'editor',\n",
       "       'edition'],\n",
       "      dtype='object')"
      ]
     },
     "execution_count": 4,
     "metadata": {},
     "output_type": "execute_result"
    }
   ],
   "source": [
    "# Check what are the columns in the dataframe\n",
    "sd_articles.columns"
   ]
  },
  {
   "cell_type": "code",
   "execution_count": 5,
   "id": "f13ef7cd-cb9c-42c3-a47a-16cf4a46d623",
   "metadata": {},
   "outputs": [],
   "source": [
    "# Drop the columns we don't need\n",
    "sd_articles = sd_articles[['title', 'abstract', 'year']]"
   ]
  },
  {
   "cell_type": "code",
   "execution_count": 6,
   "id": "daba5be4-6efc-480b-a4c4-f675b36a4c2d",
   "metadata": {},
   "outputs": [
    {
     "data": {
      "text/html": [
       "<div>\n",
       "<style scoped>\n",
       "    .dataframe tbody tr th:only-of-type {\n",
       "        vertical-align: middle;\n",
       "    }\n",
       "\n",
       "    .dataframe tbody tr th {\n",
       "        vertical-align: top;\n",
       "    }\n",
       "\n",
       "    .dataframe thead th {\n",
       "        text-align: right;\n",
       "    }\n",
       "</style>\n",
       "<table border=\"1\" class=\"dataframe\">\n",
       "  <thead>\n",
       "    <tr style=\"text-align: right;\">\n",
       "      <th></th>\n",
       "      <th>title</th>\n",
       "      <th>abstract</th>\n",
       "      <th>year</th>\n",
       "    </tr>\n",
       "  </thead>\n",
       "  <tbody>\n",
       "    <tr>\n",
       "      <th>0</th>\n",
       "      <td>Model-based Design Process for the Early Phase...</td>\n",
       "      <td>This paper presents an approach for a model-ba...</td>\n",
       "      <td>2017</td>\n",
       "    </tr>\n",
       "    <tr>\n",
       "      <th>1</th>\n",
       "      <td>Model Based Systems Engineering using VHDL-AMS</td>\n",
       "      <td>The purpose of this paper is to contribute to ...</td>\n",
       "      <td>2013</td>\n",
       "    </tr>\n",
       "  </tbody>\n",
       "</table>\n",
       "</div>"
      ],
      "text/plain": [
       "                                               title  \\\n",
       "0  Model-based Design Process for the Early Phase...   \n",
       "1     Model Based Systems Engineering using VHDL-AMS   \n",
       "\n",
       "                                            abstract  year  \n",
       "0  This paper presents an approach for a model-ba...  2017  \n",
       "1  The purpose of this paper is to contribute to ...  2013  "
      ]
     },
     "execution_count": 6,
     "metadata": {},
     "output_type": "execute_result"
    }
   ],
   "source": [
    "# Check that the correct columns have been dropped\n",
    "sd_articles.head(2)"
   ]
  },
  {
   "cell_type": "code",
   "execution_count": 7,
   "id": "4f82d656-6b0f-4727-9da9-4c9d4bd38d6c",
   "metadata": {},
   "outputs": [
    {
     "name": "stdout",
     "output_type": "stream",
     "text": [
      "<class 'pandas.core.frame.DataFrame'>\n",
      "RangeIndex: 210 entries, 0 to 209\n",
      "Data columns (total 3 columns):\n",
      " #   Column    Non-Null Count  Dtype \n",
      "---  ------    --------------  ----- \n",
      " 0   title     210 non-null    object\n",
      " 1   abstract  209 non-null    object\n",
      " 2   year      210 non-null    object\n",
      "dtypes: object(3)\n",
      "memory usage: 5.0+ KB\n"
     ]
    }
   ],
   "source": [
    "# Check the dataframe types\n",
    "sd_articles.info()"
   ]
  },
  {
   "cell_type": "code",
   "execution_count": 8,
   "id": "85d64bc3-bb69-453d-8eed-6e46d8011722",
   "metadata": {},
   "outputs": [
    {
     "data": {
      "text/plain": [
       "title       0\n",
       "abstract    1\n",
       "year        0\n",
       "dtype: int64"
      ]
     },
     "execution_count": 8,
     "metadata": {},
     "output_type": "execute_result"
    }
   ],
   "source": [
    "# Check for null values\n",
    "sd_articles.isnull().sum()"
   ]
  },
  {
   "cell_type": "markdown",
   "id": "8ed65403-6011-4571-b074-15c924e0e9cf",
   "metadata": {},
   "source": [
    "Since there is only one article that is missing an abstract, we will drop it."
   ]
  },
  {
   "cell_type": "code",
   "execution_count": 9,
   "id": "af4b5300-21f2-4b99-8f91-cb163756f5ad",
   "metadata": {},
   "outputs": [],
   "source": [
    "# Drop null values\n",
    "sd_articles.dropna(inplace=True)"
   ]
  },
  {
   "cell_type": "markdown",
   "id": "a33a3220-e3fe-4313-a8c8-01043afdf49b",
   "metadata": {},
   "source": [
    "## Import and Clean Data from INCOSE"
   ]
  },
  {
   "cell_type": "code",
   "execution_count": 10,
   "id": "da834a68-5de7-4359-9bb3-062ee77e6540",
   "metadata": {},
   "outputs": [
    {
     "data": {
      "text/html": [
       "<div>\n",
       "<style scoped>\n",
       "    .dataframe tbody tr th:only-of-type {\n",
       "        vertical-align: middle;\n",
       "    }\n",
       "\n",
       "    .dataframe tbody tr th {\n",
       "        vertical-align: top;\n",
       "    }\n",
       "\n",
       "    .dataframe thead th {\n",
       "        text-align: right;\n",
       "    }\n",
       "</style>\n",
       "<table border=\"1\" class=\"dataframe\">\n",
       "  <thead>\n",
       "    <tr style=\"text-align: right;\">\n",
       "      <th></th>\n",
       "      <th>year</th>\n",
       "      <th>abstract</th>\n",
       "      <th>eprint</th>\n",
       "      <th>url</th>\n",
       "      <th>doi</th>\n",
       "      <th>keywords</th>\n",
       "      <th>pages</th>\n",
       "      <th>number</th>\n",
       "      <th>volume</th>\n",
       "      <th>journal</th>\n",
       "      <th>title</th>\n",
       "      <th>author</th>\n",
       "      <th>ENTRYTYPE</th>\n",
       "      <th>ID</th>\n",
       "    </tr>\n",
       "  </thead>\n",
       "  <tbody>\n",
       "    <tr>\n",
       "      <th>0</th>\n",
       "      <td>2023</td>\n",
       "      <td>Abstract Although Model-Based Systems Engineer...</td>\n",
       "      <td>https://incose.onlinelibrary.wiley.com/doi/pdf...</td>\n",
       "      <td>https://incose.onlinelibrary.wiley.com/doi/abs...</td>\n",
       "      <td>https://doi.org/10.1002/sys.21644</td>\n",
       "      <td>MBSE, model-based systems engineering, systems...</td>\n",
       "      <td>104-129</td>\n",
       "      <td>1</td>\n",
       "      <td>26</td>\n",
       "      <td>Systems Engineering</td>\n",
       "      <td>Model-based systems engineering: Evaluating pe...</td>\n",
       "      <td>Campo, Kelly X. and Teper, Thomas and Eaton, C...</td>\n",
       "      <td>article</td>\n",
       "      <td>https://doi.org/10.1002/sys.21644</td>\n",
       "    </tr>\n",
       "    <tr>\n",
       "      <th>1</th>\n",
       "      <td>2019</td>\n",
       "      <td>Abstract This paper aims to examine and docume...</td>\n",
       "      <td>https://incose.onlinelibrary.wiley.com/doi/pdf...</td>\n",
       "      <td>https://incose.onlinelibrary.wiley.com/doi/abs...</td>\n",
       "      <td>https://doi.org/10.1002/sys.21466</td>\n",
       "      <td>analytical hierarchy process (AHP), model-base...</td>\n",
       "      <td>134-145</td>\n",
       "      <td>2</td>\n",
       "      <td>22</td>\n",
       "      <td>Systems Engineering</td>\n",
       "      <td>State-of-practice survey of model-based system...</td>\n",
       "      <td>Huldt, T. and Stenius, I.</td>\n",
       "      <td>article</td>\n",
       "      <td>https://doi.org/10.1002/sys.21466</td>\n",
       "    </tr>\n",
       "  </tbody>\n",
       "</table>\n",
       "</div>"
      ],
      "text/plain": [
       "   year                                           abstract  \\\n",
       "0  2023  Abstract Although Model-Based Systems Engineer...   \n",
       "1  2019  Abstract This paper aims to examine and docume...   \n",
       "\n",
       "                                              eprint  \\\n",
       "0  https://incose.onlinelibrary.wiley.com/doi/pdf...   \n",
       "1  https://incose.onlinelibrary.wiley.com/doi/pdf...   \n",
       "\n",
       "                                                 url  \\\n",
       "0  https://incose.onlinelibrary.wiley.com/doi/abs...   \n",
       "1  https://incose.onlinelibrary.wiley.com/doi/abs...   \n",
       "\n",
       "                                 doi  \\\n",
       "0  https://doi.org/10.1002/sys.21644   \n",
       "1  https://doi.org/10.1002/sys.21466   \n",
       "\n",
       "                                            keywords    pages number volume  \\\n",
       "0  MBSE, model-based systems engineering, systems...  104-129      1     26   \n",
       "1  analytical hierarchy process (AHP), model-base...  134-145      2     22   \n",
       "\n",
       "               journal                                              title  \\\n",
       "0  Systems Engineering  Model-based systems engineering: Evaluating pe...   \n",
       "1  Systems Engineering  State-of-practice survey of model-based system...   \n",
       "\n",
       "                                              author ENTRYTYPE  \\\n",
       "0  Campo, Kelly X. and Teper, Thomas and Eaton, C...   article   \n",
       "1                          Huldt, T. and Stenius, I.   article   \n",
       "\n",
       "                                  ID  \n",
       "0  https://doi.org/10.1002/sys.21644  \n",
       "1  https://doi.org/10.1002/sys.21466  "
      ]
     },
     "execution_count": 10,
     "metadata": {},
     "output_type": "execute_result"
    }
   ],
   "source": [
    "# List of .bib files to import\n",
    "bib_files = ['../data/incose_articles_1_20.bib', \n",
    "             '../data/incose_articles_21_40.bib',\n",
    "             '../data/incose_articles_41_60.bib',\n",
    "             '../data/incose_articles_61_80.bib',\n",
    "             '../data/incose_articles_81_100.bib',\n",
    "             '../data/incose_articles_101_120.bib',\n",
    "             '../data/incose_articles_121_140.bib',\n",
    "             '../data/incose_articles_141_160.bib',\n",
    "             '../data/incose_articles_161_180.bib',\n",
    "             '../data/incose_articles_181_200.bib',\n",
    "             '../data/incose_articles_201_220.bib',\n",
    "             '../data/incose_articles_221_240.bib',\n",
    "             '../data/incose_articles_241_257.bib',]\n",
    "\n",
    "# Initialize an empty list to store the bib_database objects\n",
    "bib_databases = []\n",
    "\n",
    "# Load each .bib file into a bib_database object\n",
    "for bib_file in bib_files:\n",
    "    with open(bib_file) as bibtex_file:\n",
    "        bib_database = bibtexparser.load(bibtex_file)\n",
    "        bib_databases.append(bib_database)\n",
    "\n",
    "# Extract the entries from each bib_database object and combine them into a single list\n",
    "entries = []\n",
    "for bib_database in bib_databases:\n",
    "    entries.extend(bib_database.entries)\n",
    "\n",
    "# Convert the list of entries to a pandas dataframe\n",
    "incose_articles = pd.DataFrame(entries)\n",
    "\n",
    "# Display the resulting dataframe\n",
    "incose_articles.head(2)"
   ]
  },
  {
   "cell_type": "code",
   "execution_count": 11,
   "id": "827311c1-df2d-4210-a1e8-12fcb4b9c5f4",
   "metadata": {},
   "outputs": [
    {
     "data": {
      "text/plain": [
       "(257, 14)"
      ]
     },
     "execution_count": 11,
     "metadata": {},
     "output_type": "execute_result"
    }
   ],
   "source": [
    "# Check the shape of the dataframe to confirm it has been imported correctly\n",
    "incose_articles.shape"
   ]
  },
  {
   "cell_type": "code",
   "execution_count": 12,
   "id": "ba9380a2-675d-4416-9b23-4f3137ed7a7e",
   "metadata": {},
   "outputs": [
    {
     "data": {
      "text/plain": [
       "Index(['year', 'abstract', 'eprint', 'url', 'doi', 'keywords', 'pages',\n",
       "       'number', 'volume', 'journal', 'title', 'author', 'ENTRYTYPE', 'ID'],\n",
       "      dtype='object')"
      ]
     },
     "execution_count": 12,
     "metadata": {},
     "output_type": "execute_result"
    }
   ],
   "source": [
    "# Check what are the columns in the dataframe\n",
    "incose_articles.columns"
   ]
  },
  {
   "cell_type": "code",
   "execution_count": 13,
   "id": "2803866e-b7f6-49e0-902e-58872f2d283c",
   "metadata": {},
   "outputs": [],
   "source": [
    "# Drop the columns we don't need\n",
    "incose_articles = incose_articles[['title', 'abstract', 'year']]"
   ]
  },
  {
   "cell_type": "code",
   "execution_count": 14,
   "id": "e786df32-d855-4df0-a53f-0daf90f1ef75",
   "metadata": {},
   "outputs": [
    {
     "data": {
      "text/html": [
       "<div>\n",
       "<style scoped>\n",
       "    .dataframe tbody tr th:only-of-type {\n",
       "        vertical-align: middle;\n",
       "    }\n",
       "\n",
       "    .dataframe tbody tr th {\n",
       "        vertical-align: top;\n",
       "    }\n",
       "\n",
       "    .dataframe thead th {\n",
       "        text-align: right;\n",
       "    }\n",
       "</style>\n",
       "<table border=\"1\" class=\"dataframe\">\n",
       "  <thead>\n",
       "    <tr style=\"text-align: right;\">\n",
       "      <th></th>\n",
       "      <th>title</th>\n",
       "      <th>abstract</th>\n",
       "      <th>year</th>\n",
       "    </tr>\n",
       "  </thead>\n",
       "  <tbody>\n",
       "    <tr>\n",
       "      <th>0</th>\n",
       "      <td>Model-based systems engineering: Evaluating pe...</td>\n",
       "      <td>Abstract Although Model-Based Systems Engineer...</td>\n",
       "      <td>2023</td>\n",
       "    </tr>\n",
       "    <tr>\n",
       "      <th>1</th>\n",
       "      <td>State-of-practice survey of model-based system...</td>\n",
       "      <td>Abstract This paper aims to examine and docume...</td>\n",
       "      <td>2019</td>\n",
       "    </tr>\n",
       "  </tbody>\n",
       "</table>\n",
       "</div>"
      ],
      "text/plain": [
       "                                               title  \\\n",
       "0  Model-based systems engineering: Evaluating pe...   \n",
       "1  State-of-practice survey of model-based system...   \n",
       "\n",
       "                                            abstract  year  \n",
       "0  Abstract Although Model-Based Systems Engineer...  2023  \n",
       "1  Abstract This paper aims to examine and docume...  2019  "
      ]
     },
     "execution_count": 14,
     "metadata": {},
     "output_type": "execute_result"
    }
   ],
   "source": [
    "# Check that the correct columns have been dropped\n",
    "incose_articles.head(2)"
   ]
  },
  {
   "cell_type": "code",
   "execution_count": 15,
   "id": "95f44df2-ee35-4a7a-8210-0b75f0f3beb4",
   "metadata": {},
   "outputs": [
    {
     "name": "stdout",
     "output_type": "stream",
     "text": [
      "<class 'pandas.core.frame.DataFrame'>\n",
      "RangeIndex: 257 entries, 0 to 256\n",
      "Data columns (total 3 columns):\n",
      " #   Column    Non-Null Count  Dtype \n",
      "---  ------    --------------  ----- \n",
      " 0   title     257 non-null    object\n",
      " 1   abstract  257 non-null    object\n",
      " 2   year      254 non-null    object\n",
      "dtypes: object(3)\n",
      "memory usage: 6.1+ KB\n"
     ]
    }
   ],
   "source": [
    "# Check the dataframe types\n",
    "incose_articles.info()"
   ]
  },
  {
   "cell_type": "code",
   "execution_count": 16,
   "id": "ebde6446-fa0a-421a-a4d8-9e5500f49db1",
   "metadata": {},
   "outputs": [
    {
     "data": {
      "text/plain": [
       "title       0\n",
       "abstract    0\n",
       "year        3\n",
       "dtype: int64"
      ]
     },
     "execution_count": 16,
     "metadata": {},
     "output_type": "execute_result"
    }
   ],
   "source": [
    "incose_articles.isnull().sum()"
   ]
  },
  {
   "cell_type": "code",
   "execution_count": 17,
   "id": "eb1bfbc7-02b5-4e91-8823-33fed4dba394",
   "metadata": {},
   "outputs": [],
   "source": [
    "# There are three rows with missing years. We will impute this value with the median\n",
    "median_year = np.median(incose_articles['year'].dropna().astype(int))\n",
    "incose_articles['year'].fillna(median_year, inplace=True)"
   ]
  },
  {
   "cell_type": "markdown",
   "id": "b6392d55-2e5c-4fcd-a9fe-f877c3ec7e44",
   "metadata": {},
   "source": [
    "## Import and Clean Data from IEEE"
   ]
  },
  {
   "cell_type": "code",
   "execution_count": 18,
   "id": "965af98f-8f1f-40c9-8a24-9d5acdf5e450",
   "metadata": {},
   "outputs": [
    {
     "data": {
      "text/html": [
       "<div>\n",
       "<style scoped>\n",
       "    .dataframe tbody tr th:only-of-type {\n",
       "        vertical-align: middle;\n",
       "    }\n",
       "\n",
       "    .dataframe tbody tr th {\n",
       "        vertical-align: top;\n",
       "    }\n",
       "\n",
       "    .dataframe thead th {\n",
       "        text-align: right;\n",
       "    }\n",
       "</style>\n",
       "<table border=\"1\" class=\"dataframe\">\n",
       "  <thead>\n",
       "    <tr style=\"text-align: right;\">\n",
       "      <th></th>\n",
       "      <th>Document Title</th>\n",
       "      <th>Authors</th>\n",
       "      <th>Author Affiliations</th>\n",
       "      <th>Publication Title</th>\n",
       "      <th>Date Added To Xplore</th>\n",
       "      <th>Publication Year</th>\n",
       "      <th>Volume</th>\n",
       "      <th>Issue</th>\n",
       "      <th>Start Page</th>\n",
       "      <th>End Page</th>\n",
       "      <th>Abstract</th>\n",
       "      <th>ISSN</th>\n",
       "      <th>ISBNs</th>\n",
       "      <th>DOI</th>\n",
       "      <th>Funding Information</th>\n",
       "      <th>PDF Link</th>\n",
       "      <th>Author Keywords</th>\n",
       "      <th>IEEE Terms</th>\n",
       "      <th>INSPEC Controlled Terms</th>\n",
       "      <th>INSPEC Non-Controlled Terms</th>\n",
       "      <th>Mesh_Terms</th>\n",
       "      <th>Article Citation Count</th>\n",
       "      <th>Patent Citation Count</th>\n",
       "      <th>Reference Count</th>\n",
       "      <th>License</th>\n",
       "      <th>Online Date</th>\n",
       "      <th>Issue Date</th>\n",
       "      <th>Meeting Date</th>\n",
       "      <th>Publisher</th>\n",
       "      <th>Document Identifier</th>\n",
       "    </tr>\n",
       "  </thead>\n",
       "  <tbody>\n",
       "    <tr>\n",
       "      <th>0</th>\n",
       "      <td>A generic conceptual model and actual systems ...</td>\n",
       "      <td>Donghun Yoon</td>\n",
       "      <td>Keio University, Japan</td>\n",
       "      <td>2009 International Conference on Model-Based S...</td>\n",
       "      <td>29 May 2009</td>\n",
       "      <td>2009</td>\n",
       "      <td>NaN</td>\n",
       "      <td>NaN</td>\n",
       "      <td>69</td>\n",
       "      <td>74</td>\n",
       "      <td>In this paper, a generic conceptual model and ...</td>\n",
       "      <td>NaN</td>\n",
       "      <td>978-1-4244-2967-7</td>\n",
       "      <td>10.1109/MBSE.2009.5031722</td>\n",
       "      <td>NaN</td>\n",
       "      <td>https://ieeexplore.ieee.org/stamp/stamp.jsp?ar...</td>\n",
       "      <td>NaN</td>\n",
       "      <td>Systems engineering and theory;Information man...</td>\n",
       "      <td>information management;smart cards;systems eng...</td>\n",
       "      <td>generic conceptual model;IC-card system;model-...</td>\n",
       "      <td>NaN</td>\n",
       "      <td>NaN</td>\n",
       "      <td>NaN</td>\n",
       "      <td>6.0</td>\n",
       "      <td>IEEE</td>\n",
       "      <td>29 May 2009</td>\n",
       "      <td>NaN</td>\n",
       "      <td>NaN</td>\n",
       "      <td>IEEE</td>\n",
       "      <td>IEEE Conferences</td>\n",
       "    </tr>\n",
       "    <tr>\n",
       "      <th>1</th>\n",
       "      <td>Model-Based Systems Engineering Implementation...</td>\n",
       "      <td>W. K. Vaneman; R. Carlson</td>\n",
       "      <td>Systems Engineering Department, Naval Postgrad...</td>\n",
       "      <td>2019 IEEE International Systems Conference (Sy...</td>\n",
       "      <td>16 Sep 2019</td>\n",
       "      <td>2019</td>\n",
       "      <td>NaN</td>\n",
       "      <td>NaN</td>\n",
       "      <td>1</td>\n",
       "      <td>6</td>\n",
       "      <td>As organizations strive to implement Model-Bas...</td>\n",
       "      <td>2472-9647</td>\n",
       "      <td>978-1-5386-8396-5</td>\n",
       "      <td>10.1109/SYSCON.2019.8836888</td>\n",
       "      <td>NaN</td>\n",
       "      <td>https://ieeexplore.ieee.org/stamp/stamp.jsp?ar...</td>\n",
       "      <td>Model-Based Systems Engineering (MBSE)</td>\n",
       "      <td>Analytical models;Organizations;Data models;To...</td>\n",
       "      <td>business data processing;organisational aspect...</td>\n",
       "      <td>MBSE environment;model-based languages;organiz...</td>\n",
       "      <td>NaN</td>\n",
       "      <td>2.0</td>\n",
       "      <td>NaN</td>\n",
       "      <td>10.0</td>\n",
       "      <td>USGov</td>\n",
       "      <td>16 Sep 2019</td>\n",
       "      <td>NaN</td>\n",
       "      <td>NaN</td>\n",
       "      <td>IEEE</td>\n",
       "      <td>IEEE Conferences</td>\n",
       "    </tr>\n",
       "  </tbody>\n",
       "</table>\n",
       "</div>"
      ],
      "text/plain": [
       "                                      Document Title  \\\n",
       "0  A generic conceptual model and actual systems ...   \n",
       "1  Model-Based Systems Engineering Implementation...   \n",
       "\n",
       "                     Authors  \\\n",
       "0               Donghun Yoon   \n",
       "1  W. K. Vaneman; R. Carlson   \n",
       "\n",
       "                                 Author Affiliations  \\\n",
       "0                             Keio University, Japan   \n",
       "1  Systems Engineering Department, Naval Postgrad...   \n",
       "\n",
       "                                   Publication Title Date Added To Xplore  \\\n",
       "0  2009 International Conference on Model-Based S...          29 May 2009   \n",
       "1  2019 IEEE International Systems Conference (Sy...          16 Sep 2019   \n",
       "\n",
       "   Publication Year  Volume  Issue Start Page End Page  \\\n",
       "0              2009     NaN    NaN         69       74   \n",
       "1              2019     NaN    NaN          1        6   \n",
       "\n",
       "                                            Abstract       ISSN  \\\n",
       "0  In this paper, a generic conceptual model and ...        NaN   \n",
       "1  As organizations strive to implement Model-Bas...  2472-9647   \n",
       "\n",
       "               ISBNs                          DOI Funding Information  \\\n",
       "0  978-1-4244-2967-7    10.1109/MBSE.2009.5031722                 NaN   \n",
       "1  978-1-5386-8396-5  10.1109/SYSCON.2019.8836888                 NaN   \n",
       "\n",
       "                                            PDF Link  \\\n",
       "0  https://ieeexplore.ieee.org/stamp/stamp.jsp?ar...   \n",
       "1  https://ieeexplore.ieee.org/stamp/stamp.jsp?ar...   \n",
       "\n",
       "                          Author Keywords  \\\n",
       "0                                     NaN   \n",
       "1  Model-Based Systems Engineering (MBSE)   \n",
       "\n",
       "                                          IEEE Terms  \\\n",
       "0  Systems engineering and theory;Information man...   \n",
       "1  Analytical models;Organizations;Data models;To...   \n",
       "\n",
       "                             INSPEC Controlled Terms  \\\n",
       "0  information management;smart cards;systems eng...   \n",
       "1  business data processing;organisational aspect...   \n",
       "\n",
       "                         INSPEC Non-Controlled Terms  Mesh_Terms  \\\n",
       "0  generic conceptual model;IC-card system;model-...         NaN   \n",
       "1  MBSE environment;model-based languages;organiz...         NaN   \n",
       "\n",
       "   Article Citation Count  Patent Citation Count  Reference Count License  \\\n",
       "0                     NaN                    NaN              6.0    IEEE   \n",
       "1                     2.0                    NaN             10.0   USGov   \n",
       "\n",
       "   Online Date  Issue Date  Meeting Date Publisher Document Identifier  \n",
       "0  29 May 2009         NaN           NaN      IEEE    IEEE Conferences  \n",
       "1  16 Sep 2019         NaN           NaN      IEEE    IEEE Conferences  "
      ]
     },
     "execution_count": 18,
     "metadata": {},
     "output_type": "execute_result"
    }
   ],
   "source": [
    "# Import as a pandas dataframe\n",
    "ieee_articles = pd.read_csv('../data/ieee_articles_1_384.csv')\n",
    "\n",
    "# Display the resulting dataframe\n",
    "ieee_articles.head(2)"
   ]
  },
  {
   "cell_type": "code",
   "execution_count": 19,
   "id": "ecde4355-44b8-4f51-9e79-ea56d6b5e1ce",
   "metadata": {},
   "outputs": [
    {
     "data": {
      "text/plain": [
       "(384, 30)"
      ]
     },
     "execution_count": 19,
     "metadata": {},
     "output_type": "execute_result"
    }
   ],
   "source": [
    "# Check the shape of the dataframe to confirm it has been imported correctly\n",
    "ieee_articles.shape"
   ]
  },
  {
   "cell_type": "code",
   "execution_count": 20,
   "id": "172b36cc-444b-4947-943a-a641f88db951",
   "metadata": {},
   "outputs": [
    {
     "data": {
      "text/plain": [
       "Index(['Document Title', 'Authors', 'Author Affiliations', 'Publication Title',\n",
       "       'Date Added To Xplore', 'Publication Year', 'Volume', 'Issue',\n",
       "       'Start Page', 'End Page', 'Abstract', 'ISSN', 'ISBNs', 'DOI',\n",
       "       'Funding Information', 'PDF Link', 'Author Keywords', 'IEEE Terms',\n",
       "       'INSPEC Controlled Terms', 'INSPEC Non-Controlled Terms', 'Mesh_Terms',\n",
       "       'Article Citation Count', 'Patent Citation Count', 'Reference Count',\n",
       "       'License', 'Online Date', 'Issue Date', 'Meeting Date', 'Publisher',\n",
       "       'Document Identifier'],\n",
       "      dtype='object')"
      ]
     },
     "execution_count": 20,
     "metadata": {},
     "output_type": "execute_result"
    }
   ],
   "source": [
    "# Check what are the columns in the dataframe\n",
    "ieee_articles.columns"
   ]
  },
  {
   "cell_type": "code",
   "execution_count": 21,
   "id": "8f112660-3c20-4a22-b117-cd1fdf535fc3",
   "metadata": {},
   "outputs": [],
   "source": [
    "# Drop the columns we don't need\n",
    "ieee_articles = ieee_articles[['Document Title', 'Abstract', 'Publication Year']]"
   ]
  },
  {
   "cell_type": "code",
   "execution_count": 22,
   "id": "b262d7b8-60a7-4821-a2f6-c14fa30eb055",
   "metadata": {},
   "outputs": [],
   "source": [
    "# Rename the columns\n",
    "ieee_articles = ieee_articles.rename(columns = {'Document Title' : 'title', \n",
    "                                                'Abstract' : 'abstract',\n",
    "                                                'Publication Year' : 'year'})"
   ]
  },
  {
   "cell_type": "code",
   "execution_count": 23,
   "id": "e24ba4df-5dda-4e80-a7fc-6cfeff6f7aba",
   "metadata": {},
   "outputs": [
    {
     "name": "stdout",
     "output_type": "stream",
     "text": [
      "<class 'pandas.core.frame.DataFrame'>\n",
      "RangeIndex: 384 entries, 0 to 383\n",
      "Data columns (total 3 columns):\n",
      " #   Column    Non-Null Count  Dtype \n",
      "---  ------    --------------  ----- \n",
      " 0   title     384 non-null    object\n",
      " 1   abstract  384 non-null    object\n",
      " 2   year      384 non-null    int64 \n",
      "dtypes: int64(1), object(2)\n",
      "memory usage: 9.1+ KB\n"
     ]
    }
   ],
   "source": [
    "# Check the dataframe types\n",
    "ieee_articles.info()"
   ]
  },
  {
   "cell_type": "code",
   "execution_count": 24,
   "id": "4f7e8702-4c9c-44a6-aa7e-be5ed693042a",
   "metadata": {},
   "outputs": [
    {
     "data": {
      "text/plain": [
       "title       0\n",
       "abstract    0\n",
       "year        0\n",
       "dtype: int64"
      ]
     },
     "execution_count": 24,
     "metadata": {},
     "output_type": "execute_result"
    }
   ],
   "source": [
    "# Check for null values\n",
    "ieee_articles.isnull().sum()"
   ]
  },
  {
   "cell_type": "markdown",
   "id": "a817e557-06e8-4ddb-90d1-7c04c2fde0b3",
   "metadata": {},
   "source": [
    "## Merge the 3 Dataframes Together"
   ]
  },
  {
   "cell_type": "markdown",
   "id": "f7854917-fee9-4a3f-98e4-04506c3bbc9a",
   "metadata": {},
   "source": [
    "As our data comes from three different sources with different formats, we had previously imported them seperately. Hence, we will now merge them all into one dataframe"
   ]
  },
  {
   "cell_type": "code",
   "execution_count": 25,
   "id": "5f06bcdc-b2ae-4458-8304-318534d1feaf",
   "metadata": {},
   "outputs": [
    {
     "name": "stdout",
     "output_type": "stream",
     "text": [
      "Science Direct articles: (209, 3)\n",
      "Incose articles: (257, 3)\n",
      "IEEE articles: (384, 3)\n"
     ]
    }
   ],
   "source": [
    "# Check the shape of each dataframe\n",
    "print(f\"Science Direct articles: {sd_articles.shape}\")\n",
    "print(f\"Incose articles: {incose_articles.shape}\")\n",
    "print(f\"IEEE articles: {ieee_articles.shape}\")"
   ]
  },
  {
   "cell_type": "code",
   "execution_count": 26,
   "id": "1f79b5ef-2a79-4ea2-984b-8ef65d032736",
   "metadata": {},
   "outputs": [
    {
     "data": {
      "text/plain": [
       "850"
      ]
     },
     "execution_count": 26,
     "metadata": {},
     "output_type": "execute_result"
    }
   ],
   "source": [
    "# Count how many articles we should have\n",
    "sd_articles.shape[0] + incose_articles.shape[0] + ieee_articles.shape[0]"
   ]
  },
  {
   "cell_type": "code",
   "execution_count": 27,
   "id": "d8733474-d724-417a-acb1-db507d508ebe",
   "metadata": {},
   "outputs": [],
   "source": [
    "# Concatinate the three dataframes into one\n",
    "journals = pd.concat([sd_articles, incose_articles, ieee_articles], ignore_index=True)"
   ]
  },
  {
   "cell_type": "code",
   "execution_count": 28,
   "id": "32781c6d-2981-46e9-96a3-5fcb900a167a",
   "metadata": {},
   "outputs": [
    {
     "data": {
      "text/plain": [
       "(850, 3)"
      ]
     },
     "execution_count": 28,
     "metadata": {},
     "output_type": "execute_result"
    }
   ],
   "source": [
    "# Check the shape of the dataframe\n",
    "journals.shape"
   ]
  },
  {
   "cell_type": "code",
   "execution_count": 29,
   "id": "c2ae3e85-18f4-4511-a961-b1f0e6f1117f",
   "metadata": {},
   "outputs": [
    {
     "data": {
      "text/html": [
       "<div>\n",
       "<style scoped>\n",
       "    .dataframe tbody tr th:only-of-type {\n",
       "        vertical-align: middle;\n",
       "    }\n",
       "\n",
       "    .dataframe tbody tr th {\n",
       "        vertical-align: top;\n",
       "    }\n",
       "\n",
       "    .dataframe thead th {\n",
       "        text-align: right;\n",
       "    }\n",
       "</style>\n",
       "<table border=\"1\" class=\"dataframe\">\n",
       "  <thead>\n",
       "    <tr style=\"text-align: right;\">\n",
       "      <th></th>\n",
       "      <th>title</th>\n",
       "      <th>abstract</th>\n",
       "      <th>year</th>\n",
       "    </tr>\n",
       "  </thead>\n",
       "  <tbody>\n",
       "    <tr>\n",
       "      <th>0</th>\n",
       "      <td>Model-based Design Process for the Early Phase...</td>\n",
       "      <td>This paper presents an approach for a model-ba...</td>\n",
       "      <td>2017</td>\n",
       "    </tr>\n",
       "    <tr>\n",
       "      <th>1</th>\n",
       "      <td>Model Based Systems Engineering using VHDL-AMS</td>\n",
       "      <td>The purpose of this paper is to contribute to ...</td>\n",
       "      <td>2013</td>\n",
       "    </tr>\n",
       "  </tbody>\n",
       "</table>\n",
       "</div>"
      ],
      "text/plain": [
       "                                               title  \\\n",
       "0  Model-based Design Process for the Early Phase...   \n",
       "1     Model Based Systems Engineering using VHDL-AMS   \n",
       "\n",
       "                                            abstract  year  \n",
       "0  This paper presents an approach for a model-ba...  2017  \n",
       "1  The purpose of this paper is to contribute to ...  2013  "
      ]
     },
     "execution_count": 29,
     "metadata": {},
     "output_type": "execute_result"
    }
   ],
   "source": [
    "# Check the content of the dataframe\n",
    "journals.head(2)"
   ]
  },
  {
   "cell_type": "code",
   "execution_count": 30,
   "id": "4093eeb8-215b-4c70-a803-b979518cdde9",
   "metadata": {},
   "outputs": [
    {
     "name": "stdout",
     "output_type": "stream",
     "text": [
      "<class 'pandas.core.frame.DataFrame'>\n",
      "RangeIndex: 850 entries, 0 to 849\n",
      "Data columns (total 3 columns):\n",
      " #   Column    Non-Null Count  Dtype \n",
      "---  ------    --------------  ----- \n",
      " 0   title     850 non-null    object\n",
      " 1   abstract  850 non-null    object\n",
      " 2   year      850 non-null    object\n",
      "dtypes: object(3)\n",
      "memory usage: 20.0+ KB\n"
     ]
    }
   ],
   "source": [
    "# Check the dataframe types\n",
    "journals.info()"
   ]
  },
  {
   "cell_type": "markdown",
   "id": "19e2f1cf-2095-4d2f-9f0f-2b42940575ab",
   "metadata": {},
   "source": [
    "## Cleaning the Data"
   ]
  },
  {
   "cell_type": "markdown",
   "id": "7fd2d7f1-0fa0-4926-b518-7e90773e4fba",
   "metadata": {},
   "source": [
    "As we have sucessfully imported all the data into one dataframe, let's continue cleaning the data"
   ]
  },
  {
   "cell_type": "code",
   "execution_count": 31,
   "id": "53efabfd-9004-457d-895b-f0b8bfbf4bc5",
   "metadata": {},
   "outputs": [],
   "source": [
    "# Change the year column to datetime format\n",
    "journals['year'] = pd.to_datetime(journals['year']).dt.year"
   ]
  },
  {
   "cell_type": "markdown",
   "id": "93f5c145-9d0e-4fdf-bde0-5e0bc8094140",
   "metadata": {},
   "source": [
    "As our data comes from three different sources, we'll also have to check for duplicates"
   ]
  },
  {
   "cell_type": "code",
   "execution_count": 32,
   "id": "c8885a95-15de-4851-a644-47a4b5eb0319",
   "metadata": {},
   "outputs": [
    {
     "data": {
      "text/plain": [
       "0"
      ]
     },
     "execution_count": 32,
     "metadata": {},
     "output_type": "execute_result"
    }
   ],
   "source": [
    "journals.duplicated().sum()"
   ]
  },
  {
   "cell_type": "markdown",
   "id": "d8db3627-c1a4-459a-8c24-40f84fa962cb",
   "metadata": {},
   "source": [
    "No duplicates were found"
   ]
  },
  {
   "cell_type": "markdown",
   "id": "33592464-f0e7-4687-8000-2ae2eb071ea3",
   "metadata": {},
   "source": [
    "## Export the Cleaned Data"
   ]
  },
  {
   "cell_type": "code",
   "execution_count": 33,
   "id": "1c7a17b4-0795-425a-b71b-69032f265fed",
   "metadata": {},
   "outputs": [],
   "source": [
    "# Export the cleaned data into a csv file\n",
    "journals.to_csv('../data/journals.csv', index=False)"
   ]
  }
 ],
 "metadata": {
  "kernelspec": {
   "display_name": "dsi-sg",
   "language": "python",
   "name": "dsi-sg"
  },
  "language_info": {
   "codemirror_mode": {
    "name": "ipython",
    "version": 3
   },
   "file_extension": ".py",
   "mimetype": "text/x-python",
   "name": "python",
   "nbconvert_exporter": "python",
   "pygments_lexer": "ipython3",
   "version": "3.9.13"
  }
 },
 "nbformat": 4,
 "nbformat_minor": 5
}
