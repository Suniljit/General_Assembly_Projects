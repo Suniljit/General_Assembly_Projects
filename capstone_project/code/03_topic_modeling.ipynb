{
 "cells": [
  {
   "cell_type": "markdown",
   "id": "3e7f9ea4-ebc7-4541-af5d-7c8cbc1b33a9",
   "metadata": {
    "jp-MarkdownHeadingCollapsed": true,
    "tags": []
   },
   "source": [
    "# Capstone Project: Topic Modelling of Academic Journals (Model-Based Systems Engineering)"
   ]
  },
  {
   "cell_type": "markdown",
   "id": "62c83ece-a75d-420a-8d38-cb74fd6d54ed",
   "metadata": {},
   "source": [
    "# 03: Topic Modeling"
   ]
  },
  {
   "cell_type": "markdown",
   "id": "1b0a31e9-0188-4cca-a174-1b3542a4e068",
   "metadata": {},
   "source": [
    "In this notebook, we will perform the following actions:\n",
    "1. Topic Modelling using LDA and HDP"
   ]
  },
  {
   "cell_type": "markdown",
   "id": "6cdff992-4c67-4de1-b296-a6d81278244b",
   "metadata": {},
   "source": [
    "## Import Libraries"
   ]
  },
  {
   "cell_type": "code",
   "execution_count": 1,
   "id": "a526d9e3-e212-4099-b622-5ef395e395e2",
   "metadata": {},
   "outputs": [
    {
     "name": "stderr",
     "output_type": "stream",
     "text": [
      "<frozen importlib._bootstrap>:228: RuntimeWarning: scipy._lib.messagestream.MessageStream size changed, may indicate binary incompatibility. Expected 56 from C header, got 64 from PyObject\n"
     ]
    }
   ],
   "source": [
    "# Import the necessary libraries\n",
    "import pandas as pd\n",
    "import numpy as np\n",
    "import matplotlib.pyplot as plt\n",
    "import seaborn as sns\n",
    "import pickle\n",
    "import gensim\n",
    "\n",
    "from sklearn.feature_extraction.text import TfidfVectorizer\n",
    "from sklearn.decomposition import LatentDirichletAllocation\n",
    "from gensim.models import HdpModel\n",
    "from gensim.corpora.dictionary import Dictionary\n",
    "from wordcloud import WordCloud\n",
    "\n",
    "# Set all columns and rows to be displayed\n",
    "pd.set_option('display.max_columns', None)\n",
    "pd.set_option('display.max_rows', None)"
   ]
  },
  {
   "cell_type": "markdown",
   "id": "f52287f4-adc2-46f5-bccf-d637abf71afb",
   "metadata": {},
   "source": [
    "## Import Data"
   ]
  },
  {
   "cell_type": "code",
   "execution_count": 2,
   "id": "9c9851fb-181e-4cb5-aac6-00194d1f24cc",
   "metadata": {},
   "outputs": [],
   "source": [
    "# Import the data for modelling\n",
    "journals = pd.read_csv('../data/journals_processed.csv')"
   ]
  },
  {
   "cell_type": "markdown",
   "id": "481ea8fe-636b-4694-9c22-894195087725",
   "metadata": {},
   "source": [
    "## Final Data Preprocessing using TF-IDF"
   ]
  },
  {
   "cell_type": "markdown",
   "id": "8f83e72e-2214-4699-8b3f-deadfe2cf219",
   "metadata": {},
   "source": [
    "In this section, we will perform our final data preprocessing using TF-IDF (Term Frequency - Inverse Document Frequency). TF-IDF is used as it takes into account how often a word appears in the whole corpus. This helps to penalize common words that appear across every document, which is not informative. "
   ]
  },
  {
   "cell_type": "code",
   "execution_count": 3,
   "id": "b32fd35f-3c13-405b-870a-c213f1975eb5",
   "metadata": {},
   "outputs": [],
   "source": [
    "# Instantiate a TF-IDF Vectorizer\n",
    "tvec_journals = TfidfVectorizer(lowercase=False, ngram_range=(1,3))\n",
    "\n",
    "# Fit and transform the text data to prepare for topic modelling\n",
    "journals_corpus = tvec_journals.fit_transform(journals['tokens'])"
   ]
  },
  {
   "cell_type": "markdown",
   "id": "9b25b21c-c555-4898-823c-a9337e995a5b",
   "metadata": {},
   "source": [
    "## Topic Modelling using Latent Dirichlet Allocation (LDA)"
   ]
  },
  {
   "cell_type": "markdown",
   "id": "a4b0c9dc-f466-43f3-852b-d1cf3e0c79e0",
   "metadata": {},
   "source": [
    "Here, we will perform topic modelling using LDA. "
   ]
  },
  {
   "cell_type": "code",
   "execution_count": 4,
   "id": "13bc0802-f065-4e91-bdc0-49ed6edae15d",
   "metadata": {},
   "outputs": [
    {
     "data": {
      "text/html": [
       "<style>#sk-container-id-1 {color: black;background-color: white;}#sk-container-id-1 pre{padding: 0;}#sk-container-id-1 div.sk-toggleable {background-color: white;}#sk-container-id-1 label.sk-toggleable__label {cursor: pointer;display: block;width: 100%;margin-bottom: 0;padding: 0.3em;box-sizing: border-box;text-align: center;}#sk-container-id-1 label.sk-toggleable__label-arrow:before {content: \"▸\";float: left;margin-right: 0.25em;color: #696969;}#sk-container-id-1 label.sk-toggleable__label-arrow:hover:before {color: black;}#sk-container-id-1 div.sk-estimator:hover label.sk-toggleable__label-arrow:before {color: black;}#sk-container-id-1 div.sk-toggleable__content {max-height: 0;max-width: 0;overflow: hidden;text-align: left;background-color: #f0f8ff;}#sk-container-id-1 div.sk-toggleable__content pre {margin: 0.2em;color: black;border-radius: 0.25em;background-color: #f0f8ff;}#sk-container-id-1 input.sk-toggleable__control:checked~div.sk-toggleable__content {max-height: 200px;max-width: 100%;overflow: auto;}#sk-container-id-1 input.sk-toggleable__control:checked~label.sk-toggleable__label-arrow:before {content: \"▾\";}#sk-container-id-1 div.sk-estimator input.sk-toggleable__control:checked~label.sk-toggleable__label {background-color: #d4ebff;}#sk-container-id-1 div.sk-label input.sk-toggleable__control:checked~label.sk-toggleable__label {background-color: #d4ebff;}#sk-container-id-1 input.sk-hidden--visually {border: 0;clip: rect(1px 1px 1px 1px);clip: rect(1px, 1px, 1px, 1px);height: 1px;margin: -1px;overflow: hidden;padding: 0;position: absolute;width: 1px;}#sk-container-id-1 div.sk-estimator {font-family: monospace;background-color: #f0f8ff;border: 1px dotted black;border-radius: 0.25em;box-sizing: border-box;margin-bottom: 0.5em;}#sk-container-id-1 div.sk-estimator:hover {background-color: #d4ebff;}#sk-container-id-1 div.sk-parallel-item::after {content: \"\";width: 100%;border-bottom: 1px solid gray;flex-grow: 1;}#sk-container-id-1 div.sk-label:hover label.sk-toggleable__label {background-color: #d4ebff;}#sk-container-id-1 div.sk-serial::before {content: \"\";position: absolute;border-left: 1px solid gray;box-sizing: border-box;top: 0;bottom: 0;left: 50%;z-index: 0;}#sk-container-id-1 div.sk-serial {display: flex;flex-direction: column;align-items: center;background-color: white;padding-right: 0.2em;padding-left: 0.2em;position: relative;}#sk-container-id-1 div.sk-item {position: relative;z-index: 1;}#sk-container-id-1 div.sk-parallel {display: flex;align-items: stretch;justify-content: center;background-color: white;position: relative;}#sk-container-id-1 div.sk-item::before, #sk-container-id-1 div.sk-parallel-item::before {content: \"\";position: absolute;border-left: 1px solid gray;box-sizing: border-box;top: 0;bottom: 0;left: 50%;z-index: -1;}#sk-container-id-1 div.sk-parallel-item {display: flex;flex-direction: column;z-index: 1;position: relative;background-color: white;}#sk-container-id-1 div.sk-parallel-item:first-child::after {align-self: flex-end;width: 50%;}#sk-container-id-1 div.sk-parallel-item:last-child::after {align-self: flex-start;width: 50%;}#sk-container-id-1 div.sk-parallel-item:only-child::after {width: 0;}#sk-container-id-1 div.sk-dashed-wrapped {border: 1px dashed gray;margin: 0 0.4em 0.5em 0.4em;box-sizing: border-box;padding-bottom: 0.4em;background-color: white;}#sk-container-id-1 div.sk-label label {font-family: monospace;font-weight: bold;display: inline-block;line-height: 1.2em;}#sk-container-id-1 div.sk-label-container {text-align: center;}#sk-container-id-1 div.sk-container {/* jupyter's `normalize.less` sets `[hidden] { display: none; }` but bootstrap.min.css set `[hidden] { display: none !important; }` so we also need the `!important` here to be able to override the default hidden behavior on the sphinx rendered scikit-learn.org. See: https://github.com/scikit-learn/scikit-learn/issues/21755 */display: inline-block !important;position: relative;}#sk-container-id-1 div.sk-text-repr-fallback {display: none;}</style><div id=\"sk-container-id-1\" class=\"sk-top-container\"><div class=\"sk-text-repr-fallback\"><pre>LatentDirichletAllocation(n_components=7, random_state=42)</pre><b>In a Jupyter environment, please rerun this cell to show the HTML representation or trust the notebook. <br />On GitHub, the HTML representation is unable to render, please try loading this page with nbviewer.org.</b></div><div class=\"sk-container\" hidden><div class=\"sk-item\"><div class=\"sk-estimator sk-toggleable\"><input class=\"sk-toggleable__control sk-hidden--visually\" id=\"sk-estimator-id-1\" type=\"checkbox\" checked><label for=\"sk-estimator-id-1\" class=\"sk-toggleable__label sk-toggleable__label-arrow\">LatentDirichletAllocation</label><div class=\"sk-toggleable__content\"><pre>LatentDirichletAllocation(n_components=7, random_state=42)</pre></div></div></div></div></div>"
      ],
      "text/plain": [
       "LatentDirichletAllocation(n_components=7, random_state=42)"
      ]
     },
     "execution_count": 4,
     "metadata": {},
     "output_type": "execute_result"
    }
   ],
   "source": [
    "# Instantiate the LDA model\n",
    "lda_model = LatentDirichletAllocation(n_components=7,\n",
    "                                     random_state=42)\n",
    "\n",
    "# Fit the model\n",
    "lda_model.fit(journals_corpus)"
   ]
  },
  {
   "cell_type": "code",
   "execution_count": 5,
   "id": "27af1838-7881-4385-8069-41279f8fcabe",
   "metadata": {},
   "outputs": [
    {
     "name": "stdout",
     "output_type": "stream",
     "text": [
      "Topic #0:\n",
      "requirement design development approach method process modeling architecture sysml tool\n",
      "\n",
      "Topic #1:\n",
      "design product development process approach architecture analysis modeling requirement paper\n",
      "\n",
      "Topic #2:\n",
      "design analysis approach development requirement architecture sysml tool product modeling\n",
      "\n",
      "Topic #3:\n",
      "approach design sysml requirement modeling analysis development process paper data\n",
      "\n",
      "Topic #4:\n",
      "design process modeling approach simulation sysml tool paper requirement language\n",
      "\n",
      "Topic #5:\n",
      "development product process design approach method paper support concept complexity\n",
      "\n",
      "Topic #6:\n",
      "design approach sysml development modeling tool architecture process language simulation\n",
      "\n"
     ]
    }
   ],
   "source": [
    "# Extract the top words for each topic\n",
    "feature_names = tvec_journals.get_feature_names_out()\n",
    "n_top_words = 10\n",
    "for topic_idx, topic in enumerate(lda_model.components_):\n",
    "    print(\"Topic #%d:\" %topic_idx)\n",
    "    print(\" \".join([feature_names[i] for i in topic.argsort()[:-n_top_words -1:-1]]))\n",
    "    print()\n",
    "    \n",
    "# Extract the topic distribution for each journal\n",
    "journal_topic_dist = lda_model.transform(journals_corpus)\n",
    "\n",
    "# Create a dataframe to store the journal topics probability distribution\n",
    "df_journal_topic_dist = pd.DataFrame(journal_topic_dist, columns=['topic_0', 'topic_1', 'topic_2', 'topic_3', 'topic_4', 'topic_5', 'topic_6'])\n",
    "\n",
    "# Add in a column with the topic generated \n",
    "df_journal_topic_dist['topic_generated'] = journal_topic_dist.argmax(axis=1)\n",
    "\n",
    "# Add in the title of the journal\n",
    "df_journal_topic_dist['title'] = journals['title']\n",
    "\n",
    "# Add in the publication year of each journal\n",
    "df_journal_topic_dist['year'] = journals['year'] "
   ]
  },
  {
   "cell_type": "code",
   "execution_count": 6,
   "id": "9a73c916-3e65-4cf7-8fee-265b16c8ea97",
   "metadata": {},
   "outputs": [
    {
     "data": {
      "text/html": [
       "<div>\n",
       "<style scoped>\n",
       "    .dataframe tbody tr th:only-of-type {\n",
       "        vertical-align: middle;\n",
       "    }\n",
       "\n",
       "    .dataframe tbody tr th {\n",
       "        vertical-align: top;\n",
       "    }\n",
       "\n",
       "    .dataframe thead th {\n",
       "        text-align: right;\n",
       "    }\n",
       "</style>\n",
       "<table border=\"1\" class=\"dataframe\">\n",
       "  <thead>\n",
       "    <tr style=\"text-align: right;\">\n",
       "      <th></th>\n",
       "      <th>topic_0</th>\n",
       "      <th>topic_1</th>\n",
       "      <th>topic_2</th>\n",
       "      <th>topic_3</th>\n",
       "      <th>topic_4</th>\n",
       "      <th>topic_5</th>\n",
       "      <th>topic_6</th>\n",
       "      <th>topic_generated</th>\n",
       "      <th>title</th>\n",
       "      <th>year</th>\n",
       "    </tr>\n",
       "  </thead>\n",
       "  <tbody>\n",
       "    <tr>\n",
       "      <th>0</th>\n",
       "      <td>0.009956</td>\n",
       "      <td>0.009963</td>\n",
       "      <td>0.009953</td>\n",
       "      <td>0.009952</td>\n",
       "      <td>0.940248</td>\n",
       "      <td>0.009955</td>\n",
       "      <td>0.009973</td>\n",
       "      <td>4</td>\n",
       "      <td>Model-based Design Process for the Early Phase...</td>\n",
       "      <td>2017</td>\n",
       "    </tr>\n",
       "    <tr>\n",
       "      <th>1</th>\n",
       "      <td>0.009406</td>\n",
       "      <td>0.943557</td>\n",
       "      <td>0.009408</td>\n",
       "      <td>0.009406</td>\n",
       "      <td>0.009407</td>\n",
       "      <td>0.009406</td>\n",
       "      <td>0.009409</td>\n",
       "      <td>1</td>\n",
       "      <td>Model Based Systems Engineering using VHDL-AMS</td>\n",
       "      <td>2013</td>\n",
       "    </tr>\n",
       "    <tr>\n",
       "      <th>2</th>\n",
       "      <td>0.009466</td>\n",
       "      <td>0.009468</td>\n",
       "      <td>0.009464</td>\n",
       "      <td>0.009466</td>\n",
       "      <td>0.943190</td>\n",
       "      <td>0.009469</td>\n",
       "      <td>0.009477</td>\n",
       "      <td>4</td>\n",
       "      <td>Code Generation Approach Supporting Complex Sy...</td>\n",
       "      <td>2022</td>\n",
       "    </tr>\n",
       "    <tr>\n",
       "      <th>3</th>\n",
       "      <td>0.008307</td>\n",
       "      <td>0.008312</td>\n",
       "      <td>0.950154</td>\n",
       "      <td>0.008303</td>\n",
       "      <td>0.008308</td>\n",
       "      <td>0.008305</td>\n",
       "      <td>0.008311</td>\n",
       "      <td>2</td>\n",
       "      <td>Model based systems engineering as enabler for...</td>\n",
       "      <td>2021</td>\n",
       "    </tr>\n",
       "    <tr>\n",
       "      <th>4</th>\n",
       "      <td>0.009831</td>\n",
       "      <td>0.009839</td>\n",
       "      <td>0.009840</td>\n",
       "      <td>0.009830</td>\n",
       "      <td>0.009834</td>\n",
       "      <td>0.940982</td>\n",
       "      <td>0.009844</td>\n",
       "      <td>5</td>\n",
       "      <td>Electric Drive Vehicle Development and Evaluat...</td>\n",
       "      <td>2014</td>\n",
       "    </tr>\n",
       "  </tbody>\n",
       "</table>\n",
       "</div>"
      ],
      "text/plain": [
       "    topic_0   topic_1   topic_2   topic_3   topic_4   topic_5   topic_6  \\\n",
       "0  0.009956  0.009963  0.009953  0.009952  0.940248  0.009955  0.009973   \n",
       "1  0.009406  0.943557  0.009408  0.009406  0.009407  0.009406  0.009409   \n",
       "2  0.009466  0.009468  0.009464  0.009466  0.943190  0.009469  0.009477   \n",
       "3  0.008307  0.008312  0.950154  0.008303  0.008308  0.008305  0.008311   \n",
       "4  0.009831  0.009839  0.009840  0.009830  0.009834  0.940982  0.009844   \n",
       "\n",
       "   topic_generated                                              title  year  \n",
       "0                4  Model-based Design Process for the Early Phase...  2017  \n",
       "1                1     Model Based Systems Engineering using VHDL-AMS  2013  \n",
       "2                4  Code Generation Approach Supporting Complex Sy...  2022  \n",
       "3                2  Model based systems engineering as enabler for...  2021  \n",
       "4                5  Electric Drive Vehicle Development and Evaluat...  2014  "
      ]
     },
     "execution_count": 6,
     "metadata": {},
     "output_type": "execute_result"
    }
   ],
   "source": [
    "df_journal_topic_dist.head()"
   ]
  },
  {
   "cell_type": "markdown",
   "id": "274fe01f-0805-4fd2-b0d0-ee4224975197",
   "metadata": {},
   "source": [
    "The LDA model is able to generate the topics, based on the number of topics we had specified. However, many of the keywords across the topics are the same. This makes it difficult to generate a proper label for each topic. Furthermore, we are unsure of the number of topics to assign and are applying a trial and error approach. As such, we'll explore other models and compare their results."
   ]
  },
  {
   "cell_type": "markdown",
   "id": "066b2e44-c164-4af5-b15d-1aa59a50b0ce",
   "metadata": {},
   "source": [
    "## Topic Modeling using Hierarchical Dirichlet Process (HDP)"
   ]
  },
  {
   "cell_type": "code",
   "execution_count": 7,
   "id": "d3173d44-0935-4d79-996a-2b2009bd9dbd",
   "metadata": {
    "scrolled": true,
    "tags": []
   },
   "outputs": [
    {
     "name": "stdout",
     "output_type": "stream",
     "text": [
      "(0, [('pattern', 0.00010714731443079997), ('design', 0.00010692141383283276), ('simulation', 9.660619040932919e-05), ('modeling', 8.714699192192052e-05), ('need', 8.495269076675641e-05), ('language', 8.441854694319732e-05), ('sysml', 7.883500247768128e-05), ('problem', 7.538762815897994e-05), ('understand adoption strategy', 7.511145007649122e-05), ('development', 7.425534151876296e-05), ('study', 7.371653813166287e-05), ('method', 7.318744040560228e-05), ('uncertainty', 6.882367345619179e-05), ('framework', 6.861016280297731e-05), ('view', 6.85830905556617e-05), ('improved', 6.747256570438712e-05), ('test', 6.705802245252899e-05), ('negating factor wide', 6.64094209174884e-05), ('analysis', 6.625240617101234e-05), ('research', 6.363334705115212e-05)])\n",
      "(1, [('swarm', 0.00013827511156118787), ('requirement', 9.150930216860144e-05), ('tree', 9.0365756482248e-05), ('account realistic adaptation', 7.903873780993692e-05), ('category', 7.373299645704282e-05), ('hierarchy recommended pre', 7.223743217963483e-05), ('providing traceability design', 6.637033563879413e-05), ('inspection', 6.572172619348707e-05), ('element flight', 6.508115860550862e-05), ('failure risk', 6.438158254858627e-05), ('evolution demonstrate application', 6.351347551744325e-05), ('design', 6.27325583739585e-05), ('fault', 6.256617483848593e-05), ('self optimize communicate', 6.227441340214567e-05), ('safety', 6.129646080557026e-05), ('europa', 6.108377161534348e-05), ('process', 6.057645380636704e-05), ('design powered requirement', 6.028722767626966e-05), ('perspective still', 5.992216201064646e-05), ('key criterion industry', 5.911542081423893e-05)])\n",
      "(2, [('digital', 0.0001156099190289146), ('design', 7.999252378485584e-05), ('complex distributed automation', 7.442335332764613e-05), ('decf', 7.284117885639573e-05), ('involve hardware software', 6.901022110985626e-05), ('grid connection', 6.625354840239024e-05), ('approach numerous sub', 6.529790562480736e-05), ('consistency configuration', 6.472634915689555e-05), ('work consistent', 6.147118401068619e-05), ('rather completeness', 6.060116889274346e-05), ('sophisticated specification', 6.036980377896813e-05), ('development', 5.9922187959588086e-05), ('executable black box', 5.8521315905297985e-05), ('sysml rts', 5.814698001913985e-05), ('competency', 5.796653041211266e-05), ('challenge outlined assist', 5.7749461575939897e-05), ('product', 5.745673059248894e-05), ('pattern span logical', 5.72520052419581e-05), ('process', 5.702653899444282e-05), ('virtual', 5.6746509910448184e-05)])\n",
      "(3, [('sl', 8.729777672831535e-05), ('payload', 8.134403123493181e-05), ('consistently link', 8.060332780248293e-05), ('approach solution physical', 7.33678419883224e-05), ('suas', 7.052480888590474e-05), ('focused digitally transforming', 6.843088061744605e-05), ('extract set', 6.79042354236624e-05), ('decision making system', 6.780631538786457e-05), ('complex error prone', 6.755765561048234e-05), ('vehicle', 6.70613500683606e-05), ('intended enhance productivity', 6.615066959085365e-05), ('de laval nozzle', 6.480257571016389e-05), ('beginning verification', 6.426779519154145e-05), ('without burden complex', 5.934823869729387e-05), ('detailed risk decision', 5.7521788105475344e-05), ('such software', 5.750127948416266e-05), ('traffic', 5.739098281864291e-05), ('formerly known', 5.677879343073832e-05), ('industrial automation', 5.6105514460330374e-05), ('instruction coming highest', 5.565117341013972e-05)])\n",
      "(4, [('simulation ontimization', 7.934098415527371e-05), ('weapon', 7.03864334998724e-05), ('ongoing integration intelligent', 6.93826080689619e-05), ('hub purpose', 6.4609844832626e-05), ('twin', 6.389854084940764e-05), ('cubesat', 6.383595560183318e-05), ('objective response enj', 6.317030115406771e-05), ('digital twin', 6.15912838316031e-05), ('mission', 6.155669853317471e-05), ('condition activity go', 6.076099726485694e-05), ('activity method one', 6.039582110093452e-05), ('become difficult', 5.8775243925783976e-05), ('information aqpi link', 5.860635188121823e-05), ('wsaf', 5.852959075983075e-05), ('test evaluation activity', 5.827714924658928e-05), ('applied incrementally build', 5.816002731643171e-05), ('table showing traceability', 5.809334025623509e-05), ('proven operational capability', 5.777301398322732e-05), ('stm', 5.7174938981784855e-05), ('found literature', 5.68746977459216e-05)])\n"
     ]
    }
   ],
   "source": [
    "# Convert the vectorized data into a Gensim corpus\n",
    "corpus = gensim.matutils.Sparse2Corpus(journals_corpus, documents_columns=False)\n",
    "\n",
    "# Create a dictionary from the corpus\n",
    "id2word = Dictionary.from_corpus(corpus, id2word=dict((id, word) for word, id in tvec_journals.vocabulary_.items()))\n",
    "\n",
    "# Train the HDP model\n",
    "hdp_model = HdpModel(corpus=corpus, id2word=id2word)\n",
    "\n",
    "# Print the topics\n",
    "topics = hdp_model.show_topics(num_topics=5,formatted=False)\n",
    "for topic in topics:\n",
    "    print(topic)"
   ]
  },
  {
   "cell_type": "markdown",
   "id": "c502c04b-88a4-4868-b1bd-0b74cac8e31a",
   "metadata": {},
   "source": [
    "The HDP model does not seem to be very helpful, as it outputs a total of 150 topics. Meaning each topic is assigned approximately 5-6 articles. Furthermore, each keyword for each topic only has a 0.1% or less probability of being associated to the topic. This does not allow us to gain much insight. Hence, we will not be using the HDP model.\n",
    "*The total number of topics generated can be seen by adjusting the num_topics hyperparameter above to 200. You will observe that 150 topics will be generated.*"
   ]
  },
  {
   "cell_type": "markdown",
   "id": "01684855-87b8-44c9-b30a-66974bdb12f2",
   "metadata": {},
   "source": [
    "## Next Step"
   ]
  },
  {
   "cell_type": "markdown",
   "id": "e316b369-7835-414f-9a72-9073ca03c323",
   "metadata": {},
   "source": [
    "From this notebook, we have assessed that the LDA and HDP models do not perform well enough. In the next notebook, we will apply a more advanced topic model, namely the BERTopic model."
   ]
  }
 ],
 "metadata": {
  "kernelspec": {
   "display_name": "dsi-sg",
   "language": "python",
   "name": "dsi-sg"
  },
  "language_info": {
   "codemirror_mode": {
    "name": "ipython",
    "version": 3
   },
   "file_extension": ".py",
   "mimetype": "text/x-python",
   "name": "python",
   "nbconvert_exporter": "python",
   "pygments_lexer": "ipython3",
   "version": "3.9.13"
  }
 },
 "nbformat": 4,
 "nbformat_minor": 5
}
